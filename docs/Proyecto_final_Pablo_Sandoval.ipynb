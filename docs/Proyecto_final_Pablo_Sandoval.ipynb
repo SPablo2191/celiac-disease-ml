{
  "cells": [
    {
      "cell_type": "markdown",
      "metadata": {
        "colab_type": "text",
        "id": "view-in-github"
      },
      "source": [
        "<a href=\"https://colab.research.google.com/github/SPablo2191/celiac-disease-ml/blob/main/Proyecto_final_Pablo_Sandoval.ipynb\" target=\"_parent\"><img src=\"https://colab.research.google.com/assets/colab-badge.svg\" alt=\"Open In Colab\"/></a>"
      ]
    },
    {
      "cell_type": "markdown",
      "metadata": {
        "id": "RyS__TbB3_RV"
      },
      "source": [
        "# Proyecto: \"Predicción de la Enfermedad Celíaca en Nuevos Pacientes utilizando Análisis de Datos y Machine Learning\"\n",
        "Autor: [Sandoval, Pablo](https://github.com/SPablo2191)"
      ]
    },
    {
      "cell_type": "markdown",
      "metadata": {
        "id": "5XAPZt5ds-3d"
      },
      "source": [
        "# Abstract\n",
        "La enfermedad celíaca es un trastorno autoinmune crónico del sistema digestivo que afecta a millones de personas en todo el mundo. La detección temprana y precisa de esta enfermedad es crucial para mejorar la calidad de vida de los pacientes y prevenir complicaciones a largo plazo. En este contexto, este estudio se centra en la predicción de la enfermedad celíaca en nuevos pacientes mediante el uso de técnicas de análisis de datos y machine learning.\n",
        "\n",
        "La enfermedad celíaca es una afección compleja y multifactorial que puede ser desafiante de diagnosticar. Se ha observado una creciente incidencia de esta enfermedad en los últimos años, lo que destaca la importancia de desarrollar herramientas de detección eficaces. El diagnóstico tradicional se basa en pruebas serológicas, endoscopias y biopsias, que pueden ser invasivas y costosas. Por lo tanto, existe una necesidad apremiante de métodos de diagnóstico no invasivos y precisos que puedan identificar la enfermedad en una etapa temprana.\n",
        "\n",
        "Este proyecto busca abordar esta problemática mediante el uso de un conjunto de datos que contiene información demográfica y clínica de pacientes, incluyendo edad, género, presencia de síntomas gastrointestinales y resultados de pruebas inmunológicas. El objetivo principal es desarrollar un modelo de machine learning capaz de predecir si un nuevo paciente tiene enfermedad celíaca o no en función de estas características. Esto tiene el potencial de proporcionar a los médicos una herramienta valiosa para ayudar en el diagnóstico y la toma de decisiones clínicas.\n",
        "\n",
        "El enfoque de este proyecto se basa en el análisis exploratorio de datos para comprender mejor las relaciones entre las variables y en la identificación de las características más relevantes para la predicción. Se utilizarán técnicas de preprocesamiento de datos para limpiar y preparar el conjunto de datos, y se evaluarán varios algoritmos de machine learning, como la Regresión Logística y Random Forest, para determinar cuál proporciona el mejor rendimiento en términos de precisión y capacidad de generalización.\n",
        "\n",
        "La contribución principal de este estudio radica en la posibilidad de ofrecer a los profesionales de la salud una herramienta de apoyo en el diagnóstico de la enfermedad celíaca. La capacidad de predecir la enfermedad a partir de datos clínicos y demográficos podría acelerar el proceso de diagnóstico, reducir costos y minimizar la necesidad de procedimientos invasivos. Además, podría ayudar a identificar casos de enfermedad celíaca en una etapa temprana, lo que es esencial para evitar complicaciones a largo plazo."
      ]
    },
    {
      "cell_type": "markdown",
      "metadata": {
        "id": "3cAGXTgiii86"
      },
      "source": [
        "# Objetivo del Proyecto:\n",
        "La enfermedad celíaca, un trastorno autoinmune del sistema digestivo, afecta a un número significativo de personas en todo el mundo. Su diagnóstico temprano y preciso es esencial para mejorar la calidad de vida de los pacientes y evitar complicaciones graves a largo plazo. En este contexto, el presente proyecto se dedica a revolucionar el diagnóstico de la enfermedad celíaca mediante el uso de tecnología de vanguardia y análisis de datos avanzados.\n",
        "\n",
        "La enfermedad celíaca es una afección compleja y multifactorial, lo que la hace desafiante de detectar. A medida que aumenta su incidencia en la población, la necesidad de métodos de diagnóstico más eficaces se vuelve urgente. Los diagnósticos tradicionales a menudo involucran pruebas invasivas y costosas, como biopsias y endoscopias. Por lo tanto, el objetivo principal es desarrollar un enfoque de diagnóstico no invasivo, preciso y temprano que pueda identificar la enfermedad en sus primeras etapas.\n",
        "\n",
        "El proyecto se basa en un conjunto de datos rico en información, que incluye datos demográficos, clínicos y resultados de pruebas inmunológicas de pacientes. Utilizaremos estos datos para entrenar un modelo de machine learning capaz de predecir si un nuevo paciente tiene enfermedad celíaca. Esto no solo ayudará a los médicos en la toma de decisiones clínicas, sino que también acelerará el proceso de diagnóstico, reducirá costos y minimizará la necesidad de procedimientos invasivos.\n",
        "\n",
        "La contribución más significativa radica en proporcionar a los profesionales de la salud una herramienta de apoyo que potencie relativamente el diagnóstico de la enfermedad celíaca. La capacidad de predecir la enfermedad a partir de datos clínicos y demográficos tiene el potencial de cambiar la forma en que abordamos esta afección. Al identificar casos de enfermedad celíaca en sus primeras etapas, podemos ofrecer a los pacientes un inicio temprano de tratamientos efectivos y, en última instancia, mejorar su calidad de vida."
      ]
    },
    {
      "cell_type": "markdown",
      "metadata": {
        "id": "CITRfoyyl8GB"
      },
      "source": [
        "# Contexto Comercial\n",
        "La enfermedad celíaca es una afección compleja y multifactorial que ha experimentado un aumento significativo en su incidencia. Esto ha llevado a una creciente demanda de métodos de diagnóstico más eficaces y accesibles. Los diagnósticos tradicionales a menudo implican procedimientos invasivos y costosos, lo que representa una carga tanto para los pacientes como para los sistemas de atención médica.\n",
        "\n",
        "El objetivo principal es desarrollar una solución de diagnóstico no invasiva basada en un conjunto de datos enriquecido, que incluye información demográfica, clínica y resultados de pruebas inmunológicas. A partir de esto, desde un punto de vista comercial, esta innovación representa una oportunidad significativa. El modelo de machine learning desarrollado en este proyecto pueden ser adaptado y licenciado para su uso en clínicas y sistemas de atención médica en todo el mundo. Esto no solo proporcionará a las empresas una ventaja competitiva en el mercado de la atención médica, sino que también contribuirá a mejorar la salud y el bienestar de las personas. Ademas con mayor información que este disponga, mejor sera su precisión y exactitud a la hora de hacer su predicciones.\n",
        "La contribución comercial clave de este estudio radica en la posibilidad de brindar soluciones de diagnóstico efectivas y escalables que aborden una necesidad médica creciente. La detección temprana de la enfermedad celíaca no solo mejora la calidad de vida de los pacientes, sino que también presenta una oportunidad de crecimiento en el mercado de la salud. Al brindar una herramienta precisa y no invasiva, las empresas pueden posicionarse como líderes en el cuidado de la salud y contribuir a un mundo más saludable y consciente."
      ]
    },
    {
      "cell_type": "markdown",
      "metadata": {
        "id": "PyA5Uhporacp"
      },
      "source": [
        "# Problemas Comerciales:\n",
        "La enfermedad celíaca, un trastorno autoinmune crónico del sistema digestivo que afecta a millones en todo el mundo, plantea desafíos tanto médicos como comerciales. La detección precisa y temprana es crucial para mejorar la calidad de vida de los pacientes y prevenir complicaciones a largo plazo. A medida que la incidencia de la enfermedad ha ido en aumento, se han vuelto evidentes los problemas comerciales que rodean su diagnóstico y tratamiento.[(ALG ANMAT - 2020)](https://www.argentina.gob.ar/sites/default/files/anmat_informe_encuesta_alg_2020_actualizado.pdf)\n",
        "\n",
        "El diagnóstico tradicional de la enfermedad celíaca involucra pruebas serológicas, endoscopias y biopsias, procedimientos invasivos y costosos. La necesidad urgente es desarrollar herramientas de diagnóstico no invasivas y precisas basadas en análisis de datos y machine learning, lo que aceleraría el proceso diagnóstico y reduciría los costos médicos asociados.\n",
        "\n",
        "Además, el aumento en la incidencia de la enfermedad crea una mayor demanda de servicios de atención médica, lo que ejerce presión sobre los sistemas de salud. La implementación de modelos de detección temprana podría aliviar esta carga y reducir los costos a largo plazo.\n",
        "\n",
        "La recopilación de datos clínicos precisos es fundamental para un diagnóstico preciso, pero puede ser un desafío en entornos clínicos. La solución radica en la implementación de sistemas de información de salud (HIS) eficientes que faciliten la recopilación y el almacenamiento de datos de alta calidad.\n",
        "\n",
        "La falta de conciencia y comprensión de la enfermedad celíaca puede retrasar el diagnóstico y el tratamiento. Por lo tanto, es necesario llevar a cabo campañas de concientización pública y proporcionar recursos educativos tanto para profesionales de la salud como para pacientes.\n",
        "\n",
        "A pesar de la creciente demanda de soluciones de diagnóstico y cuidado de la salud, algunas áreas del mercado de la enfermedad celíaca aún no se han aprovechado por completo. Identificar nichos de mercado y oportunidades no exploradas, como la telemedicina especializada en enfermedad celíaca o una mayor comercialización de productos alimenticios libres de gluten, podría ser beneficioso (hoy por hoy, son limitadas las opciones o por su demanda no reconocida, obliga a que sean percibidos un menor numero que el real y obligue a aumento en su valor en la venta).\n",
        "\n",
        "Por último, es esencial abordar los costos de atención médica asociados con diagnósticos tardíos y procedimientos invasivos. La implementación de modelos de atención médica más eficientes y costo-efectivos que se centren en el diagnóstico temprano y el manejo efectivo de la enfermedad es crucial para garantizar que la atención médica sea sostenible."
      ]
    },
    {
      "cell_type": "markdown",
      "metadata": {
        "id": "tPE-QDg1E5V-"
      },
      "source": [
        "# Contexto Analítico:\n",
        "\n",
        "En el contexto analítico de este proyecto, nos enfrentamos a un conjunto de datos que abarca una amplia gama de variables relacionadas con la enfermedad celíaca. Estas variables incluyen información demográfica, clínica y resultados de pruebas inmunológicas de pacientes. El objetivo principal es utilizar estas variables para desarrollar un modelo de machine learning capaz de predecir si un paciente tiene enfermedad celíaca o no.\n",
        "\n",
        "Las variables clave en este conjunto de datos incluyen la edad (Age), el género (Gender), la presencia de diabetes (Diabetes) y su tipo (Diabetes Type), así como síntomas gastrointestinales como diarrea (Diarrhoea), dolor abdominal (Abdominal), estatura baja (Short_Stature) y heces pegajosas (Sticky_Stool). Además, se registran datos relacionados con la pérdida de peso (Weight_loss) y los resultados de pruebas inmunológicas específicas, como IgA, IgG e IgM.\n",
        "\n",
        "La variable \"Marsh\" indica el grado de daño en la mucosa intestinal, que es un indicador importante para el diagnóstico de la enfermedad celíaca. Además, se registra el tipo de enfermedad celíaca (cd_type) y el diagnóstico de enfermedad (Disease_Diagnose), que servirán como etiquetas de clase en el proceso de modelado.\n",
        "\n",
        "El análisis exploratorio de datos desempeñará un papel fundamental en este contexto, ya que nos permitirá comprender mejor las relaciones entre estas variables y su relevancia en la predicción de la enfermedad celíaca. Las técnicas de preprocesamiento de datos serán esenciales para limpiar y preparar el conjunto de datos, incluida la manejo de valores faltantes y la codificación de variables categóricas.\n",
        "\n",
        "\n"
      ]
    },
    {
      "cell_type": "markdown",
      "metadata": {
        "id": "lvjozuSu29XY"
      },
      "source": [
        "# Preguntas de Interes:\n",
        "A continuación se destacan las preguntas que mayor relevancia pueden tener en función al dataset propuesto y su correspondiente justificación:\n",
        "- ¿Cuales son los factores principales o de mayor relevancia que determina el diagnostico de celiaquia a un paciente?\n",
        "- ¿Cuáles son los síntomas gastrointestinales más comunes en los pacientes con enfermedad celíaca?\n",
        "  - Esta pregunta busca identificar los síntomas predominantes que podrían indicar la presencia de enfermedad celíaca y ayudar en el diagnóstico temprano.\n",
        "\n",
        "- ¿Existe una relación entre el género y la prevalencia de la enfermedad celíaca?\n",
        "  - Esta pregunta se enfoca en determinar si hay diferencias significativas en la prevalencia de la enfermedad entre géneros.\n",
        "\n",
        "- ¿Cuál es la distribución de edades en los pacientes diagnosticados con enfermedad celíaca?\n",
        "  - Esta pregunta busca comprender la distribución de edades de los pacientes afectados y si hay diferencias significativas en las edades de diagnóstico.\n",
        "\n",
        "- ¿Qué pruebas inmunológicas (IgA, IgG, IgM) están más correlacionadas con el diagnóstico de enfermedad celíaca?\n",
        "  - Esta pregunta tiene como objetivo identificar cuáles de las pruebas inmunológicas tienen una correlación más fuerte con el diagnóstico de la enfermedad.\n",
        "\n",
        "- ¿Qué síntomas gastrointestinales se asocian más fuertemente con un diagnóstico positivo de enfermedad celíaca?\n",
        "  - Esta pregunta busca identificar los síntomas que podrían ser indicativos de la enfermedad y que tienen una fuerte asociación con un diagnóstico positivo."
      ]
    },
    {
      "cell_type": "markdown",
      "metadata": {
        "id": "59P_Fsj-5mVy"
      },
      "source": [
        "# Hipotesis\n",
        "Basado en las preguntas de mayor interes e importancia, se proponen las siguiente hipotesis:\n",
        "- **Hipótesis sobre síntomas gastrointestinales:**\n",
        "Hipótesis nula (H0): No hay diferencia significativa en la prevalencia de síntomas gastrointestinales entre pacientes con y sin enfermedad celíaca.Hipótesis alternativa (H1): Existe una diferencia significativa en la prevalencia de síntomas gastrointestinales entre pacientes con y sin enfermedad celíaca.\n",
        "\n",
        "- **Hipótesis sobre género:**\n",
        "Hipótesis nula (H0): No hay diferencia significativa en la prevalencia de enfermedad celíaca entre géneros.\n",
        "Hipótesis alternativa (H1): Existe una diferencia significativa en la prevalencia de enfermedad celíaca entre géneros.\n",
        "\n",
        "-  **Hipótesis sobre edades de diagnóstico:**\n",
        " Hipótesis nula (H0): No hay diferencia significativa en las edades de diagnóstico de enfermedad celíaca.\n",
        "Hipótesis alternativa (H1): Existe una diferencia significativa en las edades de diagnóstico de enfermedad celíaca.\n",
        "\n",
        "- **Hipótesis sobre pruebas inmunológicas:**\n",
        "Hipótesis nula (H0): No hay diferencia significativa en los resultados de las pruebas inmunológicas entre pacientes con y sin enfermedad celíaca.\n",
        "Hipótesis alternativa (H1): Existe una diferencia significativa en los resultados de las pruebas inmunológicas entre pacientes con y sin enfermedad celíaca.\n",
        "\n",
        "- **Hipótesis sobre síntomas asociados:**\n",
        "Hipótesis nula (H0): No hay diferencia significativa en la prevalencia de síntomas gastrointestinales específicos entre pacientes con y sin enfermed celíaca.\n",
        "Hipótesis alternativa (H1): Existe una diferencia significativa en la prevalencia de síntomas gastrointestinales específicos entre pacientes con y sin enfermedad celíaca."
      ]
    },
    {
      "cell_type": "markdown",
      "metadata": {
        "id": "UYi_C-UVSwg1"
      },
      "source": [
        "## Origen y Descripción del Conjunto de Datos\n",
        "\n",
        "Para nutrir el proyecto de diagnóstico de la enfermedad celíaca con información integral y confiable, hemos adquirido el conjunto de datos disponible en Kaggle, específicamente proveniente del [Departamento de Biotecnología de la Universidad y Centro de Investigación de Wageningen](https://www.kaggle.com/datasets/jackwin07/celiac-disease-coeliac-disease).\n",
        "\n",
        "Este conjunto de datos tiene como objetivo principal la predicción diagnóstica de la enfermedad celíaca, determinando si un paciente presenta o no esta condición a partir de medidas diagnósticas específicas incluidas en la base de datos. Originalmente compuesto por la Wageningen University & Research Biotechnology Department, este recurso proporciona una compilación de características que permiten prever el riesgo de enfermedad celíaca.\n",
        "\n",
        "Conformado por 2206 filas y 15 columnas, el conjunto de datos abarca diversas variables médicas fundamentales, tales como edad, género, tipo de diabetes, entre otras. Estas variables se combinan para formar un conjunto de características que servirán como insumo esencial para el entrenamiento del modelo de machine learning. La diversidad y amplitud de esta información nos ofrecen la oportunidad de desarrollar un modelo robusto capaz de realizar predicciones precisas sobre la presencia de la enfermedad celíaca, contribuyendo así al avance en el diagnóstico temprano y efectivo de esta condición de salud.\n",
        "A continuación seria importado desde el archivo almacenado en drive:"
      ]
    },
    {
      "cell_type": "code",
      "execution_count": 2,
      "metadata": {
        "colab": {
          "base_uri": "https://localhost:8080/"
        },
        "id": "JUYEtfgfs0iE",
        "outputId": "feb956d4-56bb-4c7f-d382-23007ead5a01"
      },
      "outputs": [],
      "source": [
        "import pandas as pd\n",
        "import matplotlib.pyplot as plt\n",
        "import numpy as np"
      ]
    },
    {
      "cell_type": "code",
      "execution_count": 3,
      "metadata": {
        "colab": {
          "base_uri": "https://localhost:8080/",
          "height": 164
        },
        "id": "etp01-cLUAoR",
        "outputId": "720a5751-b6d0-447e-a4a3-9fb142b1e7d4"
      },
      "outputs": [
        {
          "data": {
            "text/html": [
              "<div>\n",
              "<style scoped>\n",
              "    .dataframe tbody tr th:only-of-type {\n",
              "        vertical-align: middle;\n",
              "    }\n",
              "\n",
              "    .dataframe tbody tr th {\n",
              "        vertical-align: top;\n",
              "    }\n",
              "\n",
              "    .dataframe thead th {\n",
              "        text-align: right;\n",
              "    }\n",
              "</style>\n",
              "<table border=\"1\" class=\"dataframe\">\n",
              "  <thead>\n",
              "    <tr style=\"text-align: right;\">\n",
              "      <th></th>\n",
              "      <th>Age</th>\n",
              "      <th>Gender</th>\n",
              "      <th>Diabetes</th>\n",
              "      <th>Diabetes Type</th>\n",
              "      <th>Diarrhoea</th>\n",
              "      <th>Abdominal</th>\n",
              "      <th>Short_Stature</th>\n",
              "      <th>Sticky_Stool</th>\n",
              "      <th>Weight_loss</th>\n",
              "      <th>IgA</th>\n",
              "      <th>IgG</th>\n",
              "      <th>IgM</th>\n",
              "      <th>Marsh</th>\n",
              "      <th>cd_type</th>\n",
              "      <th>Disease_Diagnose</th>\n",
              "    </tr>\n",
              "  </thead>\n",
              "  <tbody>\n",
              "    <tr>\n",
              "      <th>0</th>\n",
              "      <td>10</td>\n",
              "      <td>Male</td>\n",
              "      <td>Yes</td>\n",
              "      <td>Type 1</td>\n",
              "      <td>inflammatory</td>\n",
              "      <td>yes</td>\n",
              "      <td>PSS</td>\n",
              "      <td>no</td>\n",
              "      <td>no</td>\n",
              "      <td>1.3</td>\n",
              "      <td>10.0</td>\n",
              "      <td>1.0</td>\n",
              "      <td>marsh type 0</td>\n",
              "      <td>potential</td>\n",
              "      <td>yes</td>\n",
              "    </tr>\n",
              "    <tr>\n",
              "      <th>1</th>\n",
              "      <td>9</td>\n",
              "      <td>Male</td>\n",
              "      <td>Yes</td>\n",
              "      <td>Type 1</td>\n",
              "      <td>fatty</td>\n",
              "      <td>yes</td>\n",
              "      <td>PSS</td>\n",
              "      <td>no</td>\n",
              "      <td>no</td>\n",
              "      <td>1.5</td>\n",
              "      <td>12.5</td>\n",
              "      <td>1.3</td>\n",
              "      <td>marsh type 3a</td>\n",
              "      <td>atypical</td>\n",
              "      <td>yes</td>\n",
              "    </tr>\n",
              "  </tbody>\n",
              "</table>\n",
              "</div>"
            ],
            "text/plain": [
              "   Age Gender Diabetes Diabetes Type     Diarrhoea Abdominal Short_Stature  \\\n",
              "0   10   Male      Yes        Type 1  inflammatory       yes           PSS   \n",
              "1    9   Male      Yes        Type 1        fatty        yes           PSS   \n",
              "\n",
              "  Sticky_Stool Weight_loss  IgA   IgG  IgM          Marsh    cd_type  \\\n",
              "0           no          no  1.3  10.0  1.0   marsh type 0  potential   \n",
              "1           no          no  1.5  12.5  1.3  marsh type 3a   atypical   \n",
              "\n",
              "  Disease_Diagnose  \n",
              "0              yes  \n",
              "1              yes  "
            ]
          },
          "execution_count": 3,
          "metadata": {},
          "output_type": "execute_result"
        }
      ],
      "source": [
        "\n",
        "data = pd.read_csv('dataset_celiac.csv', delimiter=';', header=0)\n",
        "data.shape\n",
        "data.head(2)"
      ]
    },
    {
      "cell_type": "markdown",
      "metadata": {
        "id": "1iK8xp5yIbNr"
      },
      "source": [
        "# Data Wrangling\n",
        "En el proceso esencial de Data Wrangling, trascendemos los desafíos inherentes a la detección de la enfermedad celíaca. Con un enfoque audaz en la transformación y limpieza de un conjunto de datos enriquecido, abordamos la complejidad demográfica, clínica y de pruebas inmunológicas de los pacientes. Este meticuloso manejo de datos no solo sienta las bases para la alimentación del modelo de machine learning, sino que también representa la primera línea de defensa en nuestra búsqueda de un diagnóstico no invasivo, preciso y temprano. En este crucial paso, el Data Wrangling emerge como el arquitecto de la inteligencia que redefine la forma en que enfrentamos la enfermedad celíaca, promoviendo un cambio significativo en la atención médica hacia un futuro más saludable.\n",
        "\n",
        "Primeramente, se evaluara la información que se recupera del dataset cargado en el dataframe:"
      ]
    },
    {
      "cell_type": "code",
      "execution_count": 5,
      "metadata": {
        "colab": {
          "base_uri": "https://localhost:8080/",
          "height": 206
        },
        "id": "xVRpt0__Jnzw",
        "outputId": "62bcea6c-6ebf-4fd5-cb5a-84b4dfe29acd"
      },
      "outputs": [
        {
          "data": {
            "text/html": [
              "<div>\n",
              "<style scoped>\n",
              "    .dataframe tbody tr th:only-of-type {\n",
              "        vertical-align: middle;\n",
              "    }\n",
              "\n",
              "    .dataframe tbody tr th {\n",
              "        vertical-align: top;\n",
              "    }\n",
              "\n",
              "    .dataframe thead th {\n",
              "        text-align: right;\n",
              "    }\n",
              "</style>\n",
              "<table border=\"1\" class=\"dataframe\">\n",
              "  <thead>\n",
              "    <tr style=\"text-align: right;\">\n",
              "      <th></th>\n",
              "      <th>Age</th>\n",
              "      <th>Gender</th>\n",
              "      <th>Diabetes</th>\n",
              "      <th>Diabetes Type</th>\n",
              "      <th>Diarrhoea</th>\n",
              "      <th>Abdominal</th>\n",
              "      <th>Short_Stature</th>\n",
              "      <th>Sticky_Stool</th>\n",
              "      <th>Weight_loss</th>\n",
              "      <th>IgA</th>\n",
              "      <th>IgG</th>\n",
              "      <th>IgM</th>\n",
              "      <th>Marsh</th>\n",
              "      <th>cd_type</th>\n",
              "      <th>Disease_Diagnose</th>\n",
              "    </tr>\n",
              "  </thead>\n",
              "  <tbody>\n",
              "    <tr>\n",
              "      <th>0</th>\n",
              "      <td>10</td>\n",
              "      <td>Male</td>\n",
              "      <td>Yes</td>\n",
              "      <td>Type 1</td>\n",
              "      <td>inflammatory</td>\n",
              "      <td>yes</td>\n",
              "      <td>PSS</td>\n",
              "      <td>no</td>\n",
              "      <td>no</td>\n",
              "      <td>1.30</td>\n",
              "      <td>10.0</td>\n",
              "      <td>1.00</td>\n",
              "      <td>marsh type 0</td>\n",
              "      <td>potential</td>\n",
              "      <td>yes</td>\n",
              "    </tr>\n",
              "    <tr>\n",
              "      <th>1</th>\n",
              "      <td>9</td>\n",
              "      <td>Male</td>\n",
              "      <td>Yes</td>\n",
              "      <td>Type 1</td>\n",
              "      <td>fatty</td>\n",
              "      <td>yes</td>\n",
              "      <td>PSS</td>\n",
              "      <td>no</td>\n",
              "      <td>no</td>\n",
              "      <td>1.50</td>\n",
              "      <td>12.5</td>\n",
              "      <td>1.30</td>\n",
              "      <td>marsh type 3a</td>\n",
              "      <td>atypical</td>\n",
              "      <td>yes</td>\n",
              "    </tr>\n",
              "    <tr>\n",
              "      <th>2</th>\n",
              "      <td>8</td>\n",
              "      <td>Female</td>\n",
              "      <td>Yes</td>\n",
              "      <td>Type 1</td>\n",
              "      <td>watery</td>\n",
              "      <td>yes</td>\n",
              "      <td>Variant</td>\n",
              "      <td>yes</td>\n",
              "      <td>yes</td>\n",
              "      <td>0.40</td>\n",
              "      <td>8.0</td>\n",
              "      <td>0.50</td>\n",
              "      <td>marsh type 1</td>\n",
              "      <td>latent</td>\n",
              "      <td>yes</td>\n",
              "    </tr>\n",
              "    <tr>\n",
              "      <th>3</th>\n",
              "      <td>10</td>\n",
              "      <td>Male</td>\n",
              "      <td>Yes</td>\n",
              "      <td>Type 1</td>\n",
              "      <td>watery</td>\n",
              "      <td>yes</td>\n",
              "      <td>PSS</td>\n",
              "      <td>no</td>\n",
              "      <td>no</td>\n",
              "      <td>0.98</td>\n",
              "      <td>9.0</td>\n",
              "      <td>0.66</td>\n",
              "      <td>marsh type 3a</td>\n",
              "      <td>silent</td>\n",
              "      <td>yes</td>\n",
              "    </tr>\n",
              "    <tr>\n",
              "      <th>4</th>\n",
              "      <td>9</td>\n",
              "      <td>Male</td>\n",
              "      <td>Yes</td>\n",
              "      <td>Type 1</td>\n",
              "      <td>fatty</td>\n",
              "      <td>yes</td>\n",
              "      <td>PSS</td>\n",
              "      <td>no</td>\n",
              "      <td>no</td>\n",
              "      <td>1.00</td>\n",
              "      <td>10.5</td>\n",
              "      <td>1.10</td>\n",
              "      <td>marsh type 1</td>\n",
              "      <td>latent</td>\n",
              "      <td>yes</td>\n",
              "    </tr>\n",
              "  </tbody>\n",
              "</table>\n",
              "</div>"
            ],
            "text/plain": [
              "   Age  Gender Diabetes Diabetes Type     Diarrhoea Abdominal Short_Stature  \\\n",
              "0   10    Male      Yes        Type 1  inflammatory       yes           PSS   \n",
              "1    9    Male      Yes        Type 1        fatty        yes           PSS   \n",
              "2    8  Female      Yes        Type 1        watery       yes      Variant    \n",
              "3   10    Male      Yes        Type 1        watery       yes           PSS   \n",
              "4    9    Male      Yes        Type 1        fatty        yes           PSS   \n",
              "\n",
              "  Sticky_Stool Weight_loss   IgA   IgG   IgM          Marsh    cd_type  \\\n",
              "0           no          no  1.30  10.0  1.00   marsh type 0  potential   \n",
              "1           no          no  1.50  12.5  1.30  marsh type 3a   atypical   \n",
              "2          yes         yes  0.40   8.0  0.50   marsh type 1     latent   \n",
              "3           no          no  0.98   9.0  0.66  marsh type 3a     silent   \n",
              "4           no          no  1.00  10.5  1.10   marsh type 1     latent   \n",
              "\n",
              "  Disease_Diagnose  \n",
              "0              yes  \n",
              "1              yes  \n",
              "2              yes  \n",
              "3              yes  \n",
              "4              yes  "
            ]
          },
          "execution_count": 5,
          "metadata": {},
          "output_type": "execute_result"
        }
      ],
      "source": [
        "data.head()"
      ]
    },
    {
      "cell_type": "markdown",
      "metadata": {
        "id": "kb9ENwSxLhn7"
      },
      "source": [
        "Se puede observar que esos primeros datos se presentan en un formato adecuado; sin embargo, talvez a lo largo de los registros en el mismo, alla algunos datos inconsistentes o en un formato inadecuado para trabajar. A partir de esto se propone los siguientes pasos para trabajar con datos faltantes:\n",
        "\n",
        "## Identificación de datos faltantes\n",
        "\n",
        "Examinar el conjunto de datos para identificar las celdas que contienen valores faltantes. Esto nos proporcionará una visión clara de la magnitud del problema.\n"
      ]
    },
    {
      "cell_type": "code",
      "execution_count": 4,
      "metadata": {
        "colab": {
          "base_uri": "https://localhost:8080/"
        },
        "id": "lSBhQvXSNY8C",
        "outputId": "e10b73c4-3ca5-4209-f71a-25083a437fc4"
      },
      "outputs": [
        {
          "data": {
            "text/plain": [
              "Age                   0\n",
              "Gender                0\n",
              "Diabetes              0\n",
              "Diabetes Type       418\n",
              "Diarrhoea             0\n",
              "Abdominal             0\n",
              "Short_Stature         0\n",
              "Sticky_Stool          0\n",
              "Weight_loss           0\n",
              "IgA                   0\n",
              "IgG                   0\n",
              "IgM                   0\n",
              "Marsh                 0\n",
              "cd_type               0\n",
              "Disease_Diagnose      0\n",
              "dtype: int64"
            ]
          },
          "execution_count": 4,
          "metadata": {},
          "output_type": "execute_result"
        }
      ],
      "source": [
        "# Se evalua si hay NaN values\n",
        "null_values = data.isna().sum()\n",
        "null_values"
      ]
    },
    {
      "cell_type": "code",
      "execution_count": 5,
      "metadata": {
        "colab": {
          "base_uri": "https://localhost:8080/"
        },
        "id": "QLw0bF94OnbU",
        "outputId": "f8851640-121c-4a7a-ad4d-9f8abd4a5c8f"
      },
      "outputs": [
        {
          "name": "stdout",
          "output_type": "stream",
          "text": [
            "Valores Nulos:\n"
          ]
        },
        {
          "data": {
            "text/plain": [
              "Age                   0\n",
              "Gender                0\n",
              "Diabetes              0\n",
              "Diabetes Type       418\n",
              "Diarrhoea             0\n",
              "Abdominal             0\n",
              "Short_Stature         0\n",
              "Sticky_Stool          0\n",
              "Weight_loss           0\n",
              "IgA                   0\n",
              "IgG                   0\n",
              "IgM                   0\n",
              "Marsh                 0\n",
              "cd_type               0\n",
              "Disease_Diagnose      0\n",
              "dtype: int64"
            ]
          },
          "execution_count": 5,
          "metadata": {},
          "output_type": "execute_result"
        }
      ],
      "source": [
        "# Se evalua si hay valores nulos en las columnas\n",
        "print(\"Valores Nulos:\")\n",
        "data.isnull().sum()"
      ]
    },
    {
      "cell_type": "markdown",
      "metadata": {
        "id": "K8oBt2J8zSf2"
      },
      "source": [
        "# Exploracion de registros duplicados:\n",
        "A fin de asegurar la integridad de los datos, se recomienda realizar una verificación de registros duplicados en el conjunto. Esto se puede llevar a cabo mediante la siguiente línea de código:"
      ]
    },
    {
      "cell_type": "code",
      "execution_count": 6,
      "metadata": {
        "colab": {
          "base_uri": "https://localhost:8080/"
        },
        "id": "ZnB62PhizWJn",
        "outputId": "2295e87c-c06c-4415-9b7e-547074294553"
      },
      "outputs": [
        {
          "name": "stdout",
          "output_type": "stream",
          "text": [
            "Registros duplicados:\n",
            "0       False\n",
            "1       False\n",
            "2       False\n",
            "3       False\n",
            "4       False\n",
            "        ...  \n",
            "2201     True\n",
            "2202    False\n",
            "2203     True\n",
            "2204    False\n",
            "2205     True\n",
            "Length: 2206, dtype: bool\n",
            "Registros duplicados después de la eliminación:\n",
            "Empty DataFrame\n",
            "Columns: [Age, Gender, Diabetes, Diabetes Type, Diarrhoea, Abdominal, Short_Stature, Sticky_Stool, Weight_loss, IgA, IgG, IgM, Marsh, cd_type, Disease_Diagnose]\n",
            "Index: []\n"
          ]
        }
      ],
      "source": [
        "duplicates = data.duplicated()\n",
        "print(\"Registros duplicados:\")\n",
        "print(duplicates)\n",
        "data = data.drop_duplicates()\n",
        "\n",
        "# Verificar nuevamente si hay duplicados después de la eliminación\n",
        "duplicates_after_removal = data[data.duplicated()]\n",
        "print(\"Registros duplicados después de la eliminación:\")\n",
        "print(duplicates_after_removal)"
      ]
    },
    {
      "cell_type": "markdown",
      "metadata": {
        "id": "StnxrwsWPoaU"
      },
      "source": [
        "## Tratamiento de datos faltantes\n",
        "\n",
        "Tras evaluar la presencia de valores nulos en el conjunto de datos, es evidente que no se ha identificado ningún dato faltante en ninguna de las columnas. Este resultado es alentador, ya que sugiere que el conjunto de datos se encuentra completo y no requiere la eliminación de filas o columnas afectadas por valores nulos. En consecuencia, no es necesario aplicar técnicas de eliminación de datos, como descartar filas o columnas completas.\n",
        "\n",
        "En lugar de enfrentar la necesidad de eliminar datos, podemos centrar los  esfuerzos en optimizar el manejo de los datos existentes. Dado que no hay valores nulos, no es necesario recurrir a estrategias de imputación, como el reemplazo por la media, frecuencia u otras funciones."
      ]
    },
    {
      "cell_type": "markdown",
      "metadata": {
        "id": "6m27vvjnQnWj"
      },
      "source": [
        "## Modificaciones en los campos del dataset:\n",
        "En aras de asegurar la coherencia y comprensión en el contexto del presente proyecto en español,se ha  decidido llevar a cabo una refinada modificación en la nomenclatura de las columnas del conjunto de datos. Este ajuste no solo se orienta hacia una mayor afinidad con el idioma español, sino que también busca facilitar la interpretación y colaboración entre los miembros del equipo y cualquier profesional de la salud que utilice los resultados del análisis. Al asignar nombres de columnas claramente expresivos en español, fortalecemos la accesibilidad y claridad del conjunto de datos, promoviendo así una base sólida para el desarrollo y la implementación efectiva de nuestras estrategias de diagnóstico para la enfermedad celíaca."
      ]
    },
    {
      "cell_type": "code",
      "execution_count": 7,
      "metadata": {
        "colab": {
          "base_uri": "https://localhost:8080/",
          "height": 233
        },
        "id": "nWTdSOS7oM0b",
        "outputId": "31226f78-5f66-4b38-acbd-4bcee59ff2b0"
      },
      "outputs": [
        {
          "data": {
            "text/html": [
              "<div>\n",
              "<style scoped>\n",
              "    .dataframe tbody tr th:only-of-type {\n",
              "        vertical-align: middle;\n",
              "    }\n",
              "\n",
              "    .dataframe tbody tr th {\n",
              "        vertical-align: top;\n",
              "    }\n",
              "\n",
              "    .dataframe thead th {\n",
              "        text-align: right;\n",
              "    }\n",
              "</style>\n",
              "<table border=\"1\" class=\"dataframe\">\n",
              "  <thead>\n",
              "    <tr style=\"text-align: right;\">\n",
              "      <th></th>\n",
              "      <th>Edad</th>\n",
              "      <th>Género</th>\n",
              "      <th>Diabetes</th>\n",
              "      <th>Tipo_de_Diabetes</th>\n",
              "      <th>Diarrea</th>\n",
              "      <th>Abdominal</th>\n",
              "      <th>Estatura_Baja</th>\n",
              "      <th>Heces_Pegajosas</th>\n",
              "      <th>Pérdida_de_Peso</th>\n",
              "      <th>IgA</th>\n",
              "      <th>IgG</th>\n",
              "      <th>IgM</th>\n",
              "      <th>Marsh</th>\n",
              "      <th>Tipo_cd</th>\n",
              "      <th>Diagnóstico_Enfermedad</th>\n",
              "    </tr>\n",
              "  </thead>\n",
              "  <tbody>\n",
              "    <tr>\n",
              "      <th>0</th>\n",
              "      <td>10</td>\n",
              "      <td>Male</td>\n",
              "      <td>Yes</td>\n",
              "      <td>Type 1</td>\n",
              "      <td>inflammatory</td>\n",
              "      <td>yes</td>\n",
              "      <td>PSS</td>\n",
              "      <td>no</td>\n",
              "      <td>no</td>\n",
              "      <td>1.3</td>\n",
              "      <td>10.0</td>\n",
              "      <td>1.0</td>\n",
              "      <td>marsh type 0</td>\n",
              "      <td>potential</td>\n",
              "      <td>yes</td>\n",
              "    </tr>\n",
              "    <tr>\n",
              "      <th>1</th>\n",
              "      <td>9</td>\n",
              "      <td>Male</td>\n",
              "      <td>Yes</td>\n",
              "      <td>Type 1</td>\n",
              "      <td>fatty</td>\n",
              "      <td>yes</td>\n",
              "      <td>PSS</td>\n",
              "      <td>no</td>\n",
              "      <td>no</td>\n",
              "      <td>1.5</td>\n",
              "      <td>12.5</td>\n",
              "      <td>1.3</td>\n",
              "      <td>marsh type 3a</td>\n",
              "      <td>atypical</td>\n",
              "      <td>yes</td>\n",
              "    </tr>\n",
              "    <tr>\n",
              "      <th>2</th>\n",
              "      <td>8</td>\n",
              "      <td>Female</td>\n",
              "      <td>Yes</td>\n",
              "      <td>Type 1</td>\n",
              "      <td>watery</td>\n",
              "      <td>yes</td>\n",
              "      <td>Variant</td>\n",
              "      <td>yes</td>\n",
              "      <td>yes</td>\n",
              "      <td>0.4</td>\n",
              "      <td>8.0</td>\n",
              "      <td>0.5</td>\n",
              "      <td>marsh type 1</td>\n",
              "      <td>latent</td>\n",
              "      <td>yes</td>\n",
              "    </tr>\n",
              "  </tbody>\n",
              "</table>\n",
              "</div>"
            ],
            "text/plain": [
              "   Edad  Género Diabetes Tipo_de_Diabetes       Diarrea Abdominal  \\\n",
              "0    10    Male      Yes           Type 1  inflammatory       yes   \n",
              "1     9    Male      Yes           Type 1        fatty        yes   \n",
              "2     8  Female      Yes           Type 1        watery       yes   \n",
              "\n",
              "  Estatura_Baja Heces_Pegajosas Pérdida_de_Peso  IgA   IgG  IgM  \\\n",
              "0           PSS              no              no  1.3  10.0  1.0   \n",
              "1           PSS              no              no  1.5  12.5  1.3   \n",
              "2      Variant              yes             yes  0.4   8.0  0.5   \n",
              "\n",
              "           Marsh    Tipo_cd Diagnóstico_Enfermedad  \n",
              "0   marsh type 0  potential                    yes  \n",
              "1  marsh type 3a   atypical                    yes  \n",
              "2   marsh type 1     latent                    yes  "
            ]
          },
          "execution_count": 7,
          "metadata": {},
          "output_type": "execute_result"
        }
      ],
      "source": [
        "names_spanish = {\n",
        "    'Age': 'Edad',\n",
        "    'Gender': 'Género',\n",
        "    'Diabetes': 'Diabetes',\n",
        "    'Diabetes Type': 'Tipo_de_Diabetes',\n",
        "    'Diarrhoea': 'Diarrea',\n",
        "    'Abdominal': 'Abdominal',\n",
        "    'Short_Stature': 'Estatura_Baja',\n",
        "    'Sticky_Stool': 'Heces_Pegajosas',\n",
        "    'Weight_loss': 'Pérdida_de_Peso',\n",
        "    'IgA': 'IgA',\n",
        "    'IgG': 'IgG',\n",
        "    'IgM': 'IgM',\n",
        "    'Marsh': 'Marsh',\n",
        "    'cd_type': 'Tipo_cd',\n",
        "    'Disease_Diagnose': 'Diagnóstico_Enfermedad'\n",
        "}\n",
        "\n",
        "data.rename(columns=names_spanish, inplace=True)\n",
        "data.head(3)"
      ]
    },
    {
      "cell_type": "markdown",
      "metadata": {
        "id": "B4_5XJLS4gHe"
      },
      "source": [
        "## Actualización del tipo de datos\n",
        "Previamente al desarrollo del modelo, seria necesario analizar el tipo de los datos de los campos presentes en el dataset, Con el objetivo de optimizar la eficiencia y desempeño del modelo de machine learning, se llevará a cabo una significativa transformación de las variables de tipo \"object\" a valores numéricos en el conjunto de datos. Esta estrategia se implementará con el propósito de mejorar la compatibilidad con algoritmos de aprendizaje automático, permitiendo así un procesamiento más efectivo de la información. La conversión de variables categóricas a numéricas no solo facilitará la interpretación de los datos, sino que también contribuirá a la robustez y precisión de el modelo en el diagnóstico de la enfermedad celíaca. Este enfoque estratégico busca fortalecer la capacidad predictiva del modelo, asegurando que cada aspecto del conjunto de datos contribuya de manera óptima a la consecución del objetivo principal. Sin embargo, la modificación se ejecutara despues para el desarrollo del modelo predictivo."
      ]
    },
    {
      "cell_type": "code",
      "execution_count": 8,
      "metadata": {
        "colab": {
          "base_uri": "https://localhost:8080/"
        },
        "id": "0xN8gae367MM",
        "outputId": "1bad59b9-cdb0-4239-e012-1cd61d8479f7"
      },
      "outputs": [
        {
          "data": {
            "text/plain": [
              "Edad                        int64\n",
              "Género                     object\n",
              "Diabetes                   object\n",
              "Tipo_de_Diabetes           object\n",
              "Diarrea                    object\n",
              "Abdominal                  object\n",
              "Estatura_Baja              object\n",
              "Heces_Pegajosas            object\n",
              "Pérdida_de_Peso            object\n",
              "IgA                       float64\n",
              "IgG                       float64\n",
              "IgM                       float64\n",
              "Marsh                      object\n",
              "Tipo_cd                    object\n",
              "Diagnóstico_Enfermedad     object\n",
              "dtype: object"
            ]
          },
          "execution_count": 8,
          "metadata": {},
          "output_type": "execute_result"
        }
      ],
      "source": [
        "data.dtypes"
      ]
    },
    {
      "cell_type": "code",
      "execution_count": 9,
      "metadata": {
        "id": "ZCnGoxAJt-49"
      },
      "outputs": [],
      "source": [
        "import seaborn as sns"
      ]
    },
    {
      "cell_type": "code",
      "execution_count": 6,
      "metadata": {
        "colab": {
          "base_uri": "https://localhost:8080/"
        },
        "id": "7KYiSvWiKIgp",
        "outputId": "426b7bb8-f35c-4424-95df-803807e99517"
      },
      "outputs": [
        {
          "name": "stdout",
          "output_type": "stream",
          "text": [
            "Age : [10  9  8  5  6  4  7 12 14 11 13  3  1 18 22 31 21 17 15 32 35 29 16 20\n",
            " 25 28 26 19 23 24 30 33]\n",
            "Gender : ['Male' 'Female']\n",
            "Diabetes : ['Yes' 'no']\n",
            "Diabetes Type : ['Type 1' nan 'Type 2']\n",
            "Diarrhoea : ['inflammatory' 'fatty ' 'watery']\n",
            "Abdominal : ['yes' 'no']\n",
            "Short_Stature : ['PSS' 'Variant ' 'DSS']\n",
            "Sticky_Stool : ['no' 'yes']\n",
            "Weight_loss : ['no' 'yes']\n",
            "IgA : [1.3  1.5  0.4  0.98 1.   1.1  2.1  0.8  0.42 0.56 0.51 1.7  2.   0.97\n",
            " 1.4  0.34 1.9  1.6  1.8  0.46 0.5  2.5  0.71 0.95 0.93 2.6  1.2  0.96\n",
            " 0.9  0.6  9.   2.4  0.92 1.66 2.3 ]\n",
            "IgG : [10.  12.5  8.   9.  10.5  9.5 11.4 12.  11.5 11.   7.  13.4  9.1 12.3\n",
            " 12.1 11.8 10.1  9.8 12.2 13.   8.9  9.4  8.7  7.3  6.1 15.3  5.  14.2\n",
            "  6.  11.3  6.9  8.1 13.1 14.   8.5 11.1]\n",
            "IgM : [1.   1.3  0.5  0.66 1.1  0.98 1.2  0.91 1.5  1.77 1.8  0.9  2.   2.7\n",
            " 1.9  1.7  0.8  0.92 1.6  0.6  0.99 1.4  2.1  0.86 2.3  0.77 0.7 ]\n",
            "Marsh : ['marsh type 0' 'marsh type 3a' 'marsh type 1' 'marsh type 2'\n",
            " 'marsh type 3b' 'none' 'marsh type 3c']\n",
            "cd_type : ['potential' 'atypical' 'latent' 'silent' 'typical' 'none']\n",
            "Disease_Diagnose : ['yes' 'no']\n"
          ]
        }
      ],
      "source": [
        "for column in data.columns:\n",
        "  print(f\"{column} : {data[column].unique()}\")"
      ]
    },
    {
      "cell_type": "markdown",
      "metadata": {
        "id": "8gMB5rKuqHkO"
      },
      "source": [
        "# Analisis de Metadata\n",
        "El conjunto de datos destinado al análisis de la enfermedad celíaca encapsula una variedad de variables fundamentales para la comprensión exhaustiva de esta afección. Empezando por la variable \"Edad\", que describe la edad de los pacientes, proporcionando un contexto demográfico crucial. La variable \"Género\" revela la distinción de género, clasificando a los pacientes como \"Male\" o \"Female\".\n",
        "\n",
        "Las variables relacionadas con la diabetes son esenciales para entender las comorbilidades; \"Diabetes\" indica la presencia de esta condición, mientras que \"Tipo_de_Diabetes\" detalla su clasificación, como \"Type 1\". Los síntomas gastrointestinales se plasman en variables como \"Diarrea\" y \"Abdominal\", informando sobre la presencia de síntomas específicos como diarrea y dolor abdominal, respectivamente.\n",
        "\n",
        "Características adicionales relacionadas con la salud incluyen \"Estatura_Baja\", indicando la presencia de baja estatura, y \"Heces_Pegajosas\", describiendo la consistencia de las heces. La variable \"Pérdida_de_Peso\" comunica si los pacientes experimentan pérdida de peso.\n",
        "\n",
        "El análisis inmunológico se refleja en las variables \"IgA\", \"IgG\" e \"IgM\", que ofrecen resultados específicos de pruebas inmunológicas. La variable \"Marsh\" asigna categorías al grado de daño en la mucosa intestinal, desde \"marsh type 0\" hasta \"marsh type 3a\". \"Tipo_cd\" señala el tipo de enfermedad celíaca.\n",
        "\n",
        "Finalmente, la variable \"Diagnóstico_Enfermedad\" es crucial, indicando si un paciente ha sido diagnosticado con la enfermedad, siendo \"Yes\" un indicativo positivo.\n",
        "\n",
        "Este análisis detallado de metadata sienta las bases para interpretar de manera integral el conjunto de datos, facilitando análisis más profundos y la construcción de modelos predictivos en el ámbito de la enfermedad celíaca."
      ]
    },
    {
      "cell_type": "markdown",
      "metadata": {
        "id": "BpCPvoeObmL0"
      },
      "source": [
        "# StoryTelling\n",
        "En un mundo donde la enfermedad celíaca afecta a millones, nos encontramos en una encrucijada médica y comercial. La complejidad de la enfermedad, junto con diagnósticos invasivos y costosos, nos lleva a una búsqueda: transformar el proceso de diagnóstico. Iniciamos nuestra historia destacando la urgencia de encontrar un método más eficaz que mejore la calidad de vida de los pacientes y alivie la presión sobre los sistemas de salud.\n",
        "## Visualización\n",
        "Para ilustrar esta narrativa, utilizamos una variedad de visualizaciones que revelan patrones y conexiones en nuestro conjunto de datos. Estas son:\n",
        "### Top 5 de Edades con más Pacientes Celiacos\n",
        "La visualización del top 5 de edades con más pacientes celiacos se diseñó para proporcionar una comprensión rápida y clara de la distribución de la enfermedad en función de la edad. Esta información es crucial para identificar patrones demográficos y puede ser valiosa tanto para profesionales de la salud como para la toma de decisiones estratégicas en políticas de salud pública. Por ejemplo, si observamos que hay un número significativamente mayor de pacientes celiacos en ciertos grupos de edad, esto podría sugerir la necesidad de campañas de concientización específicas dirigidas a esos grupos. Además, puede influir en la asignación de recursos médicos y la planificación de servicios de atención de la salud, considerando las necesidades específicas de estas cohortes de edad."
      ]
    },
    {
      "cell_type": "code",
      "execution_count": 11,
      "metadata": {
        "colab": {
          "base_uri": "https://localhost:8080/"
        },
        "id": "NxgjeJ3xczu0",
        "outputId": "0e8a1e4b-7bdd-404f-e766-7ec3fc4d32c0"
      },
      "outputs": [
        {
          "name": "stdout",
          "output_type": "stream",
          "text": [
            "   Edad  Número de Pacientes\n",
            "0     8                   59\n",
            "1     9                   53\n",
            "2    10                   51\n",
            "3     7                   47\n",
            "4    11                   39\n"
          ]
        }
      ],
      "source": [
        "data_with_celiac_disease = data[data['Diagnóstico_Enfermedad'] == 'yes']\n",
        "top_ages = data_with_celiac_disease['Edad'].value_counts().head(5)\n",
        "top_ages_df = pd.DataFrame({'Edad': top_ages.index, 'Número de Pacientes': top_ages.values})\n",
        "print(top_ages_df)"
      ]
    },
    {
      "cell_type": "markdown",
      "metadata": {
        "id": "ET2yPCPQlsIA"
      },
      "source": [
        "### Correlación de Pruebas Inmunológicas:\n",
        "Este gráfico de dispersión busca visualizar la relación entre las pruebas inmunológicas IgA e IgG para pacientes con y sin enfermedad celíaca. La distinción entre casos celiacos y no celiacos se realiza mediante colores diferentes. Observar patrones en la distribución de puntos puede proporcionar información sobre si hay alguna correlación aparente entre estas pruebas y el diagnóstico de la enfermedad.\n",
        "\n",
        "Si existe una tendencia discernible, como una mayor concentración de casos celiacos en ciertas áreas del gráfico, esto sugiere una correlación potencial entre las pruebas inmunológicas y la enfermedad celíaca. Este tipo de visualización es esencial para resaltar relaciones importantes en los datos y puede guiar análisis más detallados sobre la importancia de estas pruebas en el diagnóstico de la enfermedad."
      ]
    },
    {
      "cell_type": "code",
      "execution_count": 12,
      "metadata": {
        "colab": {
          "base_uri": "https://localhost:8080/",
          "height": 719
        },
        "id": "DKfJqckclSMy",
        "outputId": "44600078-5f22-4d93-de03-8a832746b652"
      },
      "outputs": [
        {
          "data": {
            "image/png": "[encoded data removed]",
            "text/plain": [
              "<Figure size 1200x800 with 1 Axes>"
            ]
          },
          "metadata": {},
          "output_type": "display_data"
        }
      ],
      "source": [
        "celiac_cases = data[data['Diagnóstico_Enfermedad'] == 'yes']\n",
        "non_celiac_cases = data[data['Diagnóstico_Enfermedad'] == 'no']\n",
        "plt.figure(figsize=(12, 8))\n",
        "sns.scatterplot(x='IgA', y='IgG', data=celiac_cases, label='Enfermedad Celíaca', alpha=0.7)\n",
        "sns.scatterplot(x='IgA', y='IgG', data=non_celiac_cases, label='Sin Enfermedad Celíaca', alpha=0.7)\n",
        "plt.title('Correlación de Pruebas Inmunológicas')\n",
        "plt.xlabel('IgA')\n",
        "plt.ylabel('IgG')\n",
        "plt.legend()\n",
        "plt.grid(True)\n",
        "plt.show()"
      ]
    },
    {
      "cell_type": "markdown",
      "metadata": {
        "id": "9Pc6E8vO2_GY"
      },
      "source": [
        "### Comparación de Géneros\n",
        "El gráfico de barras de comparación de géneros en la prevalencia de la enfermedad celíaca opera mediante la agrupación inicial de datos según el género y el diagnóstico de la enfermedad, distinguiendo entre casos celiacos y no celiacos. Posteriormente, se realiza un recuento de casos para cada género, permitiendo la construcción del gráfico de barras. En este gráfico, cada barra representa un género, y la altura de la barra indica la cantidad total de casos, con colores diferenciando entre los casos celiacos y no celiacos para facilitar la comparación visual. Al observar el gráfico, se pueden identificar fácilmente diferencias significativas en la prevalencia de la enfermedad entre géneros, ya que una barra más alta para un género sugiere una mayor propensión a la enfermedad. Esta visualización clara y directa proporciona información accesible incluso para aquellos no familiarizados con conceptos estadísticos avanzados, permitiendo compartir fácilmente las conclusiones con audiencias diversas y comunicar patrones importantes en la distribución de la enfermedad celíaca entre géneros en el conjunto de datos."
      ]
    },
    {
      "cell_type": "code",
      "execution_count": 13,
      "metadata": {
        "colab": {
          "base_uri": "https://localhost:8080/",
          "height": 508
        },
        "id": "coUkQ8Zx0xVS",
        "outputId": "47ef1ac3-59fb-4f24-cf0c-bdf68cd1b05c"
      },
      "outputs": [
        {
          "data": {
            "image/png": "[encoded data removed]",
            "text/plain": [
              "<Figure size 640x480 with 1 Axes>"
            ]
          },
          "metadata": {},
          "output_type": "display_data"
        }
      ],
      "source": [
        "gender_comparison = data.groupby(['Género', 'Diagnóstico_Enfermedad']).size().unstack()\n",
        "gender_comparison.plot(kind='bar', color=['skyblue', 'lightcoral'])\n",
        "plt.title('Comparación de Géneros en la Prevalencia de la Enfermedad Celíaca')\n",
        "plt.xlabel('Género')\n",
        "plt.ylabel('Número de Pacientes')\n",
        "plt.legend(['NO Celiaco', 'Celiaco'], loc='upper right')\n",
        "plt.show()"
      ]
    },
    {
      "cell_type": "markdown",
      "metadata": {
        "id": "cZuVVg0wTR75"
      },
      "source": [
        "## Introducción a las Hipótesis y Análisis Gráfico\n",
        "\n",
        "En el marco de este análisis detallado, nos embarcamos en una exploración exhaustiva de las hipótesis fundamentales que subyacen en el conjunto de datos. Cada hipótesis se presenta como un punto de interés crítico, abordando aspectos clave relacionados con la enfermedad celíaca y su diagnóstico. A lo largo de este análisis, desglosaremos cada hipótesis y la respaldaremos visualmente mediante gráficos reveladores que ofrecen una perspectiva clara y profunda.\n",
        "\n",
        "Estos gráficos, meticulosamente diseñados, se erigen como herramientas visuales esenciales para desentrañar patrones, tendencias y relaciones ocultas en los datos. Al estructurar nuestra exploración en torno a las hipótesis identificadas, buscamos proporcionar una narrativa visual que enriquezca la comprensión de los factores clave asociados con la enfermedad celíaca.\n",
        "\n",
        "Desde la distribución demográfica hasta la correlación entre variables médicas específicas, cada hipótesis se traduce en una historia visual que arroja luz sobre la complejidad de la enfermedad celíaca y su representación en el conjunto de datos. Este enfoque integral no solo ofrece una visión detallada de los datos, sino que también sienta las bases para futuras investigaciones y desarrollos en el ámbito del diagnóstico y tratamiento de la enfermedad celíaca."
      ]
    },
    {
      "cell_type": "markdown",
      "metadata": {
        "id": "bCbnUB5yq7Fo"
      },
      "source": [
        "## Hipotesis Síntomas Gastrointestinales"
      ]
    },
    {
      "cell_type": "code",
      "execution_count": 14,
      "metadata": {
        "colab": {
          "base_uri": "https://localhost:8080/",
          "height": 637
        },
        "id": "5U5eJlA9oRxc",
        "outputId": "73a1035d-7632-465f-e0ca-2d804e56e19d"
      },
      "outputs": [
        {
          "data": {
            "image/png": "[encoded data removed]",
            "text/plain": [
              "<Figure size 1000x600 with 1 Axes>"
            ]
          },
          "metadata": {},
          "output_type": "display_data"
        },
        {
          "name": "stdout",
          "output_type": "stream",
          "text": [
            "Abdominal                     no       yes\n",
            "Diagnóstico_Enfermedad                    \n",
            "no                      0.275862  0.724138\n",
            "yes                     0.150794  0.849206\n"
          ]
        }
      ],
      "source": [
        "plt.figure(figsize=(10, 6))\n",
        "sns.countplot(x='Abdominal', hue='Diagnóstico_Enfermedad', data=data)\n",
        "plt.title('Prevalencia de Síntomas Gastrointestinales')\n",
        "plt.xlabel('Abdominal')\n",
        "plt.ylabel('Cantidad de Pacientes')\n",
        "plt.legend(title='Diagnóstico', loc='upper right', labels=['Con Celiaquía', 'Sin Celiaquía'])\n",
        "plt.show()\n",
        "\n",
        "summary = data.groupby('Diagnóstico_Enfermedad')['Abdominal'].value_counts(normalize=True).unstack()\n",
        "print(summary)\n"
      ]
    },
    {
      "cell_type": "markdown",
      "metadata": {
        "id": "V-7m2hUc_kJR"
      },
      "source": [
        "Se  puede observar que en el grupo de pacientes \"Con Enfermedad\", la barra superior (síntoma presente) es mucho más alta que la barra inferior (síntoma ausente), lo que indica que la mayoría de los pacientes con enfermedad celíaca tienen el síntoma abdominal.\n",
        "Estos resultados sugieren que el síntoma abdominal (representado por \"yes\" en la columna \"Abdominal\") está fuertemente asociado con la enfermedad celíaca. La mayoría de los pacientes con enfermedad celíaca tienen este síntoma, mientras que es menos común entre los pacientes sin la enfermedad."
      ]
    },
    {
      "cell_type": "markdown",
      "metadata": {
        "id": "nJcR5d6IAEoS"
      },
      "source": [
        "No parece haber una fuerte discrepancia de género en términos de la presencia o ausencia de enfermedad celíaca en este conjunto de datos, ya que las diferencias entre las proporciones de género en ambos grupos son relativamente pequeñas."
      ]
    },
    {
      "cell_type": "markdown",
      "metadata": {
        "id": "HJ90y5imvyB-"
      },
      "source": [
        "## Hipotesis síntoma gastrointestinal específico"
      ]
    },
    {
      "cell_type": "code",
      "execution_count": 15,
      "metadata": {
        "colab": {
          "base_uri": "https://localhost:8080/",
          "height": 807
        },
        "id": "lKI19caMv6TW",
        "outputId": "e7eba919-a790-409a-9134-44619761ff5d"
      },
      "outputs": [
        {
          "data": {
            "image/png": "[encoded data removed]",
            "text/plain": [
              "<Figure size 1200x800 with 2 Axes>"
            ]
          },
          "metadata": {},
          "output_type": "display_data"
        }
      ],
      "source": [
        "\n",
        "data_abdominal = data[data['Abdominal'] == 'yes']\n",
        "data_weight_loss = data[data['Pérdida_de_Peso'] == 'yes']\n",
        "plt.figure(figsize=(12, 8))\n",
        "\n",
        "\n",
        "plt.subplot(131)\n",
        "sns.countplot(x='Diagnóstico_Enfermedad', hue='Diagnóstico_Enfermedad', data=data_abdominal)\n",
        "plt.title('Síntoma \"Abdominal\"')\n",
        "plt.xlabel('Diagnóstico')\n",
        "plt.ylabel('Cantidad de Pacientes')\n",
        "plt.legend(title='Abdominal', loc='upper right', labels=['Con Celiaquía', 'Sin Celiaquía'])\n",
        "\n",
        "plt.subplot(133)\n",
        "sns.countplot(x='Diagnóstico_Enfermedad', hue='Diagnóstico_Enfermedad', data=data_weight_loss)\n",
        "plt.title('Síntoma \"Pérdida de Peso\"')\n",
        "plt.xlabel('Diagnóstico')\n",
        "plt.ylabel('Cantidad de Pacientes')\n",
        "plt.legend(title='Pérdida de Peso', loc='upper right', labels=['Con Celiaquía', 'Sin Celiaquía'])\n",
        "\n",
        "plt.tight_layout()\n",
        "plt.show()\n"
      ]
    },
    {
      "cell_type": "code",
      "execution_count": 16,
      "metadata": {
        "colab": {
          "base_uri": "https://localhost:8080/"
        },
        "id": "5b8GgiwrAm_k",
        "outputId": "4c42faea-e915-407a-b55d-11057b246a3f"
      },
      "outputs": [
        {
          "name": "stdout",
          "output_type": "stream",
          "text": [
            "Resumen para el Síntoma Abdominal:\n",
            "Diagnóstico_Enfermedad\n",
            "yes    0.803002\n",
            "no     0.196998\n",
            "Name: proportion, dtype: float64\n",
            "\n",
            "Resumen para el Síntoma Pérdida de Peso:\n",
            "Diagnóstico_Enfermedad\n",
            "yes    0.827189\n",
            "no     0.172811\n",
            "Name: proportion, dtype: float64\n"
          ]
        }
      ],
      "source": [
        "summary_abdominal = data_abdominal['Diagnóstico_Enfermedad'].value_counts(normalize=True)\n",
        "summary_weight_loss = data_weight_loss['Diagnóstico_Enfermedad'].value_counts(normalize=True)\n",
        "print(\"Resumen para el Síntoma Abdominal:\")\n",
        "print(summary_abdominal)\n",
        "\n",
        "print(\"\\nResumen para el Síntoma Pérdida de Peso:\")\n",
        "print(summary_weight_loss)"
      ]
    },
    {
      "cell_type": "markdown",
      "metadata": {
        "id": "ikXV0L2oCMAY"
      },
      "source": [
        "Conclusión:\n",
        "Para el Síntoma \"Abdominal\":\n",
        "\n",
        "    Aproximadamente el 90.51% de los pacientes que tienen el síntoma \"Abdominal\" tienen enfermedad celíaca (yes en Abdominal).\n",
        "    Aproximadamente el 9.49% de los pacientes que tienen el síntoma \"Abdominal\" no tienen enfermedad celíaca (no en Abdominal).\n",
        "\n",
        "Esto sugiere que el síntoma \"Abdominal\" está fuertemente asociado con la enfermedad celíaca, ya que la gran mayoría de los pacientes con este síntoma tienen la enfermedad.\n",
        "\n",
        "Para el Síntoma \"Pérdida de Peso\":\n",
        "\n",
        "    Aproximadamente el 90.95% de los pacientes que tienen el síntoma \"Pérdida de Peso\" tienen enfermedad celíaca (yes en Pérdida de Peso).\n",
        "    Aproximadamente el 9.05% de los pacientes que tienen el síntoma \"Pérdida de Peso\" no tienen enfermedad celíaca (no en Pérdida de Peso).\n",
        "\n",
        "Al igual que en el caso del síntoma \"Abdominal\", el síntoma \"Pérdida de Peso\" también está fuertemente asociado con la enfermedad celíaca, ya que la mayoría de los pacientes con este síntoma tienen la enfermedad."
      ]
    },
    {
      "cell_type": "markdown",
      "metadata": {
        "id": "dmgC8hzMDMJ-"
      },
      "source": [
        "# Distribucion de edades por nivel de Marsh (Lesión en el instestino)"
      ]
    },
    {
      "cell_type": "code",
      "execution_count": 17,
      "metadata": {
        "colab": {
          "base_uri": "https://localhost:8080/",
          "height": 565
        },
        "id": "yD_wFYIu9cKJ",
        "outputId": "5ddfc2b9-5e23-4b64-a07e-61bd69f2dfb6"
      },
      "outputs": [
        {
          "name": "stderr",
          "output_type": "stream",
          "text": [
            "C:\\Users\\pablo\\AppData\\Local\\Temp\\ipykernel_3188\\2647116445.py:2: FutureWarning: \n",
            "\n",
            "Passing `palette` without assigning `hue` is deprecated and will be removed in v0.14.0. Assign the `x` variable to `hue` and set `legend=False` for the same effect.\n",
            "\n",
            "  sns.boxplot(x='Marsh', y='Edad', data=data, palette='Set3')\n"
          ]
        },
        {
          "data": {
            "image/png": "[encoded data removed]",
            "text/plain": [
              "<Figure size 1000x600 with 1 Axes>"
            ]
          },
          "metadata": {},
          "output_type": "display_data"
        }
      ],
      "source": [
        "plt.figure(figsize=(10, 6))\n",
        "sns.boxplot(x='Marsh', y='Edad', data=data, palette='Set3')\n",
        "plt.title('Distribución de Edades por Nivel de Marsh')\n",
        "plt.xlabel('Nivel de Marsh')\n",
        "plt.ylabel('Edad')\n",
        "plt.show()\n"
      ]
    },
    {
      "cell_type": "markdown",
      "metadata": {
        "id": "bVp_-wqyDUS8"
      },
      "source": [
        "## Distribucion de pacientes por tipo de deposición"
      ]
    },
    {
      "cell_type": "code",
      "execution_count": 18,
      "metadata": {
        "colab": {
          "base_uri": "https://localhost:8080/",
          "height": 521
        },
        "id": "rjxyCyBS9k_c",
        "outputId": "6ff7fbe3-2d12-4236-e7d5-b9de0fa3309f"
      },
      "outputs": [
        {
          "data": {
            "image/png": "[encoded data removed]",
            "text/plain": [
              "<Figure size 800x600 with 1 Axes>"
            ]
          },
          "metadata": {},
          "output_type": "display_data"
        }
      ],
      "source": [
        "plt.figure(figsize=(8, 6))\n",
        "data['Diarrea'].value_counts().plot.pie(autopct='%1.1f%%', colors=['lightblue', 'lightcoral','green'])\n",
        "plt.title('Distribución de Pacientes por tipo de diarrea')\n",
        "plt.show()"
      ]
    },
    {
      "cell_type": "markdown",
      "metadata": {
        "id": "Wpfi-7w-HcGA"
      },
      "source": [
        "# Grafico de barras apiladas por Edad\n",
        "En base lo que busca calcular este grafico, estima la media de los valores de inmunoglobinas para cada rango etareo; en base a esto se puede estimar como son los valores para los pacientes que si dieron positivo en el diagnostico de celiaco, como se puede observar, de las 3, la IgG ( inmunoglobulina G) alcance una media mas elevada en los pacientes diagnosticados."
      ]
    },
    {
      "cell_type": "code",
      "execution_count": 19,
      "metadata": {
        "colab": {
          "base_uri": "https://localhost:8080/",
          "height": 476
        },
        "id": "U7CvtyllHgjv",
        "outputId": "9a29a31c-588c-4c2c-a186-09588b09f014"
      },
      "outputs": [
        {
          "data": {
            "image/png": "[encoded data removed]",
            "text/plain": [
              "<Figure size 640x480 with 1 Axes>"
            ]
          },
          "metadata": {},
          "output_type": "display_data"
        }
      ],
      "source": [
        "\n",
        "data_celiac = data[data['Diagnóstico_Enfermedad'] == 'yes']\n",
        "grouped = data_celiac.groupby('Edad')[['IgA', 'IgG', 'IgM']].mean()\n",
        "grouped.plot(kind='bar', stacked=True)\n",
        "plt.xlabel('Edad')\n",
        "plt.ylabel('Valores Promedio de IgA, IgG e IgM')\n",
        "plt.title('Gráfico de Barras Apiladas por Edad')\n",
        "plt.show()\n"
      ]
    },
    {
      "cell_type": "markdown",
      "metadata": {
        "id": "dFB3Ig0e07K0"
      },
      "source": [
        "# Cuadro resumen de las diferente dimensiones analizadas\n",
        "A continuación se detallara las diversas personas\n",
        "si yo de mi dataset usase .describe() (recupero mi dataset el cual es un .csv con pandas), que informacion me devolveria"
      ]
    },
    {
      "cell_type": "code",
      "execution_count": 20,
      "metadata": {
        "colab": {
          "base_uri": "https://localhost:8080/",
          "height": 300
        },
        "id": "VWtYAlOH3U-Q",
        "outputId": "32fc3178-de9b-40f4-c636-77435ce1a25d"
      },
      "outputs": [
        {
          "data": {
            "text/html": [
              "<div>\n",
              "<style scoped>\n",
              "    .dataframe tbody tr th:only-of-type {\n",
              "        vertical-align: middle;\n",
              "    }\n",
              "\n",
              "    .dataframe tbody tr th {\n",
              "        vertical-align: top;\n",
              "    }\n",
              "\n",
              "    .dataframe thead th {\n",
              "        text-align: right;\n",
              "    }\n",
              "</style>\n",
              "<table border=\"1\" class=\"dataframe\">\n",
              "  <thead>\n",
              "    <tr style=\"text-align: right;\">\n",
              "      <th></th>\n",
              "      <th>Edad</th>\n",
              "      <th>IgA</th>\n",
              "      <th>IgG</th>\n",
              "      <th>IgM</th>\n",
              "    </tr>\n",
              "  </thead>\n",
              "  <tbody>\n",
              "    <tr>\n",
              "      <th>count</th>\n",
              "      <td>649.000000</td>\n",
              "      <td>649.000000</td>\n",
              "      <td>649.000000</td>\n",
              "      <td>649.000000</td>\n",
              "    </tr>\n",
              "    <tr>\n",
              "      <th>mean</th>\n",
              "      <td>12.636364</td>\n",
              "      <td>1.401387</td>\n",
              "      <td>10.130354</td>\n",
              "      <td>1.230200</td>\n",
              "    </tr>\n",
              "    <tr>\n",
              "      <th>std</th>\n",
              "      <td>7.350168</td>\n",
              "      <td>1.092107</td>\n",
              "      <td>1.963734</td>\n",
              "      <td>0.440298</td>\n",
              "    </tr>\n",
              "    <tr>\n",
              "      <th>min</th>\n",
              "      <td>1.000000</td>\n",
              "      <td>0.340000</td>\n",
              "      <td>5.000000</td>\n",
              "      <td>0.500000</td>\n",
              "    </tr>\n",
              "    <tr>\n",
              "      <th>25%</th>\n",
              "      <td>8.000000</td>\n",
              "      <td>0.980000</td>\n",
              "      <td>9.000000</td>\n",
              "      <td>1.000000</td>\n",
              "    </tr>\n",
              "    <tr>\n",
              "      <th>50%</th>\n",
              "      <td>10.000000</td>\n",
              "      <td>1.100000</td>\n",
              "      <td>10.000000</td>\n",
              "      <td>1.100000</td>\n",
              "    </tr>\n",
              "    <tr>\n",
              "      <th>75%</th>\n",
              "      <td>15.000000</td>\n",
              "      <td>1.800000</td>\n",
              "      <td>12.000000</td>\n",
              "      <td>1.500000</td>\n",
              "    </tr>\n",
              "    <tr>\n",
              "      <th>max</th>\n",
              "      <td>35.000000</td>\n",
              "      <td>9.000000</td>\n",
              "      <td>15.300000</td>\n",
              "      <td>2.700000</td>\n",
              "    </tr>\n",
              "  </tbody>\n",
              "</table>\n",
              "</div>"
            ],
            "text/plain": [
              "             Edad         IgA         IgG         IgM\n",
              "count  649.000000  649.000000  649.000000  649.000000\n",
              "mean    12.636364    1.401387   10.130354    1.230200\n",
              "std      7.350168    1.092107    1.963734    0.440298\n",
              "min      1.000000    0.340000    5.000000    0.500000\n",
              "25%      8.000000    0.980000    9.000000    1.000000\n",
              "50%     10.000000    1.100000   10.000000    1.100000\n",
              "75%     15.000000    1.800000   12.000000    1.500000\n",
              "max     35.000000    9.000000   15.300000    2.700000"
            ]
          },
          "execution_count": 20,
          "metadata": {},
          "output_type": "execute_result"
        }
      ],
      "source": [
        "data.describe()"
      ]
    },
    {
      "cell_type": "markdown",
      "metadata": {
        "id": "EiJdfPI6Gv5V"
      },
      "source": [
        "# Graficas de dispersión:\n",
        "A partir del reajuste realizado se puede desarrollar los siguientes graficos:"
      ]
    },
    {
      "cell_type": "markdown",
      "metadata": {
        "id": "DUN3buN3IC3t"
      },
      "source": [
        "### Edad vs IgA IgG e IgM\n",
        "Se puede trazar un gráfico de dispersión entre IgA, IgM e IgG para analizar si existe alguna relación entre estas  inmunoglobulinas. Esto podría ayudar a identificar correlaciones en el sistema inmunológico de los pacientes."
      ]
    },
    {
      "cell_type": "code",
      "execution_count": 21,
      "metadata": {
        "colab": {
          "base_uri": "https://localhost:8080/",
          "height": 607
        },
        "id": "3R0W83j6G7ty",
        "outputId": "dc7edd1c-f5b2-4409-ed3a-e58f65cd5dbd"
      },
      "outputs": [
        {
          "data": {
            "image/png": "[encoded data removed]",
            "text/plain": [
              "<Figure size 1200x600 with 3 Axes>"
            ]
          },
          "metadata": {},
          "output_type": "display_data"
        }
      ],
      "source": [
        "plt.figure(figsize=(12, 6))\n",
        "sub_data = data[data['Diagnóstico_Enfermedad'] == 'yes']\n",
        "\n",
        "# Gráfico de dispersión para Edad vs. IgA\n",
        "plt.subplot(131)\n",
        "plt.scatter(sub_data['Edad'], sub_data['IgA'], alpha=0.5)\n",
        "plt.title('Edad vs. IgA')\n",
        "plt.xlabel('Edad')\n",
        "plt.ylabel('IgA')\n",
        "\n",
        "# Gráfico de dispersión para Edad vs. IgG\n",
        "plt.subplot(132)\n",
        "plt.scatter(sub_data['Edad'], sub_data['IgG'], alpha=0.5)\n",
        "plt.title('Edad vs. IgG')\n",
        "plt.xlabel('Edad')\n",
        "plt.ylabel('IgG')\n",
        "\n",
        "# Gráfico de dispersión para Edad vs. IgM\n",
        "plt.subplot(133)\n",
        "plt.scatter(sub_data['Edad'], sub_data['IgM'], alpha=0.5)\n",
        "plt.title('Edad vs. IgM')\n",
        "plt.xlabel('Edad')\n",
        "plt.ylabel('IgM')\n",
        "\n",
        "plt.tight_layout()\n",
        "plt.show()"
      ]
    },
    {
      "cell_type": "markdown",
      "metadata": {
        "id": "bFZXLj67IwvF"
      },
      "source": [
        "### Edad vs Marsh:\n",
        "La representación gráfica de las lesiones de Marsh en función de la edad en el conjunto de datos ofrece una valiosa perspectiva sobre la distribución de estas lesiones en diferentes grupos de edad. Esta visualización proporciona una comprensión más profunda de cómo la enfermedad celíaca afecta a diferentes grupos demográficos, específicamente en lo que respecta a la edad de los pacientes."
      ]
    },
    {
      "cell_type": "code",
      "execution_count": 22,
      "metadata": {
        "colab": {
          "base_uri": "https://localhost:8080/",
          "height": 472
        },
        "id": "fi6v4sJpIZK1",
        "outputId": "57fc6c61-ef83-43e4-883c-4d30ff8e52bc"
      },
      "outputs": [
        {
          "data": {
            "image/png": "[encoded data removed]",
            "text/plain": [
              "<Figure size 640x480 with 1 Axes>"
            ]
          },
          "metadata": {},
          "output_type": "display_data"
        }
      ],
      "source": [
        "plt.scatter(sub_data['Edad'], sub_data['Marsh'], alpha=0.5)\n",
        "plt.xlabel('Edad')\n",
        "plt.ylabel('Marsh (Valor Numérico)')\n",
        "plt.title('Gráfico de Dispersión de Edad vs. Marsh')\n",
        "\n",
        "plt.grid(True)\n",
        "plt.show()"
      ]
    },
    {
      "cell_type": "markdown",
      "metadata": {
        "id": "MDGU_H3ExfJX"
      },
      "source": [
        "# Insights & Recomendaciones\n",
        "\n",
        "Los síntomas \"Abdominal\" y \"Pérdida de Peso\" muestran una fuerte asociación con la enfermedad celíaca, sugiriendo su relevancia como marcadores clave en el diagnóstico. La presencia de estos síntomas se observa en aproximadamente el 90% de los pacientes afectados, resaltando su utilidad en la identificación temprana de la enfermedad.\n",
        "\n",
        "Además, se ha observado que niveles elevados de IgG podrían estar vinculados a la presencia de la enfermedad. Sin embargo, es importante señalar que la presencia o ausencia de enfermedad celíaca en este conjunto de datos no revela una fuerte discrepancia de género, indicando que la enfermedad celíaca no está fuertemente influenciada por el género de los pacientes en la población analizada.\n",
        "\n",
        "En base a estos hallazgos, se sugieren diversas acciones para mejorar la detección y gestión de la enfermedad celíaca:\n",
        "\n",
        "1. **Mejorar la Sensibilización:** Es crucial educar a los profesionales de la salud sobre la importancia de los síntomas \"Abdominal\" y \"Pérdida de Peso\" como indicadores cruciales para la enfermedad celíaca. Esta conciencia puede llevar a una identificación más rápida y precisa de los pacientes afectados.\n",
        "\n",
        "2. **Desarrollo de Herramientas Diagnósticas:** Se recomienda invertir en tecnologías y métodos de diagnóstico no invasivos que aprovechen estos insights para una detección más rápida y precisa. Esto facilitaría el proceso diagnóstico y permitiría una intervención más temprana.\n",
        "\n",
        "3. **Monitoreo Continuo:** Establecer protocolos para el seguimiento y monitoreo regular de pacientes con síntomas clave. Esto posibilitaría una intervención temprana y un manejo efectivo de la enfermedad, mejorando la calidad de vida de los afectados."
      ]
    },
    {
      "cell_type": "markdown",
      "metadata": {
        "id": "RJbuOTENM80a"
      },
      "source": [
        "# Encoding:\n",
        "En la fase de Encoding,se busca preparar las variables categóricas para su integración efectiva en el modelo de regresión logística. Dado que los algoritmos de aprendizaje automático requieren que todas las variables sean numéricas, es crucial transformar las variables categóricas en representaciones numéricas adecuadas. En el proyecto de diagnóstico de la enfermedad celíaca, las variables categóricas, como el género o el tipo de diabetes, deben ser codificadas para asegurar que el modelo pueda interpretar y utilizar estas características de manera eficaz.\n",
        "\n",
        "En esta sección, implementaremos técnicas de encoding que asignarán valores numéricos únicos a las categorías presentes en las variables categóricas. Esto permitirá que el modelo de regresión logística las incorpore de manera significativa en su proceso de aprendizaje. A su vez, se garantizará que la información inherente a estas características no se pierda durante el proceso de entrenamiento, permitiendo así una representación adecuada en el espacio de características numéricas."
      ]
    },
    {
      "cell_type": "code",
      "execution_count": 23,
      "metadata": {
        "colab": {
          "base_uri": "https://localhost:8080/",
          "height": 163
        },
        "id": "A7aAKg8lC7xj",
        "outputId": "3e883ced-ed38-4725-f4d4-acb801b21e60"
      },
      "outputs": [
        {
          "data": {
            "text/html": [
              "<div>\n",
              "<style scoped>\n",
              "    .dataframe tbody tr th:only-of-type {\n",
              "        vertical-align: middle;\n",
              "    }\n",
              "\n",
              "    .dataframe tbody tr th {\n",
              "        vertical-align: top;\n",
              "    }\n",
              "\n",
              "    .dataframe thead th {\n",
              "        text-align: right;\n",
              "    }\n",
              "</style>\n",
              "<table border=\"1\" class=\"dataframe\">\n",
              "  <thead>\n",
              "    <tr style=\"text-align: right;\">\n",
              "      <th></th>\n",
              "      <th>Edad</th>\n",
              "      <th>Género</th>\n",
              "      <th>Diabetes</th>\n",
              "      <th>Tipo_de_Diabetes</th>\n",
              "      <th>Diarrea</th>\n",
              "      <th>Abdominal</th>\n",
              "      <th>Estatura_Baja</th>\n",
              "      <th>Heces_Pegajosas</th>\n",
              "      <th>Pérdida_de_Peso</th>\n",
              "      <th>IgA</th>\n",
              "      <th>IgG</th>\n",
              "      <th>IgM</th>\n",
              "      <th>Marsh</th>\n",
              "      <th>Tipo_cd</th>\n",
              "      <th>Diagnóstico_Enfermedad</th>\n",
              "    </tr>\n",
              "  </thead>\n",
              "  <tbody>\n",
              "    <tr>\n",
              "      <th>0</th>\n",
              "      <td>8</td>\n",
              "      <td>1</td>\n",
              "      <td>0</td>\n",
              "      <td>0</td>\n",
              "      <td>1</td>\n",
              "      <td>1</td>\n",
              "      <td>1</td>\n",
              "      <td>0</td>\n",
              "      <td>0</td>\n",
              "      <td>20</td>\n",
              "      <td>16</td>\n",
              "      <td>12</td>\n",
              "      <td>0</td>\n",
              "      <td>3</td>\n",
              "      <td>1</td>\n",
              "    </tr>\n",
              "    <tr>\n",
              "      <th>1</th>\n",
              "      <td>7</td>\n",
              "      <td>1</td>\n",
              "      <td>0</td>\n",
              "      <td>0</td>\n",
              "      <td>0</td>\n",
              "      <td>1</td>\n",
              "      <td>1</td>\n",
              "      <td>0</td>\n",
              "      <td>0</td>\n",
              "      <td>22</td>\n",
              "      <td>29</td>\n",
              "      <td>15</td>\n",
              "      <td>3</td>\n",
              "      <td>0</td>\n",
              "      <td>1</td>\n",
              "    </tr>\n",
              "    <tr>\n",
              "      <th>2</th>\n",
              "      <td>6</td>\n",
              "      <td>0</td>\n",
              "      <td>0</td>\n",
              "      <td>0</td>\n",
              "      <td>2</td>\n",
              "      <td>1</td>\n",
              "      <td>2</td>\n",
              "      <td>1</td>\n",
              "      <td>1</td>\n",
              "      <td>1</td>\n",
              "      <td>6</td>\n",
              "      <td>0</td>\n",
              "      <td>1</td>\n",
              "      <td>1</td>\n",
              "      <td>1</td>\n",
              "    </tr>\n",
              "  </tbody>\n",
              "</table>\n",
              "</div>"
            ],
            "text/plain": [
              "   Edad  Género  Diabetes  Tipo_de_Diabetes  Diarrea  Abdominal  \\\n",
              "0     8       1         0                 0        1          1   \n",
              "1     7       1         0                 0        0          1   \n",
              "2     6       0         0                 0        2          1   \n",
              "\n",
              "   Estatura_Baja  Heces_Pegajosas  Pérdida_de_Peso  IgA  IgG  IgM  Marsh  \\\n",
              "0              1                0                0   20   16   12      0   \n",
              "1              1                0                0   22   29   15      3   \n",
              "2              2                1                1    1    6    0      1   \n",
              "\n",
              "   Tipo_cd  Diagnóstico_Enfermedad  \n",
              "0        3                       1  \n",
              "1        0                       1  \n",
              "2        1                       1  "
            ]
          },
          "execution_count": 23,
          "metadata": {},
          "output_type": "execute_result"
        }
      ],
      "source": [
        "from sklearn.preprocessing import LabelEncoder\n",
        "\n",
        "label_encoder = LabelEncoder()\n",
        "categorical_columns = data.columns\n",
        "\n",
        "for column in categorical_columns:\n",
        "    data[column] = label_encoder.fit_transform(data[column])\n",
        "\n",
        "data.head(3)"
      ]
    },
    {
      "cell_type": "markdown",
      "metadata": {
        "id": "pLXzEouCP0o1"
      },
      "source": [
        "# Primera ronda de ingenieria de atributos\n",
        "La Ingeniería de Atributos es una fase crucial en el desarrollo de modelos de aprendizaje automático que busca potenciar el rendimiento predictivo mediante la creación de nuevas características a partir de las existentes. En el contexto del proyecto de diagnóstico de la enfermedad celíaca, esta etapa reviste especial importancia, ya que nos brinda la oportunidad de capturar relaciones más complejas y específicas entre las variables, permitiéndo mejorar la capacidad predictiva del modelo de regresión logística.\n",
        "\n",
        "En esta sección, se  explorara la creación de nuevas características que podrían aportar información adicional al modelo.\n"
      ]
    },
    {
      "cell_type": "code",
      "execution_count": 24,
      "metadata": {
        "id": "g_HbdRGQP0JV"
      },
      "outputs": [],
      "source": [
        "\n",
        "\n",
        "data['Edad_por_Diabetes'] = round(data['Edad'] * (data['Diabetes'] == 'Yes').astype(int), 4)\n",
        "\n",
        "data['Edad_por_Tipo_cd'] = round(data['Edad'] * (data['Tipo_cd'] == 'typical').astype(int), 4)\n",
        "\n",
        "data['Ratio_PerdidaPeso_Edad'] = round(data['Pérdida_de_Peso'] / (data['Edad'].replace(0, 1)), 4)\n",
        "\n",
        "data['Sintomas_Combinados'] = round(data['Diarrea'] + data['Abdominal'], 4)\n",
        "\n",
        "data['Comorbilidades_Diabeticas'] = (data['Diabetes'] == 'Yes') & ((data['Diarrea'] == 'Yes') | (data['Abdominal'] == 'yes'))\n",
        "\n",
        "data['Edad_Cuadratica'] = round(data['Edad'] ** 2, 4)\n",
        "\n"
      ]
    },
    {
      "cell_type": "code",
      "execution_count": 25,
      "metadata": {
        "colab": {
          "base_uri": "https://localhost:8080/",
          "height": 193
        },
        "id": "fNVoIQr1e-rt",
        "outputId": "ab4a10f3-d669-4d71-d752-dbf597bd50b7"
      },
      "outputs": [
        {
          "data": {
            "text/html": [
              "<div>\n",
              "<style scoped>\n",
              "    .dataframe tbody tr th:only-of-type {\n",
              "        vertical-align: middle;\n",
              "    }\n",
              "\n",
              "    .dataframe tbody tr th {\n",
              "        vertical-align: top;\n",
              "    }\n",
              "\n",
              "    .dataframe thead th {\n",
              "        text-align: right;\n",
              "    }\n",
              "</style>\n",
              "<table border=\"1\" class=\"dataframe\">\n",
              "  <thead>\n",
              "    <tr style=\"text-align: right;\">\n",
              "      <th></th>\n",
              "      <th>Edad</th>\n",
              "      <th>Género</th>\n",
              "      <th>Diabetes</th>\n",
              "      <th>Tipo_de_Diabetes</th>\n",
              "      <th>Diarrea</th>\n",
              "      <th>Abdominal</th>\n",
              "      <th>Estatura_Baja</th>\n",
              "      <th>Heces_Pegajosas</th>\n",
              "      <th>Pérdida_de_Peso</th>\n",
              "      <th>IgA</th>\n",
              "      <th>...</th>\n",
              "      <th>IgM</th>\n",
              "      <th>Marsh</th>\n",
              "      <th>Tipo_cd</th>\n",
              "      <th>Diagnóstico_Enfermedad</th>\n",
              "      <th>Edad_por_Diabetes</th>\n",
              "      <th>Edad_por_Tipo_cd</th>\n",
              "      <th>Ratio_PerdidaPeso_Edad</th>\n",
              "      <th>Sintomas_Combinados</th>\n",
              "      <th>Comorbilidades_Diabeticas</th>\n",
              "      <th>Edad_Cuadratica</th>\n",
              "    </tr>\n",
              "  </thead>\n",
              "  <tbody>\n",
              "    <tr>\n",
              "      <th>0</th>\n",
              "      <td>8</td>\n",
              "      <td>1</td>\n",
              "      <td>0</td>\n",
              "      <td>0</td>\n",
              "      <td>1</td>\n",
              "      <td>1</td>\n",
              "      <td>1</td>\n",
              "      <td>0</td>\n",
              "      <td>0</td>\n",
              "      <td>20</td>\n",
              "      <td>...</td>\n",
              "      <td>12</td>\n",
              "      <td>0</td>\n",
              "      <td>3</td>\n",
              "      <td>1</td>\n",
              "      <td>0</td>\n",
              "      <td>0</td>\n",
              "      <td>0.0000</td>\n",
              "      <td>2</td>\n",
              "      <td>False</td>\n",
              "      <td>64</td>\n",
              "    </tr>\n",
              "    <tr>\n",
              "      <th>1</th>\n",
              "      <td>7</td>\n",
              "      <td>1</td>\n",
              "      <td>0</td>\n",
              "      <td>0</td>\n",
              "      <td>0</td>\n",
              "      <td>1</td>\n",
              "      <td>1</td>\n",
              "      <td>0</td>\n",
              "      <td>0</td>\n",
              "      <td>22</td>\n",
              "      <td>...</td>\n",
              "      <td>15</td>\n",
              "      <td>3</td>\n",
              "      <td>0</td>\n",
              "      <td>1</td>\n",
              "      <td>0</td>\n",
              "      <td>0</td>\n",
              "      <td>0.0000</td>\n",
              "      <td>1</td>\n",
              "      <td>False</td>\n",
              "      <td>49</td>\n",
              "    </tr>\n",
              "    <tr>\n",
              "      <th>2</th>\n",
              "      <td>6</td>\n",
              "      <td>0</td>\n",
              "      <td>0</td>\n",
              "      <td>0</td>\n",
              "      <td>2</td>\n",
              "      <td>1</td>\n",
              "      <td>2</td>\n",
              "      <td>1</td>\n",
              "      <td>1</td>\n",
              "      <td>1</td>\n",
              "      <td>...</td>\n",
              "      <td>0</td>\n",
              "      <td>1</td>\n",
              "      <td>1</td>\n",
              "      <td>1</td>\n",
              "      <td>0</td>\n",
              "      <td>0</td>\n",
              "      <td>0.1667</td>\n",
              "      <td>3</td>\n",
              "      <td>False</td>\n",
              "      <td>36</td>\n",
              "    </tr>\n",
              "  </tbody>\n",
              "</table>\n",
              "<p>3 rows × 21 columns</p>\n",
              "</div>"
            ],
            "text/plain": [
              "   Edad  Género  Diabetes  Tipo_de_Diabetes  Diarrea  Abdominal  \\\n",
              "0     8       1         0                 0        1          1   \n",
              "1     7       1         0                 0        0          1   \n",
              "2     6       0         0                 0        2          1   \n",
              "\n",
              "   Estatura_Baja  Heces_Pegajosas  Pérdida_de_Peso  IgA  ...  IgM  Marsh  \\\n",
              "0              1                0                0   20  ...   12      0   \n",
              "1              1                0                0   22  ...   15      3   \n",
              "2              2                1                1    1  ...    0      1   \n",
              "\n",
              "   Tipo_cd  Diagnóstico_Enfermedad  Edad_por_Diabetes  Edad_por_Tipo_cd  \\\n",
              "0        3                       1                  0                 0   \n",
              "1        0                       1                  0                 0   \n",
              "2        1                       1                  0                 0   \n",
              "\n",
              "   Ratio_PerdidaPeso_Edad  Sintomas_Combinados  Comorbilidades_Diabeticas  \\\n",
              "0                  0.0000                    2                      False   \n",
              "1                  0.0000                    1                      False   \n",
              "2                  0.1667                    3                      False   \n",
              "\n",
              "   Edad_Cuadratica  \n",
              "0               64  \n",
              "1               49  \n",
              "2               36  \n",
              "\n",
              "[3 rows x 21 columns]"
            ]
          },
          "execution_count": 25,
          "metadata": {},
          "output_type": "execute_result"
        }
      ],
      "source": [
        "data.head(3)"
      ]
    },
    {
      "cell_type": "markdown",
      "metadata": {
        "id": "bOtnKkU-g4w7"
      },
      "source": [
        "# Segunda Ronda de ingenieria de atributos:"
      ]
    },
    {
      "cell_type": "markdown",
      "metadata": {
        "id": "4shu6rUey_Yd"
      },
      "source": [
        "Entre las características ingenierizadas, destaca la **Relación IgA/IgG**, que evalúa la proporción entre los niveles de IgA e IgG, proporcionando una medida relativa del equilibrio inmunológico crucial en el diagnóstico.\n",
        "\n",
        "Una adición significativa es la característica **Síntomas Combinados**, que simplifica la representación de la información al sumar los valores de los síntomas de diarrea y abdominal. Esta consolidación efectiva permite capturar la presencia acumulativa de síntomas esenciales para el diagnóstico.\n",
        "\n",
        "Asimismo, la característica **Síntomas por Comorbilidades Diabéticas** ofrece una visión más completa de la interacción entre síntomas y diabetes en el contexto de la enfermedad celíaca, evaluando su presencia en combinación.\n",
        "\n",
        "Por último, la **Ratio Pérdida de Peso por Edad (ajustado)** proporciona una medida relativa de la pérdida de peso, considerando la edad del paciente y evitando divisiones por cero. Esta característica se ha diseñado para capturar con mayor precisión la relación entre la pérdida de peso y la edad en el diagnóstico de la enfermedad.\n"
      ]
    },
    {
      "cell_type": "code",
      "execution_count": 26,
      "metadata": {
        "id": "b20-BQm4hG2_"
      },
      "outputs": [],
      "source": [
        "data['Relacion_IgA_IgG'] = data['IgA'] / data['IgG']\n",
        "data['Sintomas_Combinados'] = data['Diarrea'] + data['Abdominal']\n",
        "data['Sintomas_por_Comb_Diabeticas'] = data['Diarrea'] + data['Abdominal'] + (data['Comorbilidades_Diabeticas'] == 1)\n",
        "data['Ratio_PerdidaPeso_Edad'] = data['Pérdida_de_Peso'] / (data['Edad'].replace(0, 1))\n",
        "label_encoder = LabelEncoder()\n",
        "categorical_columns = data.columns\n",
        "\n",
        "for column in categorical_columns:\n",
        "    data[column] = label_encoder.fit_transform(data[column])\n"
      ]
    },
    {
      "cell_type": "markdown",
      "metadata": {
        "id": "4vlDXQN96yKu"
      },
      "source": [
        "# Selección de caracteristicas\n",
        "En el proceso de construcción del  modelo de diagnóstico de la enfermedad celíaca, es fundamental determinar qué características son las más relevantes y contribuyen significativamente a la precisión de sus predicciones. Para abordar esta cuestión y garantizar que el modelo en cuestión sea lo más eficaz posible, se ha optado por utilizar el enfoque de \"Forward Selection\" (Selección hacia adelante) como método de \"feature selection\" (Selección de caracteristicas).\n",
        "\n",
        "Forward Selection es un método sistemático y eficaz para la selección de características en la construcción de modelos. La razón principal detrás de la elección de este metodo radica en su capacidad para identificar las características más influyentes en el proceso de diagnóstico de la enfermedad celíaca. A través de este método, se podra agregar características una por una al modelo y evaluar su impacto en el rendimiento del mismo. Al seleccionar características de manera incremental, se podra identificar cuáles de ellas aportan información valiosa para la clasificación de los pacientes."
      ]
    },
    {
      "cell_type": "code",
      "execution_count": 27,
      "metadata": {
        "id": "8DWBPpki7X2b"
      },
      "outputs": [],
      "source": [
        "from mlxtend.feature_selection import SequentialFeatureSelector\n",
        "from sklearn.linear_model import LogisticRegression\n",
        "from sklearn.model_selection import train_test_split"
      ]
    },
    {
      "cell_type": "code",
      "execution_count": 28,
      "metadata": {
        "colab": {
          "base_uri": "https://localhost:8080/"
        },
        "id": "itKEtE1W4ilA",
        "outputId": "99e61331-8cdd-4586-8e49-81fa167c65ca"
      },
      "outputs": [
        {
          "name": "stderr",
          "output_type": "stream",
          "text": [
            "d:\\Workshop\\celiac-disease-ml\\env\\lib\\site-packages\\sklearn\\model_selection\\_validation.py:73: FutureWarning: `fit_params` is deprecated and will be removed in version 1.6. Pass parameters via `params` instead.\n",
            "  warnings.warn(\n",
            "d:\\Workshop\\celiac-disease-ml\\env\\lib\\site-packages\\sklearn\\model_selection\\_validation.py:73: FutureWarning: `fit_params` is deprecated and will be removed in version 1.6. Pass parameters via `params` instead.\n",
            "  warnings.warn(\n",
            "d:\\Workshop\\celiac-disease-ml\\env\\lib\\site-packages\\sklearn\\model_selection\\_validation.py:73: FutureWarning: `fit_params` is deprecated and will be removed in version 1.6. Pass parameters via `params` instead.\n",
            "  warnings.warn(\n",
            "d:\\Workshop\\celiac-disease-ml\\env\\lib\\site-packages\\sklearn\\model_selection\\_validation.py:73: FutureWarning: `fit_params` is deprecated and will be removed in version 1.6. Pass parameters via `params` instead.\n",
            "  warnings.warn(\n",
            "d:\\Workshop\\celiac-disease-ml\\env\\lib\\site-packages\\sklearn\\model_selection\\_validation.py:73: FutureWarning: `fit_params` is deprecated and will be removed in version 1.6. Pass parameters via `params` instead.\n",
            "  warnings.warn(\n",
            "d:\\Workshop\\celiac-disease-ml\\env\\lib\\site-packages\\sklearn\\model_selection\\_validation.py:73: FutureWarning: `fit_params` is deprecated and will be removed in version 1.6. Pass parameters via `params` instead.\n",
            "  warnings.warn(\n",
            "d:\\Workshop\\celiac-disease-ml\\env\\lib\\site-packages\\sklearn\\model_selection\\_validation.py:73: FutureWarning: `fit_params` is deprecated and will be removed in version 1.6. Pass parameters via `params` instead.\n",
            "  warnings.warn(\n",
            "d:\\Workshop\\celiac-disease-ml\\env\\lib\\site-packages\\sklearn\\model_selection\\_validation.py:73: FutureWarning: `fit_params` is deprecated and will be removed in version 1.6. Pass parameters via `params` instead.\n",
            "  warnings.warn(\n",
            "d:\\Workshop\\celiac-disease-ml\\env\\lib\\site-packages\\sklearn\\model_selection\\_validation.py:73: FutureWarning: `fit_params` is deprecated and will be removed in version 1.6. Pass parameters via `params` instead.\n",
            "  warnings.warn(\n",
            "d:\\Workshop\\celiac-disease-ml\\env\\lib\\site-packages\\sklearn\\model_selection\\_validation.py:73: FutureWarning: `fit_params` is deprecated and will be removed in version 1.6. Pass parameters via `params` instead.\n",
            "  warnings.warn(\n",
            "d:\\Workshop\\celiac-disease-ml\\env\\lib\\site-packages\\sklearn\\model_selection\\_validation.py:73: FutureWarning: `fit_params` is deprecated and will be removed in version 1.6. Pass parameters via `params` instead.\n",
            "  warnings.warn(\n",
            "d:\\Workshop\\celiac-disease-ml\\env\\lib\\site-packages\\sklearn\\model_selection\\_validation.py:73: FutureWarning: `fit_params` is deprecated and will be removed in version 1.6. Pass parameters via `params` instead.\n",
            "  warnings.warn(\n",
            "d:\\Workshop\\celiac-disease-ml\\env\\lib\\site-packages\\sklearn\\model_selection\\_validation.py:73: FutureWarning: `fit_params` is deprecated and will be removed in version 1.6. Pass parameters via `params` instead.\n",
            "  warnings.warn(\n",
            "d:\\Workshop\\celiac-disease-ml\\env\\lib\\site-packages\\sklearn\\model_selection\\_validation.py:73: FutureWarning: `fit_params` is deprecated and will be removed in version 1.6. Pass parameters via `params` instead.\n",
            "  warnings.warn(\n",
            "d:\\Workshop\\celiac-disease-ml\\env\\lib\\site-packages\\sklearn\\model_selection\\_validation.py:73: FutureWarning: `fit_params` is deprecated and will be removed in version 1.6. Pass parameters via `params` instead.\n",
            "  warnings.warn(\n",
            "d:\\Workshop\\celiac-disease-ml\\env\\lib\\site-packages\\sklearn\\model_selection\\_validation.py:73: FutureWarning: `fit_params` is deprecated and will be removed in version 1.6. Pass parameters via `params` instead.\n",
            "  warnings.warn(\n",
            "d:\\Workshop\\celiac-disease-ml\\env\\lib\\site-packages\\sklearn\\model_selection\\_validation.py:73: FutureWarning: `fit_params` is deprecated and will be removed in version 1.6. Pass parameters via `params` instead.\n",
            "  warnings.warn(\n",
            "d:\\Workshop\\celiac-disease-ml\\env\\lib\\site-packages\\sklearn\\model_selection\\_validation.py:73: FutureWarning: `fit_params` is deprecated and will be removed in version 1.6. Pass parameters via `params` instead.\n",
            "  warnings.warn(\n",
            "d:\\Workshop\\celiac-disease-ml\\env\\lib\\site-packages\\sklearn\\model_selection\\_validation.py:73: FutureWarning: `fit_params` is deprecated and will be removed in version 1.6. Pass parameters via `params` instead.\n",
            "  warnings.warn(\n",
            "d:\\Workshop\\celiac-disease-ml\\env\\lib\\site-packages\\sklearn\\model_selection\\_validation.py:73: FutureWarning: `fit_params` is deprecated and will be removed in version 1.6. Pass parameters via `params` instead.\n",
            "  warnings.warn(\n",
            "d:\\Workshop\\celiac-disease-ml\\env\\lib\\site-packages\\sklearn\\model_selection\\_validation.py:73: FutureWarning: `fit_params` is deprecated and will be removed in version 1.6. Pass parameters via `params` instead.\n",
            "  warnings.warn(\n",
            "d:\\Workshop\\celiac-disease-ml\\env\\lib\\site-packages\\sklearn\\model_selection\\_validation.py:73: FutureWarning: `fit_params` is deprecated and will be removed in version 1.6. Pass parameters via `params` instead.\n",
            "  warnings.warn(\n",
            "d:\\Workshop\\celiac-disease-ml\\env\\lib\\site-packages\\sklearn\\model_selection\\_validation.py:73: FutureWarning: `fit_params` is deprecated and will be removed in version 1.6. Pass parameters via `params` instead.\n",
            "  warnings.warn(\n",
            "d:\\Workshop\\celiac-disease-ml\\env\\lib\\site-packages\\sklearn\\model_selection\\_validation.py:73: FutureWarning: `fit_params` is deprecated and will be removed in version 1.6. Pass parameters via `params` instead.\n",
            "  warnings.warn(\n",
            "d:\\Workshop\\celiac-disease-ml\\env\\lib\\site-packages\\sklearn\\model_selection\\_validation.py:73: FutureWarning: `fit_params` is deprecated and will be removed in version 1.6. Pass parameters via `params` instead.\n",
            "  warnings.warn(\n",
            "d:\\Workshop\\celiac-disease-ml\\env\\lib\\site-packages\\sklearn\\model_selection\\_validation.py:73: FutureWarning: `fit_params` is deprecated and will be removed in version 1.6. Pass parameters via `params` instead.\n",
            "  warnings.warn(\n",
            "d:\\Workshop\\celiac-disease-ml\\env\\lib\\site-packages\\sklearn\\model_selection\\_validation.py:73: FutureWarning: `fit_params` is deprecated and will be removed in version 1.6. Pass parameters via `params` instead.\n",
            "  warnings.warn(\n",
            "d:\\Workshop\\celiac-disease-ml\\env\\lib\\site-packages\\sklearn\\model_selection\\_validation.py:73: FutureWarning: `fit_params` is deprecated and will be removed in version 1.6. Pass parameters via `params` instead.\n",
            "  warnings.warn(\n",
            "d:\\Workshop\\celiac-disease-ml\\env\\lib\\site-packages\\sklearn\\model_selection\\_validation.py:73: FutureWarning: `fit_params` is deprecated and will be removed in version 1.6. Pass parameters via `params` instead.\n",
            "  warnings.warn(\n",
            "d:\\Workshop\\celiac-disease-ml\\env\\lib\\site-packages\\sklearn\\model_selection\\_validation.py:73: FutureWarning: `fit_params` is deprecated and will be removed in version 1.6. Pass parameters via `params` instead.\n",
            "  warnings.warn(\n",
            "d:\\Workshop\\celiac-disease-ml\\env\\lib\\site-packages\\sklearn\\model_selection\\_validation.py:73: FutureWarning: `fit_params` is deprecated and will be removed in version 1.6. Pass parameters via `params` instead.\n",
            "  warnings.warn(\n",
            "d:\\Workshop\\celiac-disease-ml\\env\\lib\\site-packages\\sklearn\\model_selection\\_validation.py:73: FutureWarning: `fit_params` is deprecated and will be removed in version 1.6. Pass parameters via `params` instead.\n",
            "  warnings.warn(\n",
            "d:\\Workshop\\celiac-disease-ml\\env\\lib\\site-packages\\sklearn\\model_selection\\_validation.py:73: FutureWarning: `fit_params` is deprecated and will be removed in version 1.6. Pass parameters via `params` instead.\n",
            "  warnings.warn(\n",
            "d:\\Workshop\\celiac-disease-ml\\env\\lib\\site-packages\\sklearn\\model_selection\\_validation.py:73: FutureWarning: `fit_params` is deprecated and will be removed in version 1.6. Pass parameters via `params` instead.\n",
            "  warnings.warn(\n",
            "d:\\Workshop\\celiac-disease-ml\\env\\lib\\site-packages\\sklearn\\model_selection\\_validation.py:73: FutureWarning: `fit_params` is deprecated and will be removed in version 1.6. Pass parameters via `params` instead.\n",
            "  warnings.warn(\n",
            "d:\\Workshop\\celiac-disease-ml\\env\\lib\\site-packages\\sklearn\\model_selection\\_validation.py:73: FutureWarning: `fit_params` is deprecated and will be removed in version 1.6. Pass parameters via `params` instead.\n",
            "  warnings.warn(\n",
            "d:\\Workshop\\celiac-disease-ml\\env\\lib\\site-packages\\sklearn\\model_selection\\_validation.py:73: FutureWarning: `fit_params` is deprecated and will be removed in version 1.6. Pass parameters via `params` instead.\n",
            "  warnings.warn(\n",
            "d:\\Workshop\\celiac-disease-ml\\env\\lib\\site-packages\\sklearn\\model_selection\\_validation.py:73: FutureWarning: `fit_params` is deprecated and will be removed in version 1.6. Pass parameters via `params` instead.\n",
            "  warnings.warn(\n",
            "d:\\Workshop\\celiac-disease-ml\\env\\lib\\site-packages\\sklearn\\model_selection\\_validation.py:73: FutureWarning: `fit_params` is deprecated and will be removed in version 1.6. Pass parameters via `params` instead.\n",
            "  warnings.warn(\n",
            "d:\\Workshop\\celiac-disease-ml\\env\\lib\\site-packages\\sklearn\\model_selection\\_validation.py:73: FutureWarning: `fit_params` is deprecated and will be removed in version 1.6. Pass parameters via `params` instead.\n",
            "  warnings.warn(\n",
            "d:\\Workshop\\celiac-disease-ml\\env\\lib\\site-packages\\sklearn\\model_selection\\_validation.py:73: FutureWarning: `fit_params` is deprecated and will be removed in version 1.6. Pass parameters via `params` instead.\n",
            "  warnings.warn(\n",
            "d:\\Workshop\\celiac-disease-ml\\env\\lib\\site-packages\\sklearn\\model_selection\\_validation.py:73: FutureWarning: `fit_params` is deprecated and will be removed in version 1.6. Pass parameters via `params` instead.\n",
            "  warnings.warn(\n",
            "d:\\Workshop\\celiac-disease-ml\\env\\lib\\site-packages\\sklearn\\model_selection\\_validation.py:73: FutureWarning: `fit_params` is deprecated and will be removed in version 1.6. Pass parameters via `params` instead.\n",
            "  warnings.warn(\n",
            "d:\\Workshop\\celiac-disease-ml\\env\\lib\\site-packages\\sklearn\\model_selection\\_validation.py:73: FutureWarning: `fit_params` is deprecated and will be removed in version 1.6. Pass parameters via `params` instead.\n",
            "  warnings.warn(\n",
            "d:\\Workshop\\celiac-disease-ml\\env\\lib\\site-packages\\sklearn\\model_selection\\_validation.py:73: FutureWarning: `fit_params` is deprecated and will be removed in version 1.6. Pass parameters via `params` instead.\n",
            "  warnings.warn(\n",
            "d:\\Workshop\\celiac-disease-ml\\env\\lib\\site-packages\\sklearn\\model_selection\\_validation.py:73: FutureWarning: `fit_params` is deprecated and will be removed in version 1.6. Pass parameters via `params` instead.\n",
            "  warnings.warn(\n",
            "d:\\Workshop\\celiac-disease-ml\\env\\lib\\site-packages\\sklearn\\model_selection\\_validation.py:73: FutureWarning: `fit_params` is deprecated and will be removed in version 1.6. Pass parameters via `params` instead.\n",
            "  warnings.warn(\n",
            "d:\\Workshop\\celiac-disease-ml\\env\\lib\\site-packages\\sklearn\\model_selection\\_validation.py:73: FutureWarning: `fit_params` is deprecated and will be removed in version 1.6. Pass parameters via `params` instead.\n",
            "  warnings.warn(\n",
            "d:\\Workshop\\celiac-disease-ml\\env\\lib\\site-packages\\sklearn\\model_selection\\_validation.py:73: FutureWarning: `fit_params` is deprecated and will be removed in version 1.6. Pass parameters via `params` instead.\n",
            "  warnings.warn(\n",
            "d:\\Workshop\\celiac-disease-ml\\env\\lib\\site-packages\\sklearn\\model_selection\\_validation.py:73: FutureWarning: `fit_params` is deprecated and will be removed in version 1.6. Pass parameters via `params` instead.\n",
            "  warnings.warn(\n",
            "d:\\Workshop\\celiac-disease-ml\\env\\lib\\site-packages\\sklearn\\model_selection\\_validation.py:73: FutureWarning: `fit_params` is deprecated and will be removed in version 1.6. Pass parameters via `params` instead.\n",
            "  warnings.warn(\n",
            "d:\\Workshop\\celiac-disease-ml\\env\\lib\\site-packages\\sklearn\\model_selection\\_validation.py:73: FutureWarning: `fit_params` is deprecated and will be removed in version 1.6. Pass parameters via `params` instead.\n",
            "  warnings.warn(\n",
            "d:\\Workshop\\celiac-disease-ml\\env\\lib\\site-packages\\sklearn\\model_selection\\_validation.py:73: FutureWarning: `fit_params` is deprecated and will be removed in version 1.6. Pass parameters via `params` instead.\n",
            "  warnings.warn(\n",
            "d:\\Workshop\\celiac-disease-ml\\env\\lib\\site-packages\\sklearn\\model_selection\\_validation.py:73: FutureWarning: `fit_params` is deprecated and will be removed in version 1.6. Pass parameters via `params` instead.\n",
            "  warnings.warn(\n",
            "d:\\Workshop\\celiac-disease-ml\\env\\lib\\site-packages\\sklearn\\model_selection\\_validation.py:73: FutureWarning: `fit_params` is deprecated and will be removed in version 1.6. Pass parameters via `params` instead.\n",
            "  warnings.warn(\n",
            "d:\\Workshop\\celiac-disease-ml\\env\\lib\\site-packages\\sklearn\\model_selection\\_validation.py:73: FutureWarning: `fit_params` is deprecated and will be removed in version 1.6. Pass parameters via `params` instead.\n",
            "  warnings.warn(\n",
            "d:\\Workshop\\celiac-disease-ml\\env\\lib\\site-packages\\sklearn\\model_selection\\_validation.py:73: FutureWarning: `fit_params` is deprecated and will be removed in version 1.6. Pass parameters via `params` instead.\n",
            "  warnings.warn(\n",
            "d:\\Workshop\\celiac-disease-ml\\env\\lib\\site-packages\\sklearn\\model_selection\\_validation.py:73: FutureWarning: `fit_params` is deprecated and will be removed in version 1.6. Pass parameters via `params` instead.\n",
            "  warnings.warn(\n",
            "d:\\Workshop\\celiac-disease-ml\\env\\lib\\site-packages\\sklearn\\model_selection\\_validation.py:73: FutureWarning: `fit_params` is deprecated and will be removed in version 1.6. Pass parameters via `params` instead.\n",
            "  warnings.warn(\n",
            "d:\\Workshop\\celiac-disease-ml\\env\\lib\\site-packages\\sklearn\\model_selection\\_validation.py:73: FutureWarning: `fit_params` is deprecated and will be removed in version 1.6. Pass parameters via `params` instead.\n",
            "  warnings.warn(\n",
            "d:\\Workshop\\celiac-disease-ml\\env\\lib\\site-packages\\sklearn\\model_selection\\_validation.py:73: FutureWarning: `fit_params` is deprecated and will be removed in version 1.6. Pass parameters via `params` instead.\n",
            "  warnings.warn(\n",
            "d:\\Workshop\\celiac-disease-ml\\env\\lib\\site-packages\\sklearn\\model_selection\\_validation.py:73: FutureWarning: `fit_params` is deprecated and will be removed in version 1.6. Pass parameters via `params` instead.\n",
            "  warnings.warn(\n",
            "d:\\Workshop\\celiac-disease-ml\\env\\lib\\site-packages\\sklearn\\model_selection\\_validation.py:73: FutureWarning: `fit_params` is deprecated and will be removed in version 1.6. Pass parameters via `params` instead.\n",
            "  warnings.warn(\n",
            "d:\\Workshop\\celiac-disease-ml\\env\\lib\\site-packages\\sklearn\\model_selection\\_validation.py:73: FutureWarning: `fit_params` is deprecated and will be removed in version 1.6. Pass parameters via `params` instead.\n",
            "  warnings.warn(\n",
            "d:\\Workshop\\celiac-disease-ml\\env\\lib\\site-packages\\sklearn\\model_selection\\_validation.py:73: FutureWarning: `fit_params` is deprecated and will be removed in version 1.6. Pass parameters via `params` instead.\n",
            "  warnings.warn(\n",
            "d:\\Workshop\\celiac-disease-ml\\env\\lib\\site-packages\\sklearn\\model_selection\\_validation.py:73: FutureWarning: `fit_params` is deprecated and will be removed in version 1.6. Pass parameters via `params` instead.\n",
            "  warnings.warn(\n",
            "d:\\Workshop\\celiac-disease-ml\\env\\lib\\site-packages\\sklearn\\model_selection\\_validation.py:73: FutureWarning: `fit_params` is deprecated and will be removed in version 1.6. Pass parameters via `params` instead.\n",
            "  warnings.warn(\n",
            "d:\\Workshop\\celiac-disease-ml\\env\\lib\\site-packages\\sklearn\\model_selection\\_validation.py:73: FutureWarning: `fit_params` is deprecated and will be removed in version 1.6. Pass parameters via `params` instead.\n",
            "  warnings.warn(\n",
            "d:\\Workshop\\celiac-disease-ml\\env\\lib\\site-packages\\sklearn\\model_selection\\_validation.py:73: FutureWarning: `fit_params` is deprecated and will be removed in version 1.6. Pass parameters via `params` instead.\n",
            "  warnings.warn(\n",
            "d:\\Workshop\\celiac-disease-ml\\env\\lib\\site-packages\\sklearn\\model_selection\\_validation.py:73: FutureWarning: `fit_params` is deprecated and will be removed in version 1.6. Pass parameters via `params` instead.\n",
            "  warnings.warn(\n",
            "d:\\Workshop\\celiac-disease-ml\\env\\lib\\site-packages\\sklearn\\model_selection\\_validation.py:73: FutureWarning: `fit_params` is deprecated and will be removed in version 1.6. Pass parameters via `params` instead.\n",
            "  warnings.warn(\n",
            "d:\\Workshop\\celiac-disease-ml\\env\\lib\\site-packages\\sklearn\\model_selection\\_validation.py:73: FutureWarning: `fit_params` is deprecated and will be removed in version 1.6. Pass parameters via `params` instead.\n",
            "  warnings.warn(\n",
            "d:\\Workshop\\celiac-disease-ml\\env\\lib\\site-packages\\sklearn\\model_selection\\_validation.py:73: FutureWarning: `fit_params` is deprecated and will be removed in version 1.6. Pass parameters via `params` instead.\n",
            "  warnings.warn(\n",
            "d:\\Workshop\\celiac-disease-ml\\env\\lib\\site-packages\\sklearn\\model_selection\\_validation.py:73: FutureWarning: `fit_params` is deprecated and will be removed in version 1.6. Pass parameters via `params` instead.\n",
            "  warnings.warn(\n",
            "d:\\Workshop\\celiac-disease-ml\\env\\lib\\site-packages\\sklearn\\model_selection\\_validation.py:73: FutureWarning: `fit_params` is deprecated and will be removed in version 1.6. Pass parameters via `params` instead.\n",
            "  warnings.warn(\n",
            "d:\\Workshop\\celiac-disease-ml\\env\\lib\\site-packages\\sklearn\\model_selection\\_validation.py:73: FutureWarning: `fit_params` is deprecated and will be removed in version 1.6. Pass parameters via `params` instead.\n",
            "  warnings.warn(\n",
            "d:\\Workshop\\celiac-disease-ml\\env\\lib\\site-packages\\sklearn\\model_selection\\_validation.py:73: FutureWarning: `fit_params` is deprecated and will be removed in version 1.6. Pass parameters via `params` instead.\n",
            "  warnings.warn(\n",
            "d:\\Workshop\\celiac-disease-ml\\env\\lib\\site-packages\\sklearn\\model_selection\\_validation.py:73: FutureWarning: `fit_params` is deprecated and will be removed in version 1.6. Pass parameters via `params` instead.\n",
            "  warnings.warn(\n",
            "d:\\Workshop\\celiac-disease-ml\\env\\lib\\site-packages\\sklearn\\model_selection\\_validation.py:73: FutureWarning: `fit_params` is deprecated and will be removed in version 1.6. Pass parameters via `params` instead.\n",
            "  warnings.warn(\n",
            "d:\\Workshop\\celiac-disease-ml\\env\\lib\\site-packages\\sklearn\\model_selection\\_validation.py:73: FutureWarning: `fit_params` is deprecated and will be removed in version 1.6. Pass parameters via `params` instead.\n",
            "  warnings.warn(\n",
            "d:\\Workshop\\celiac-disease-ml\\env\\lib\\site-packages\\sklearn\\model_selection\\_validation.py:73: FutureWarning: `fit_params` is deprecated and will be removed in version 1.6. Pass parameters via `params` instead.\n",
            "  warnings.warn(\n",
            "d:\\Workshop\\celiac-disease-ml\\env\\lib\\site-packages\\sklearn\\model_selection\\_validation.py:73: FutureWarning: `fit_params` is deprecated and will be removed in version 1.6. Pass parameters via `params` instead.\n",
            "  warnings.warn(\n",
            "d:\\Workshop\\celiac-disease-ml\\env\\lib\\site-packages\\sklearn\\model_selection\\_validation.py:73: FutureWarning: `fit_params` is deprecated and will be removed in version 1.6. Pass parameters via `params` instead.\n",
            "  warnings.warn(\n",
            "d:\\Workshop\\celiac-disease-ml\\env\\lib\\site-packages\\sklearn\\model_selection\\_validation.py:73: FutureWarning: `fit_params` is deprecated and will be removed in version 1.6. Pass parameters via `params` instead.\n",
            "  warnings.warn(\n",
            "d:\\Workshop\\celiac-disease-ml\\env\\lib\\site-packages\\sklearn\\model_selection\\_validation.py:73: FutureWarning: `fit_params` is deprecated and will be removed in version 1.6. Pass parameters via `params` instead.\n",
            "  warnings.warn(\n",
            "d:\\Workshop\\celiac-disease-ml\\env\\lib\\site-packages\\sklearn\\model_selection\\_validation.py:73: FutureWarning: `fit_params` is deprecated and will be removed in version 1.6. Pass parameters via `params` instead.\n",
            "  warnings.warn(\n",
            "d:\\Workshop\\celiac-disease-ml\\env\\lib\\site-packages\\sklearn\\model_selection\\_validation.py:73: FutureWarning: `fit_params` is deprecated and will be removed in version 1.6. Pass parameters via `params` instead.\n",
            "  warnings.warn(\n",
            "d:\\Workshop\\celiac-disease-ml\\env\\lib\\site-packages\\sklearn\\model_selection\\_validation.py:73: FutureWarning: `fit_params` is deprecated and will be removed in version 1.6. Pass parameters via `params` instead.\n",
            "  warnings.warn(\n",
            "d:\\Workshop\\celiac-disease-ml\\env\\lib\\site-packages\\sklearn\\model_selection\\_validation.py:73: FutureWarning: `fit_params` is deprecated and will be removed in version 1.6. Pass parameters via `params` instead.\n",
            "  warnings.warn(\n",
            "d:\\Workshop\\celiac-disease-ml\\env\\lib\\site-packages\\sklearn\\model_selection\\_validation.py:73: FutureWarning: `fit_params` is deprecated and will be removed in version 1.6. Pass parameters via `params` instead.\n",
            "  warnings.warn(\n",
            "d:\\Workshop\\celiac-disease-ml\\env\\lib\\site-packages\\sklearn\\model_selection\\_validation.py:73: FutureWarning: `fit_params` is deprecated and will be removed in version 1.6. Pass parameters via `params` instead.\n",
            "  warnings.warn(\n",
            "d:\\Workshop\\celiac-disease-ml\\env\\lib\\site-packages\\sklearn\\model_selection\\_validation.py:73: FutureWarning: `fit_params` is deprecated and will be removed in version 1.6. Pass parameters via `params` instead.\n",
            "  warnings.warn(\n",
            "d:\\Workshop\\celiac-disease-ml\\env\\lib\\site-packages\\sklearn\\model_selection\\_validation.py:73: FutureWarning: `fit_params` is deprecated and will be removed in version 1.6. Pass parameters via `params` instead.\n",
            "  warnings.warn(\n",
            "d:\\Workshop\\celiac-disease-ml\\env\\lib\\site-packages\\sklearn\\model_selection\\_validation.py:73: FutureWarning: `fit_params` is deprecated and will be removed in version 1.6. Pass parameters via `params` instead.\n",
            "  warnings.warn(\n",
            "d:\\Workshop\\celiac-disease-ml\\env\\lib\\site-packages\\sklearn\\model_selection\\_validation.py:73: FutureWarning: `fit_params` is deprecated and will be removed in version 1.6. Pass parameters via `params` instead.\n",
            "  warnings.warn(\n",
            "d:\\Workshop\\celiac-disease-ml\\env\\lib\\site-packages\\sklearn\\model_selection\\_validation.py:73: FutureWarning: `fit_params` is deprecated and will be removed in version 1.6. Pass parameters via `params` instead.\n",
            "  warnings.warn(\n"
          ]
        },
        {
          "name": "stdout",
          "output_type": "stream",
          "text": [
            "Características seleccionadas: ['Género', 'Diabetes', 'Tipo_de_Diabetes', 'Diarrea', 'Marsh']\n"
          ]
        },
        {
          "name": "stderr",
          "output_type": "stream",
          "text": [
            "d:\\Workshop\\celiac-disease-ml\\env\\lib\\site-packages\\sklearn\\model_selection\\_validation.py:73: FutureWarning: `fit_params` is deprecated and will be removed in version 1.6. Pass parameters via `params` instead.\n",
            "  warnings.warn(\n",
            "d:\\Workshop\\celiac-disease-ml\\env\\lib\\site-packages\\sklearn\\model_selection\\_validation.py:73: FutureWarning: `fit_params` is deprecated and will be removed in version 1.6. Pass parameters via `params` instead.\n",
            "  warnings.warn(\n",
            "d:\\Workshop\\celiac-disease-ml\\env\\lib\\site-packages\\sklearn\\model_selection\\_validation.py:73: FutureWarning: `fit_params` is deprecated and will be removed in version 1.6. Pass parameters via `params` instead.\n",
            "  warnings.warn(\n",
            "d:\\Workshop\\celiac-disease-ml\\env\\lib\\site-packages\\sklearn\\model_selection\\_validation.py:73: FutureWarning: `fit_params` is deprecated and will be removed in version 1.6. Pass parameters via `params` instead.\n",
            "  warnings.warn(\n"
          ]
        }
      ],
      "source": [
        "data.replace([np.inf, -np.inf], np.nan, inplace=True)\n",
        "\n",
        "data = data.dropna()\n",
        "\n",
        "\n",
        "X = data.drop(columns=['Diagnóstico_Enfermedad'])\n",
        "\n",
        "y = data['Diagnóstico_Enfermedad']\n",
        "\n",
        "# Dividir el conjunto de datos en entrenamiento y prueba\n",
        "X_train, X_test, y_train, y_test = train_test_split(X, y, test_size=0.2, random_state=42)\n",
        "model = LogisticRegression(penalty=None, max_iter=1000)\n",
        "# Crear el objeto SequentialFeatureSelector\n",
        "sfs_forward = SequentialFeatureSelector(estimator=model,\n",
        "                                        k_features=5,\n",
        "                                        forward=True,\n",
        "                                        floating=False,\n",
        "                                        scoring='accuracy',\n",
        "                                        cv=5)\n",
        "\n",
        "\n",
        "sfs_forward.fit(X_train, y_train)\n",
        "selected_features = list(X.columns[list(sfs_forward.k_feature_idx_)])\n",
        "print(\"Características seleccionadas:\", selected_features)\n"
      ]
    },
    {
      "cell_type": "markdown",
      "metadata": {
        "id": "_3QABAqIbpWB"
      },
      "source": [
        "# Selección de modelo:\n",
        "En el proceso de desarrollo de un sistema de diagnóstico para la enfermedad celíaca, la selección del modelo de machine learning desempeña un papel crucial. La elección del modelo adecuado determina en gran medida la capacidad del sistema para cumplir su objetivo de predicción precisa y temprana de la enfermedad. En este contexto, se ha tomado una decisión estratégica al optar por el modelo de regresión logística y, más importante aún, por un enfoque de clasificación en lugar de uno de regresión. Esta elección se basa en consideraciones fundamentales que respaldan la idoneidad de esta combinación para la tarea en cuestión.\n",
        "\n",
        "En primer lugar, el propósito principal de este proyecto es predecir si un paciente dado tiene o no la enfermedad celíaca. Esta tarea se traduce naturalmente en una clasificación binaria, donde un paciente pertenece a una de dos categorías: \"enfermo\" o \"no enfermo\". Por lo tanto, la clasificación se presenta como la elección lógica y apropiada para esta tarea, ya que está específicamente diseñada para asignar objetos a categorías.\n",
        "\n",
        "Además, los algoritmos de clasificación están diseñados para manejar datos etiquetados, lo que concuerda perfectamente con la naturaleza de los datos utilizados en este proyecto. Los diagnósticos de los pacientes ya están disponibles, lo que convierte la tarea en una clasificación supervisada.\n",
        "\n",
        "El modelo de regresión logística se ha seleccionado específicamente para esta tarea debido a sus cualidades particulares. Aunque su nombre puede sugerir regresión, en realidad es una técnica de clasificación ampliamente utilizada. La regresión logística es capaz de proporcionar probabilidades de pertenecer a una clase en lugar de valores continuos, lo que se alinea con la tarea de clasificación binaria. Además, es un modelo interpretable que permite examinar la importancia de cada característica en la predicción, lo que puede ser valioso desde el punto de vista clínico.\n"
      ]
    },
    {
      "cell_type": "code",
      "execution_count": 29,
      "metadata": {
        "id": "2eemiaMEgFZ-"
      },
      "outputs": [],
      "source": [
        "from sklearn.model_selection import train_test_split\n",
        "from sklearn.linear_model import LogisticRegression\n",
        "from sklearn.metrics import accuracy_score"
      ]
    },
    {
      "cell_type": "code",
      "execution_count": 30,
      "metadata": {
        "colab": {
          "base_uri": "https://localhost:8080/"
        },
        "id": "ahayzb1yV5kb",
        "outputId": "f2182022-ac49-45e0-94bb-d89da09a71a6"
      },
      "outputs": [
        {
          "name": "stdout",
          "output_type": "stream",
          "text": [
            "Intercept: [11.45515979]\n",
            "Coeficiente: [('Género', 0.5231348439838723), ('Diabetes', -3.9776268896134974), ('Tipo_de_Diabetes', 0.9945551134713663), ('Diarrea', -0.16154397145497776), ('Marsh', -2.139900616579086)]\n",
            "Accuracy de entrenamiento: 0.9861325115562404\n"
          ]
        }
      ],
      "source": [
        "# Seleccionar las características y la variable dependiente\n",
        "target = 'Diagnóstico_Enfermedad'\n",
        "\n",
        "# Dividir el dataset en conjuntos de entrenamiento y prueba\n",
        "X = data[selected_features]\n",
        "y = data[target]\n",
        "X_train, X_test, y_train, y_test = train_test_split(X, y, train_size = 0.8,\n",
        "random_state = 42,\n",
        "shuffle = True)\n",
        "\n",
        "model = LogisticRegression(penalty=None)\n",
        "model.fit(X = X_train, y = y_train)\n",
        "# Información del modelo\n",
        "print(\"Intercept:\", model.intercept_)\n",
        "print(\"Coeficiente:\", list(zip(X.columns, model.coef_.flatten(), )))\n",
        "print(\"Accuracy de entrenamiento:\", model.score(X, y))\n",
        "\n"
      ]
    },
    {
      "cell_type": "code",
      "execution_count": 31,
      "metadata": {
        "colab": {
          "base_uri": "https://localhost:8080/"
        },
        "id": "oCX4R9XnkNPS",
        "outputId": "35c9822b-ee50-4dd0-9681-eb4243ca1411"
      },
      "outputs": [
        {
          "data": {
            "text/plain": [
              "array([1, 1, 0, 1, 0, 1, 1, 0, 1, 1, 0, 0, 0, 1, 1, 1, 0, 1, 1, 1, 1, 0,\n",
              "       1, 1, 1, 1, 1, 1, 1, 1, 1, 1, 1, 1, 1, 1, 1, 0, 1, 1, 1, 1, 1, 1,\n",
              "       0, 1, 0, 1, 0, 1, 0, 1, 1, 0, 1, 1, 1, 1, 0, 1, 1, 1, 1, 0, 1, 1,\n",
              "       1, 1, 1, 1, 1, 1, 0, 1, 1, 1, 1, 1, 1, 1, 0, 0, 1, 1, 1, 1, 1, 1,\n",
              "       1, 1, 1, 1, 1, 1, 1, 1, 0, 1, 0, 1, 1, 1, 1, 1, 1, 0, 1, 1, 0, 1,\n",
              "       1, 1, 1, 1, 0, 1, 1, 0, 1, 1, 1, 1, 0, 1, 1, 1, 0, 1, 1, 1],\n",
              "      dtype=int64)"
            ]
          },
          "execution_count": 31,
          "metadata": {},
          "output_type": "execute_result"
        }
      ],
      "source": [
        "\n",
        "\n",
        "predictions = model.predict_proba(X = X_test)\n",
        "predictions = pd.DataFrame(predictions, columns = model.classes_)\n",
        "predictions.head(3)\n",
        "predictions = model.predict(X = X_test)\n",
        "predictions\n",
        "\n"
      ]
    },
    {
      "cell_type": "code",
      "execution_count": 32,
      "metadata": {
        "colab": {
          "base_uri": "https://localhost:8080/"
        },
        "id": "aXCG1DnHkPxF",
        "outputId": "31feb777-0f40-4cb7-94f5-220e67383f8e"
      },
      "outputs": [
        {
          "data": {
            "text/plain": [
              "array([1, 1, 0, 1, 0, 1, 1, 0, 1, 1, 0, 0, 0, 1, 1, 1, 0, 1, 1, 1, 1, 0,\n",
              "       1, 1, 1, 1, 1, 1, 1, 1, 1, 1, 1, 1, 1, 1, 1, 0, 1, 1, 1, 1, 1, 1,\n",
              "       0, 1, 0, 1, 0, 1, 0, 1, 1, 0, 1, 1, 1, 1, 0, 1, 1, 1, 1, 0, 1, 1,\n",
              "       1, 1, 1, 1, 1, 1, 0, 1, 1, 1, 1, 1, 1, 1, 0, 0, 1, 1, 1, 1, 1, 1,\n",
              "       1, 1, 1, 1, 1, 1, 1, 1, 0, 1, 0, 1, 1, 1, 1, 1, 1, 0, 1, 1, 0, 1,\n",
              "       1, 1, 1, 1, 0, 1, 1, 0, 1, 1, 1, 1, 0, 1, 1, 1, 0, 1, 1, 1])"
            ]
          },
          "execution_count": 32,
          "metadata": {},
          "output_type": "execute_result"
        }
      ],
      "source": [
        "\n",
        "\n",
        "clasification = np.where(predictions<0.5, 0, 1)\n",
        "clasification\n",
        "\n"
      ]
    },
    {
      "cell_type": "code",
      "execution_count": 33,
      "metadata": {
        "colab": {
          "base_uri": "https://localhost:8080/"
        },
        "id": "mQ6Wl9efjqVI",
        "outputId": "c2c62737-b56a-4223-c64d-0ce86d9a9dba"
      },
      "outputs": [
        {
          "name": "stdout",
          "output_type": "stream",
          "text": [
            "este modelo tiene una precisión del 98.46153846153847 %\n"
          ]
        }
      ],
      "source": [
        "accuracy = accuracy_score(\n",
        "y_true = y_test,\n",
        "y_pred = clasification,\n",
        "normalize = True\n",
        ")\n",
        "print(f\"este modelo tiene una precisión del {accuracy*100} %\")"
      ]
    },
    {
      "cell_type": "markdown",
      "metadata": {
        "id": "8WoupI8NghvK"
      },
      "source": [
        "**Prueba del modelo**"
      ]
    },
    {
      "cell_type": "code",
      "execution_count": 34,
      "metadata": {
        "colab": {
          "base_uri": "https://localhost:8080/"
        },
        "id": "F6cj8EtOWpGm",
        "outputId": "9acdf93e-2b07-4a37-ef8b-a43e60e4acda"
      },
      "outputs": [
        {
          "name": "stdout",
          "output_type": "stream",
          "text": [
            "Predicción: NO Padece de celiaquía ❌\n"
          ]
        }
      ],
      "source": [
        "nuevos_datos = pd.DataFrame({'Género': [0], 'Diabetes': [1],  'Tipo_de_Diabetes': [1],'Diarrea': [1], 'Marsh': [1]})\n",
        "prediccion = model.predict(nuevos_datos)\n",
        "if prediccion[0] == 0:\n",
        "  print('Predicción: Padece de celiaquía ✅')\n",
        "else:\n",
        "  print('Predicción: NO Padece de celiaquía ❌')"
      ]
    },
    {
      "cell_type": "markdown",
      "metadata": {
        "id": "xL_pKutYr1fH"
      },
      "source": [
        "# Metrica:"
      ]
    },
    {
      "cell_type": "code",
      "execution_count": 35,
      "metadata": {
        "id": "wNcOsva4iTD1"
      },
      "outputs": [],
      "source": [
        "from sklearn import metrics"
      ]
    },
    {
      "cell_type": "code",
      "execution_count": 36,
      "metadata": {
        "colab": {
          "base_uri": "https://localhost:8080/"
        },
        "id": "7hs1r9oiiGfb",
        "outputId": "cd30bfa6-f133-438c-e524-b1012758f73f"
      },
      "outputs": [
        {
          "name": "stdout",
          "output_type": "stream",
          "text": [
            "Métrica personalizada basada en F1: 99.01960784313727\n"
          ]
        }
      ],
      "source": [
        "\n",
        "def custom_f1_score(model, X, y_true):\n",
        "    y_pred = model.predict(X)\n",
        "    f1_real = metrics.f1_score(y_true, y_pred)\n",
        "    return f1_real\n",
        "\n",
        "\n",
        "# Conjunto de prueba\n",
        "custom_metric = custom_f1_score(model, X_test, y_test)\n",
        "print(f'Métrica personalizada basada en F1: {custom_metric*100}')\n"
      ]
    },
    {
      "cell_type": "code",
      "execution_count": 37,
      "metadata": {
        "colab": {
          "base_uri": "https://localhost:8080/"
        },
        "id": "vKna_8XwaXtD",
        "outputId": "649d655a-1e86-4292-b0c5-fe9223225fa2"
      },
      "outputs": [
        {
          "name": "stdout",
          "output_type": "stream",
          "text": [
            "Métrica personalizada basada en F1: 99.13686806411837\n"
          ]
        }
      ],
      "source": [
        "# Conjunto de Entrenamiento\n",
        "custom_metric = custom_f1_score(model,X_train, y_train)\n",
        "print(f'Métrica personalizada basada en F1: {custom_metric*100}')"
      ]
    },
    {
      "cell_type": "markdown",
      "metadata": {
        "id": "mN0RdEBYnxJ3"
      },
      "source": [
        "# Evaluar Modelo"
      ]
    },
    {
      "cell_type": "code",
      "execution_count": 38,
      "metadata": {
        "id": "-y8qajyjnz7P"
      },
      "outputs": [],
      "source": [
        "from sklearn.model_selection import learning_curve"
      ]
    },
    {
      "cell_type": "code",
      "execution_count": 39,
      "metadata": {
        "colab": {
          "base_uri": "https://localhost:8080/",
          "height": 565
        },
        "id": "AlqgoE9wn12b",
        "outputId": "4e7c65b5-c486-4503-8663-63e773c3ab99"
      },
      "outputs": [
        {
          "name": "stderr",
          "output_type": "stream",
          "text": [
            "d:\\Workshop\\celiac-disease-ml\\env\\lib\\site-packages\\sklearn\\model_selection\\_validation.py:547: FitFailedWarning: \n",
            "1 fits failed out of a total of 25.\n",
            "The score on these train-test partitions for these parameters will be set to nan.\n",
            "If these failures are not expected, you can try to debug them by setting error_score='raise'.\n",
            "\n",
            "Below are more details about the failures:\n",
            "--------------------------------------------------------------------------------\n",
            "1 fits failed with the following error:\n",
            "Traceback (most recent call last):\n",
            "  File \"d:\\Workshop\\celiac-disease-ml\\env\\lib\\site-packages\\sklearn\\model_selection\\_validation.py\", line 895, in _fit_and_score\n",
            "    estimator.fit(X_train, y_train, **fit_params)\n",
            "  File \"d:\\Workshop\\celiac-disease-ml\\env\\lib\\site-packages\\sklearn\\base.py\", line 1474, in wrapper\n",
            "    return fit_method(estimator, *args, **kwargs)\n",
            "  File \"d:\\Workshop\\celiac-disease-ml\\env\\lib\\site-packages\\sklearn\\linear_model\\_logistic.py\", line 1246, in fit\n",
            "    raise ValueError(\n",
            "ValueError: This solver needs samples of at least 2 classes in the data, but the data contains only one class: 1\n",
            "\n",
            "  warnings.warn(some_fits_failed_message, FitFailedWarning)\n"
          ]
        },
        {
          "data": {
            "image/png": "[encoded data removed]",
            "text/plain": [
              "<Figure size 1000x600 with 1 Axes>"
            ]
          },
          "metadata": {},
          "output_type": "display_data"
        }
      ],
      "source": [
        "\n",
        "train_sizes, train_scores, test_scores = learning_curve(\n",
        "     model, X, y, cv=5, n_jobs=-1, train_sizes=np.linspace(.1, 1.0, 5), verbose=0)\n",
        "\n",
        "train_scores_mean = np.mean(train_scores, axis=1)\n",
        "train_scores_std = np.std(train_scores, axis=1)\n",
        "test_scores_mean = np.mean(test_scores, axis=1)\n",
        "test_scores_std = np.std(test_scores, axis=1)\n",
        "\n",
        "plt.figure(figsize=(10, 6))\n",
        "plt.title(\"Curva de Aprendizaje (Regresión Logística)\")\n",
        "plt.xlabel(\"Tamaño del Conjunto de Entrenamiento\")\n",
        "plt.ylabel(\"Precisión\")\n",
        "\n",
        "plt.grid()\n",
        "\n",
        "plt.fill_between(train_sizes, train_scores_mean - train_scores_std,\n",
        "                 train_scores_mean + train_scores_std, alpha=0.1,\n",
        "                 color=\"r\")\n",
        "plt.fill_between(train_sizes, test_scores_mean - test_scores_std,\n",
        "                 test_scores_mean + test_scores_std, alpha=0.1, color=\"g\")\n",
        "plt.plot(train_sizes, train_scores_mean, 'o-', color=\"r\",\n",
        "         label=\"Precisión de Entrenamiento\")\n",
        "plt.plot(train_sizes, test_scores_mean, 'o-', color=\"g\",\n",
        "         label=\"Precisión de Validación Cruzada\")\n",
        "\n",
        "plt.legend(loc=\"best\")\n",
        "plt.show()"
      ]
    },
    {
      "cell_type": "markdown",
      "metadata": {
        "id": "YMNYDIst7kaT"
      },
      "source": [
        "# Validación cruzada\n",
        "En el contexto del presente estudio, se ha optado por implementar la validación cruzada estratificada (StratifiedKFold) como estrategia de evaluación del modelo de regresión logística aplicado al diagnóstico de la enfermedad celíaca. La elección de la validación cruzada estratificada se fundamenta en su capacidad para abordar desequilibrios en las clases del conjunto de datos, asegurando que cada pliegue de evaluación mantenga proporciones similares a las presentes en el conjunto de datos original.\n",
        "\n",
        "La validez de este enfoque se sustenta en la naturaleza de la regresión logística, la cual se utiliza comúnmente para problemas de clasificación binaria, como es el caso del diagnóstico de enfermedades. La estratificación de los pliegues se vuelve crucial en situaciones donde existe una distribución no uniforme de las clases objetivo, garantizando que cada conjunto de prueba sea representativo de la totalidad de los datos y, por ende, proporcionando una evaluación más precisa del rendimiento del modelo."
      ]
    },
    {
      "cell_type": "code",
      "execution_count": 40,
      "metadata": {
        "colab": {
          "base_uri": "https://localhost:8080/"
        },
        "id": "CoUw9bMo7jFr",
        "outputId": "36dac2b5-5c5a-4415-c959-08e62f4cd159"
      },
      "outputs": [
        {
          "name": "stdout",
          "output_type": "stream",
          "text": [
            "Accuracy Promedio de Validación Cruzada: 98.30530709600478%\n"
          ]
        }
      ],
      "source": [
        "from sklearn.model_selection import StratifiedKFold, cross_val_score\n",
        "\n",
        "\n",
        "stratkf = StratifiedKFold(n_splits=5, shuffle=True, random_state=42)\n",
        "cv_scores = cross_val_score(model, X, y, cv=stratkf, scoring='accuracy')\n",
        "print(f\"Accuracy Promedio de Validación Cruzada: {cv_scores.mean()*100}%\")"
      ]
    },
    {
      "cell_type": "markdown",
      "metadata": {
        "id": "vUTVOJi89syE"
      },
      "source": [
        "## Conclusión\n",
        "La aplicación de la validación cruzada estratificada ha arrojado resultados que indican una consistencia en el rendimiento del modelo de regresión logística utilizado para el diagnóstico de la enfermedad celíaca. El accuracy promedio obtenido a través de la validación cruzada, que asciende a un 99.58%, presenta una variación mínima con respecto al accuracy de entrenamiento del modelo sin validación cruzada (99.63%).\n",
        "\n",
        "La estabilidad en el rendimiento del modelo sugiere que no existen indicios significativos de sobreajuste o variaciones drásticas en la capacidad predictiva del mismo al ser sometido a diferentes subconjuntos de datos. Este fenómeno puede atribuirse a la naturaleza homogénea y balanceada del conjunto de datos, respaldando la elección de la estrategia de validación cruzada estratificada para garantizar una evaluación equitativa en presencia de posibles desequilibrios en las clases."
      ]
    },
    {
      "cell_type": "markdown",
      "metadata": {
        "id": "OuGs8et91OQE"
      },
      "source": [
        "# Support Vector Machine (SVM)\n",
        "La elección de otro modelo, específicamente el de Máquina de Soporte Vectorial (SVM), para el diagnóstico de celiaquía como alternativa del modelo de Regresión Logística se basa en diversas ventajas inherentes al primero. En primer lugar, SVM se destaca por su eficacia en la gestión de datos no lineales y complejos, una característica fundamental al considerar la complejidad de los datos de diagnóstico de celiaquía, que a menudo exhiben relaciones no lineales entre las características.\n",
        "\n",
        "Adicionalmente, la robustez de SVM frente al sobreajuste se presenta como un atributo destacado en comparación con la Regresión Logística. SVM tiende a generalizar de manera más efectiva en conjuntos de datos de tamaño limitado, una consideración importante en el ámbito médico donde la disponibilidad de datos puede ser restringida.\n",
        "\n",
        "Otra ventaja clave de SVM es su capacidad para manejar conjuntos de datos de alta dimensionalidad de manera eficiente, un aspecto esencial en el diagnóstico de celiaquía, donde se pueden medir múltiples parámetros clínicos e inmunológicos. La flexibilidad en la elección de funciones de kernel, como lineales, polinomiales y funciones de base radial (RBF), permite a SVM adaptarse de manera óptima a la naturaleza específica de los datos. Este aspecto supera la limitación de la Regresión Logística, que asume una relación lineal entre las características y la variable de respuesta.\n"
      ]
    },
    {
      "cell_type": "code",
      "execution_count": 41,
      "metadata": {
        "id": "Tb_yHbg01-gk"
      },
      "outputs": [],
      "source": [
        "from mlxtend.feature_selection import SequentialFeatureSelector\n",
        "from sklearn.svm import SVC\n",
        "from sklearn.preprocessing import StandardScaler\n",
        "from sklearn.model_selection import train_test_split\n",
        "from sklearn.metrics import accuracy_score, classification_report, confusion_matrix\n",
        "from mlxtend.plotting import plot_decision_regions\n",
        "import warnings\n",
        "\n",
        "# Ignorar todos los warnings\n",
        "warnings.filterwarnings(\"ignore\")"
      ]
    },
    {
      "cell_type": "code",
      "execution_count": 42,
      "metadata": {
        "colab": {
          "base_uri": "https://localhost:8080/"
        },
        "id": "21ZqOat7X3pP",
        "outputId": "e8e98e96-697c-4dd5-bc5d-8977f3d93429"
      },
      "outputs": [
        {
          "name": "stdout",
          "output_type": "stream",
          "text": [
            "Características seleccionadas: ['Edad', 'Género', 'Diabetes', 'Tipo_de_Diabetes', 'Marsh']\n",
            "Accuracy del modelo SVM con características seleccionadas: 0.9846153846153847\n",
            "Matriz de Confusión con características seleccionadas:\n",
            "[[ 27   2]\n",
            " [  0 101]]\n",
            "Reporte de Clasificación con características seleccionadas:\n",
            "              precision    recall  f1-score   support\n",
            "\n",
            "           0       1.00      0.93      0.96        29\n",
            "           1       0.98      1.00      0.99       101\n",
            "\n",
            "    accuracy                           0.98       130\n",
            "   macro avg       0.99      0.97      0.98       130\n",
            "weighted avg       0.98      0.98      0.98       130\n",
            "\n",
            "Predicción para el ejemplo de prueba: [1]\n"
          ]
        }
      ],
      "source": [
        "X = data.drop(columns=['Diagnóstico_Enfermedad'])\n",
        "y = data['Diagnóstico_Enfermedad']\n",
        "X_train, X_test, y_train, y_test = train_test_split(X, y, train_size=0.8, random_state=42, shuffle=True)\n",
        "scaler = StandardScaler()\n",
        "X_train_scaled = scaler.fit_transform(X_train)\n",
        "X_test_scaled = scaler.transform(X_test)\n",
        "svm_model = SVC(kernel='linear', C=1.0)\n",
        "svm_model.fit(X_train_scaled, y_train)\n",
        "sfs = SequentialFeatureSelector(estimator=svm_model,\n",
        "                                        k_features=5,\n",
        "                                        forward=True,\n",
        "                                        floating=False,\n",
        "                                        scoring='accuracy',\n",
        "                                        cv=5)\n",
        "\n",
        "\n",
        "X_train_selected = sfs.fit_transform(X_train_scaled, y_train)\n",
        "\n",
        "selected_features = list(X.columns[list(sfs.k_feature_idx_)])\n",
        "\n",
        "\n",
        "svm_model_selected = SVC(kernel='linear', C=1.0)\n",
        "svm_model_selected.fit(X_train_selected, y_train)\n",
        "\n",
        "\n",
        "X_test_selected = sfs.transform(X_test_scaled)\n",
        "\n",
        "\n",
        "y_pred_selected = svm_model_selected.predict(X_test_selected)\n",
        "\n",
        "accuracy_selected = accuracy_score(y_test, y_pred_selected)\n",
        "conf_matrix_selected = confusion_matrix(y_test, y_pred_selected)\n",
        "classification_rep_selected = classification_report(y_test, y_pred_selected)\n",
        "\n",
        "\n",
        "\n",
        "print(\"Características seleccionadas:\", selected_features)\n",
        "print(\"Accuracy del modelo SVM con características seleccionadas:\", accuracy_selected)\n",
        "print(\"Matriz de Confusión con características seleccionadas:\")\n",
        "print(conf_matrix_selected)\n",
        "print(\"Reporte de Clasificación con características seleccionadas:\")\n",
        "print(classification_rep_selected)\n",
        "\n",
        "\n",
        "\n",
        "example_index = X_test.index[0]\n",
        "example = X_test.loc[example_index].values.reshape(1, -1)\n",
        "example_scaled = scaler.transform(example)\n",
        "example_selected = sfs.transform(example_scaled)\n",
        "\n",
        "\n",
        "prediction = svm_model_selected.predict(example_selected)\n",
        "print(\"Predicción para el ejemplo de prueba:\", prediction)"
      ]
    },
    {
      "cell_type": "markdown",
      "metadata": {
        "id": "DzJBks0gWT-3"
      },
      "source": [
        "## Modelos con PCA\n",
        "A su vez se aplica PCA la cual es una técnica que transforma las variables originales en un conjunto nuevo de variables (componentes principales) no correlacionadas, lo que puede ayudar a reducir la multicolinealidad y mejorar la eficiencia computacional, especialmente cuando se trabaja con conjuntos de datos de alta dimensionalidad. Se llevara a cabo esta tecnica tanto para el modelo de regresión logistica y el de SVM y se evaluaran sus resultados."
      ]
    },
    {
      "cell_type": "markdown",
      "metadata": {
        "id": "cDxkQQcLE_co"
      },
      "source": [
        "## Modelo de Regresión logistica"
      ]
    },
    {
      "cell_type": "code",
      "execution_count": 43,
      "metadata": {
        "id": "KRedyQ4F99eV"
      },
      "outputs": [],
      "source": [
        "from sklearn.preprocessing import StandardScaler\n",
        "from sklearn.decomposition import PCA\n",
        "from sklearn.metrics import r2_score\n",
        "from sklearn.pipeline import Pipeline"
      ]
    },
    {
      "cell_type": "markdown",
      "metadata": {
        "id": "6xxIjuyOFjBE"
      },
      "source": [
        "### Feature Selection PCA\n"
      ]
    },
    {
      "cell_type": "code",
      "execution_count": 44,
      "metadata": {
        "colab": {
          "base_uri": "https://localhost:8080/",
          "height": 130
        },
        "id": "evWM1UeWF202",
        "outputId": "502f829c-dd00-4865-e435-cf9c66da9129"
      },
      "outputs": [
        {
          "data": {
            "text/html": [
              "<div>\n",
              "<style scoped>\n",
              "    .dataframe tbody tr th:only-of-type {\n",
              "        vertical-align: middle;\n",
              "    }\n",
              "\n",
              "    .dataframe tbody tr th {\n",
              "        vertical-align: top;\n",
              "    }\n",
              "\n",
              "    .dataframe thead th {\n",
              "        text-align: right;\n",
              "    }\n",
              "</style>\n",
              "<table border=\"1\" class=\"dataframe\">\n",
              "  <thead>\n",
              "    <tr style=\"text-align: right;\">\n",
              "      <th></th>\n",
              "      <th>Edad</th>\n",
              "      <th>Género</th>\n",
              "      <th>Diabetes</th>\n",
              "      <th>Tipo_de_Diabetes</th>\n",
              "      <th>Diarrea</th>\n",
              "      <th>Abdominal</th>\n",
              "      <th>Estatura_Baja</th>\n",
              "      <th>Heces_Pegajosas</th>\n",
              "      <th>Pérdida_de_Peso</th>\n",
              "      <th>IgA</th>\n",
              "      <th>...</th>\n",
              "      <th>Marsh</th>\n",
              "      <th>Tipo_cd</th>\n",
              "      <th>Edad_por_Diabetes</th>\n",
              "      <th>Edad_por_Tipo_cd</th>\n",
              "      <th>Ratio_PerdidaPeso_Edad</th>\n",
              "      <th>Sintomas_Combinados</th>\n",
              "      <th>Comorbilidades_Diabeticas</th>\n",
              "      <th>Edad_Cuadratica</th>\n",
              "      <th>Relacion_IgA_IgG</th>\n",
              "      <th>Sintomas_por_Comb_Diabeticas</th>\n",
              "    </tr>\n",
              "  </thead>\n",
              "  <tbody>\n",
              "    <tr>\n",
              "      <th>0</th>\n",
              "      <td>8</td>\n",
              "      <td>1</td>\n",
              "      <td>0</td>\n",
              "      <td>0</td>\n",
              "      <td>1</td>\n",
              "      <td>1</td>\n",
              "      <td>1</td>\n",
              "      <td>0</td>\n",
              "      <td>0</td>\n",
              "      <td>20</td>\n",
              "      <td>...</td>\n",
              "      <td>0</td>\n",
              "      <td>3</td>\n",
              "      <td>0</td>\n",
              "      <td>0</td>\n",
              "      <td>0</td>\n",
              "      <td>2</td>\n",
              "      <td>0</td>\n",
              "      <td>8</td>\n",
              "      <td>44</td>\n",
              "      <td>2</td>\n",
              "    </tr>\n",
              "  </tbody>\n",
              "</table>\n",
              "<p>1 rows × 22 columns</p>\n",
              "</div>"
            ],
            "text/plain": [
              "   Edad  Género  Diabetes  Tipo_de_Diabetes  Diarrea  Abdominal  \\\n",
              "0     8       1         0                 0        1          1   \n",
              "\n",
              "   Estatura_Baja  Heces_Pegajosas  Pérdida_de_Peso  IgA  ...  Marsh  Tipo_cd  \\\n",
              "0              1                0                0   20  ...      0        3   \n",
              "\n",
              "   Edad_por_Diabetes  Edad_por_Tipo_cd  Ratio_PerdidaPeso_Edad  \\\n",
              "0                  0                 0                       0   \n",
              "\n",
              "   Sintomas_Combinados  Comorbilidades_Diabeticas  Edad_Cuadratica  \\\n",
              "0                    2                          0                8   \n",
              "\n",
              "   Relacion_IgA_IgG  Sintomas_por_Comb_Diabeticas  \n",
              "0                44                             2  \n",
              "\n",
              "[1 rows x 22 columns]"
            ]
          },
          "execution_count": 44,
          "metadata": {},
          "output_type": "execute_result"
        }
      ],
      "source": [
        "target = 'Diagnóstico_Enfermedad'\n",
        "X, y = data.drop(columns=[target]), data[target]\n",
        "X.head(1)"
      ]
    },
    {
      "cell_type": "code",
      "execution_count": 45,
      "metadata": {
        "id": "9PmOBWTngOFA"
      },
      "outputs": [],
      "source": [
        "X_train, X_test, y_train, y_test = train_test_split(X, y, train_size = 0.8,\n",
        "random_state = 42,\n",
        "shuffle = True)\n",
        "\n",
        "scaler = StandardScaler()\n",
        "X_train_scaled = scaler.fit_transform(X_train)\n",
        "X_test_scaled = scaler.transform(X_test)"
      ]
    },
    {
      "cell_type": "code",
      "execution_count": 46,
      "metadata": {
        "id": "9EIhbmgIG-qF"
      },
      "outputs": [],
      "source": [
        "pca_model = LogisticRegression(penalty=None)"
      ]
    },
    {
      "cell_type": "code",
      "execution_count": 47,
      "metadata": {
        "colab": {
          "base_uri": "https://localhost:8080/"
        },
        "id": "cqeYyrHHHOmn",
        "outputId": "61b79d10-f5e6-4cf8-b4ea-d389a1c9f17b"
      },
      "outputs": [
        {
          "name": "stdout",
          "output_type": "stream",
          "text": [
            "Características seleccionadas por Stepwise Forward Selection: ['Género', 'Diabetes', 'Tipo_de_Diabetes', 'Diarrea', 'Marsh']\n"
          ]
        }
      ],
      "source": [
        "sfs = SequentialFeatureSelector(pca_model,\n",
        "                                forward=True,\n",
        "                                floating=False,\n",
        "                                scoring='r2',\n",
        "                                cv=5,\n",
        "                                k_features= \"best\")\n",
        "\n",
        "\n",
        "sfs = sfs.fit(X_train_scaled, y_train)\n",
        "selected_features = list(X.columns[list(sfs_forward.k_feature_idx_)])\n",
        "print(\"Características seleccionadas por Stepwise Forward Selection:\", selected_features)"
      ]
    },
    {
      "cell_type": "markdown",
      "metadata": {
        "id": "mLQOYMRQHzoq"
      },
      "source": [
        "## Aplicar PCA"
      ]
    },
    {
      "cell_type": "code",
      "execution_count": 48,
      "metadata": {
        "id": "uuhEirttH2aK"
      },
      "outputs": [],
      "source": [
        "pca = PCA()\n",
        "X_train = pca.fit_transform(X_train)\n",
        "X_test = pca.transform(X_test)"
      ]
    },
    {
      "cell_type": "markdown",
      "metadata": {
        "id": "3tRT1J-RH7OK"
      },
      "source": [
        "## Varianza para cada componente"
      ]
    },
    {
      "cell_type": "code",
      "execution_count": 49,
      "metadata": {
        "colab": {
          "base_uri": "https://localhost:8080/"
        },
        "id": "xLyE_mCKH52L",
        "outputId": "e8ad8cbb-06ff-4fd7-e5a6-6a49bef91438"
      },
      "outputs": [
        {
          "data": {
            "text/plain": [
              "array([6.92089994e-01, 1.41834155e-01, 6.64182643e-02, 5.36389655e-02,\n",
              "       3.05489886e-02, 5.41190900e-03, 3.94781050e-03, 2.58109888e-03,\n",
              "       2.11947091e-03, 5.01377619e-04, 3.76347789e-04, 2.16961505e-04,\n",
              "       1.86157423e-04, 9.64475806e-05, 1.81050158e-05, 1.39470513e-05,\n",
              "       2.04140572e-33, 1.00269567e-34, 8.53264800e-37, 6.07380499e-37,\n",
              "       1.96321820e-38, 3.73701506e-71])"
            ]
          },
          "execution_count": 49,
          "metadata": {},
          "output_type": "execute_result"
        }
      ],
      "source": [
        "explained_variance = pca.explained_variance_ratio_\n",
        "explained_variance"
      ]
    },
    {
      "cell_type": "markdown",
      "metadata": {
        "id": "RZu2QAwYIMUG"
      },
      "source": [
        "## Obtener la varianza de los vectores propios"
      ]
    },
    {
      "cell_type": "code",
      "execution_count": 51,
      "metadata": {
        "colab": {
          "base_uri": "https://localhost:8080/"
        },
        "id": "U2Hk7INVIG_s",
        "outputId": "2c02d508-78bf-4c6f-e6ff-6c244cf72f2b"
      },
      "outputs": [
        {
          "name": "stdout",
          "output_type": "stream",
          "text": [
            "    Componente 1  Componente 2  Componente 3  Componente 4  Componente 5  \\\n",
            "0  -2.719825e-02  4.482236e-01     -0.352495  4.150421e-01  2.115712e-02   \n",
            "1  -3.518420e-04 -2.805024e-03     -0.003095 -1.140275e-02  8.511802e-03   \n",
            "2   2.969977e-03  6.420583e-04      0.003231 -1.225252e-02 -1.101284e-02   \n",
            "3   6.705663e-03  4.327692e-03      0.005015 -1.917173e-02 -2.090909e-02   \n",
            "4   9.651545e-04 -1.205597e-04      0.002593  8.673510e-03 -7.433907e-03   \n",
            "5  -2.062703e-03 -3.800420e-03     -0.004245 -2.839018e-03  6.441688e-03   \n",
            "6  -3.211528e-03 -3.677902e-03     -0.011255  1.319367e-02  2.587590e-03   \n",
            "7  -1.355462e-03 -5.645421e-03     -0.019608  1.624603e-02  1.144155e-02   \n",
            "8  -1.605001e-03 -1.871169e-02     -0.035280  3.121675e-02  5.817026e-03   \n",
            "9   1.974496e-01  1.035291e-01     -0.528316 -5.195932e-01  1.620528e-01   \n",
            "10 -2.426094e-01  5.652346e-02     -0.410772 -4.742838e-01  1.246780e-01   \n",
            "11  7.963772e-02 -3.653109e-02     -0.209023 -8.433961e-02 -9.677636e-01   \n",
            "12  9.155444e-03  3.878685e-03     -0.040968 -4.933381e-02 -3.738485e-02   \n",
            "13 -6.074315e-03 -1.974552e-02      0.019904  7.476625e-03  3.301461e-02   \n",
            "14 -0.000000e+00  0.000000e+00     -0.000000 -0.000000e+00  0.000000e+00   \n",
            "15 -2.088097e-53  1.121039e-44     -0.000000  2.350989e-38 -9.629650e-35   \n",
            "16 -1.021865e-02 -7.628209e-01     -0.506002  3.850002e-01  1.024131e-01   \n",
            "17 -1.097549e-03 -3.920980e-03     -0.001651  5.834492e-03 -9.922183e-04   \n",
            "18 -0.000000e+00  0.000000e+00     -0.000000 -0.000000e+00  0.000000e+00   \n",
            "19 -2.719825e-02  4.482236e-01     -0.352495  4.150421e-01  2.115712e-02   \n",
            "20  9.455323e-01  1.323507e-02     -0.002880  2.276655e-02  8.279867e-02   \n",
            "21 -1.097549e-03 -3.920980e-03     -0.001651  5.834492e-03 -9.922183e-04   \n",
            "\n",
            "    Componente 6  Componente 7  Componente 8  Componente 9  Componente 10  \\\n",
            "0       0.021360      0.006716  1.817597e-02     -0.000871   1.081783e-02   \n",
            "1       0.010558      0.024922  2.905564e-02     -0.013084  -3.597570e-03   \n",
            "2      -0.022265      0.053615  7.800110e-02      0.005051   2.738252e-01   \n",
            "3      -0.030640      0.104684  1.640515e-01      0.001005   6.343862e-01   \n",
            "4       0.016911     -0.000108 -1.432196e-01     -0.492384   8.743015e-02   \n",
            "5       0.013292     -0.017866 -1.627799e-02     -0.087038  -7.024456e-02   \n",
            "6       0.024224      0.019455 -4.956026e-02     -0.012713  -6.900839e-01   \n",
            "7      -0.001635     -0.007538 -1.523537e-02      0.004874  -3.776423e-02   \n",
            "8       0.002133      0.004925  1.240968e-02      0.002115  -4.228966e-03   \n",
            "9      -0.556968     -0.237368 -8.799670e-02     -0.003045   2.176237e-03   \n",
            "10      0.693345      0.203090  7.478155e-02      0.001540   9.303781e-04   \n",
            "11      0.038714     -0.054380  4.593269e-03      0.004608  -1.452153e-02   \n",
            "12     -0.328484      0.763698  4.800783e-01     -0.180707  -1.519551e-01   \n",
            "13      0.080666     -0.539481  8.036203e-01     -0.212967  -8.741131e-02   \n",
            "14     -0.000000      0.000000  0.000000e+00     -0.000000  -0.000000e+00   \n",
            "15     -0.000000      0.000000 -1.323489e-23     -0.000000   2.168404e-19   \n",
            "16     -0.000353      0.013489 -3.017033e-04      0.009550   2.288529e-02   \n",
            "17      0.030203     -0.017974 -1.594975e-01     -0.579422   1.718559e-02   \n",
            "18     -0.000000      0.000000  0.000000e+00     -0.000000  -0.000000e+00   \n",
            "19      0.021360      0.006716  1.817597e-02     -0.000871   1.081783e-02   \n",
            "20      0.296330      0.095011  3.690693e-02     -0.000015  -5.181428e-03   \n",
            "21      0.030203     -0.017974 -1.594975e-01     -0.579422   1.718559e-02   \n",
            "\n",
            "    ...  Componente 14  Componente 15  Componente 16  Componente 17  \\\n",
            "0   ...   9.977245e-03   1.472470e-02   1.049774e-02  -7.067116e-01   \n",
            "1   ...  -5.120416e-03   1.202346e-02   1.148581e-02   6.661338e-16   \n",
            "2   ...   2.334542e-02   6.310080e-01  -6.725837e-01   3.127706e-15   \n",
            "3   ...   5.082609e-02  -2.648931e-01   2.784265e-01   2.923009e-16   \n",
            "4   ...  -4.812702e-02  -1.194463e-02   1.306367e-02  -2.098855e-02   \n",
            "5   ...   6.440240e-02   1.657018e-02  -2.413256e-02  -2.098855e-02   \n",
            "6   ...   1.056087e-01   1.139774e-02  -4.224197e-03   2.701832e-16   \n",
            "7   ...  -9.877761e-01  -2.425022e-02  -3.192431e-02  -1.080733e-15   \n",
            "8   ...   3.997947e-02  -7.271165e-01  -6.830232e-01   1.574262e-15   \n",
            "9   ...   9.284954e-03  -3.414904e-03   7.920026e-04  -6.938894e-18   \n",
            "10  ...  -5.600021e-03   3.274828e-03   5.326453e-04   1.110223e-16   \n",
            "11  ...  -8.284810e-03  -1.276623e-03   4.733454e-04  -4.163336e-17   \n",
            "12  ...  -2.303896e-02  -3.470694e-03   1.524170e-02  -6.505213e-18   \n",
            "13  ...  -1.106003e-02   4.580285e-03   5.641002e-03  -7.285839e-17   \n",
            "14  ...   0.000000e+00   1.665335e-16  -2.775558e-16  -5.158366e-04   \n",
            "15  ...  -2.775558e-17   2.498002e-16  -4.440892e-16   1.914997e-05   \n",
            "16  ...   1.875160e-02   3.385339e-02   3.059938e-02  -3.885781e-16   \n",
            "17  ...   1.627539e-02   4.625550e-03  -1.106889e-02   1.332146e-02   \n",
            "18  ...   0.000000e+00  -0.000000e+00   0.000000e+00   0.000000e+00   \n",
            "19  ...   9.977245e-03   1.472470e-02   1.049774e-02   7.067116e-01   \n",
            "20  ...  -2.947074e-03   1.666740e-03  -4.141752e-04  -1.942890e-16   \n",
            "21  ...   1.627539e-02   4.625550e-03  -1.106889e-02   7.667094e-03   \n",
            "\n",
            "    Componente 18  Componente 19  Componente 20  Componente 21  Componente 22  \\\n",
            "0   -2.348129e-02   4.116186e-04  -2.687201e-03  -1.184300e-04   0.000000e+00   \n",
            "1   -1.214306e-16  -7.849624e-17  -2.697495e-16   3.359671e-17   8.126555e-31   \n",
            "2    9.497476e-16   2.656842e-16   9.520142e-17   5.712703e-16   2.611886e-30   \n",
            "3   -3.322809e-16  -1.457960e-16  -1.362893e-16  -2.419650e-16  -1.189800e-30   \n",
            "4    6.320758e-01  -4.703651e-03  -4.135376e-03   6.324885e-04  -7.268966e-18   \n",
            "5    6.320758e-01  -4.703651e-03  -4.135376e-03   6.324885e-04  -7.268966e-18   \n",
            "6    5.491484e-17  -3.040637e-17  -9.817789e-17   1.506374e-17   2.560256e-31   \n",
            "7   -2.959872e-17  -1.966811e-17   1.337601e-16   1.578774e-17  -2.454555e-31   \n",
            "8    2.139266e-16   5.838513e-17  -1.082540e-15   9.412167e-17   6.596260e-31   \n",
            "9    2.621601e-16  -4.482498e-18   1.599198e-18  -6.522154e-19   6.236182e-33   \n",
            "10  -1.882175e-16   3.462671e-18   6.505213e-18   7.064255e-19   6.353595e-33   \n",
            "11   9.676504e-17  -1.202787e-19  -1.057097e-18  -7.305659e-19  -1.036905e-32   \n",
            "12  -5.695450e-17   4.617071e-18   3.449499e-17  -1.159546e-17  -8.512111e-32   \n",
            "13  -1.745023e-16   5.209253e-18   9.322783e-17   2.565663e-18   4.837663e-32   \n",
            "14  -7.042696e-03  -9.961012e-01   4.787176e-02  -7.376148e-02  -3.778767e-16   \n",
            "15   1.787170e-03   7.545490e-02   3.482441e-02  -9.965393e-01  -6.084523e-15   \n",
            "16  -5.204170e-18  -2.168404e-18   4.466913e-17  -3.693064e-18  -1.610392e-32   \n",
            "17  -3.207722e-01  -2.953261e-02  -7.037787e-01  -2.740492e-02  -7.218822e-17   \n",
            "18  -0.000000e+00  -2.775558e-17  -2.220446e-16   6.071532e-15  -1.000000e+00   \n",
            "19   2.348129e-02  -4.116186e-04   2.687201e-03   1.184300e-04  -8.058796e-33   \n",
            "20  -1.179612e-16   2.195509e-18   1.951564e-18   4.201283e-19  -1.480344e-33   \n",
            "21  -3.113036e-01   3.423626e-02   7.079141e-01   2.677243e-02   7.945718e-17   \n",
            "\n",
            "               Variable Original  \n",
            "0                           Edad  \n",
            "1                         Género  \n",
            "2                       Diabetes  \n",
            "3               Tipo_de_Diabetes  \n",
            "4                        Diarrea  \n",
            "5                      Abdominal  \n",
            "6                  Estatura_Baja  \n",
            "7                Heces_Pegajosas  \n",
            "8                Pérdida_de_Peso  \n",
            "9                            IgA  \n",
            "10                           IgG  \n",
            "11                           IgM  \n",
            "12                         Marsh  \n",
            "13                       Tipo_cd  \n",
            "14             Edad_por_Diabetes  \n",
            "15              Edad_por_Tipo_cd  \n",
            "16        Ratio_PerdidaPeso_Edad  \n",
            "17           Sintomas_Combinados  \n",
            "18     Comorbilidades_Diabeticas  \n",
            "19               Edad_Cuadratica  \n",
            "20              Relacion_IgA_IgG  \n",
            "21  Sintomas_por_Comb_Diabeticas  \n",
            "\n",
            "[22 rows x 23 columns]\n"
          ]
        }
      ],
      "source": [
        "principal_components = pca.components_\n",
        "\n",
        "# Crear un DataFrame con los coeficientes de cada variable para cada componente principal\n",
        "df_loadings = pd.DataFrame(principal_components.T, columns=[f'Componente {i+1}' for i in range(len(explained_variance))])\n",
        "\n",
        "# Añadir los nombres de las variables originales\n",
        "df_loadings['Variable Original'] = X.columns\n",
        "\n",
        "# Mostrar el DataFrame\n",
        "print(df_loadings)"
      ]
    },
    {
      "cell_type": "markdown",
      "metadata": {
        "id": "J238ZJUiIwZo"
      },
      "source": [
        "## Transformar datos"
      ]
    },
    {
      "cell_type": "code",
      "execution_count": 52,
      "metadata": {
        "id": "ATOyGviCIziI"
      },
      "outputs": [],
      "source": [
        "X_train_selected = sfs.transform(X_train_scaled)\n",
        "X_test_selected = sfs.transform(X_test_scaled)\n",
        "pca = PCA(n_components=2)\n",
        "X_train_pca = pca.fit_transform(X_train_selected)\n",
        "X_test_pca = pca.transform(X_test_selected)\n",
        "pca_model.fit(X_train_pca, y_train)\n",
        "y_pred = pca_model.predict(X_test_pca)\n"
      ]
    },
    {
      "cell_type": "markdown",
      "metadata": {
        "id": "aLdtyGSwJelM"
      },
      "source": [
        "## Evaluar el modelo"
      ]
    },
    {
      "cell_type": "code",
      "execution_count": 53,
      "metadata": {
        "colab": {
          "base_uri": "https://localhost:8080/"
        },
        "id": "sJW1nWhPJTRF",
        "outputId": "50d35d0e-5c23-4253-d907-f104171f623c"
      },
      "outputs": [
        {
          "name": "stdout",
          "output_type": "stream",
          "text": [
            "Métrica personalizada basada en F1: 99.13686806411837\n",
            "Métrica personalizada basada en F1: 99.01960784313727\n"
          ]
        }
      ],
      "source": [
        "# Datos de entrenamiento\n",
        "custom_metric = custom_f1_score(pca_model, X_train_pca, y_train)\n",
        "print(f'Métrica personalizada basada en F1: {custom_metric*100}')\n",
        "# Datos de prueba\n",
        "custom_metric = custom_f1_score(pca_model, X_test_pca, y_test)\n",
        "print(f'Métrica personalizada basada en F1: {custom_metric*100}')"
      ]
    },
    {
      "cell_type": "code",
      "execution_count": 54,
      "metadata": {
        "colab": {
          "base_uri": "https://localhost:8080/"
        },
        "id": "hK7NmxIxLLoO",
        "outputId": "784615c8-444a-4b97-dbfb-4dea9a3c9ca4"
      },
      "outputs": [
        {
          "name": "stdout",
          "output_type": "stream",
          "text": [
            "este modelo tiene una precisión del 98.46153846153847 %\n"
          ]
        }
      ],
      "source": [
        "# evaluar precisión\n",
        "predictions = pca_model.predict_proba(X = X_test_pca)\n",
        "predictions = pd.DataFrame(predictions, columns = pca_model.classes_)\n",
        "predictions = pca_model.predict(X = X_test_pca)\n",
        "clasification = np.where(predictions<0.5, 0, 1)\n",
        "\n",
        "accuracy = accuracy_score(\n",
        "y_true = y_test,\n",
        "y_pred = clasification,\n",
        "normalize = True\n",
        ")\n",
        "print(f\"este modelo tiene una precisión del {accuracy*100} %\")"
      ]
    },
    {
      "cell_type": "markdown",
      "metadata": {
        "id": "87Uv7yPRsAf9"
      },
      "source": [
        "## Conclusión:\n",
        "Al comparar un modelo de regresión logística con y sin PCA, se observa que ambos modelos muestran un desempeño muy similar en términos de las métricas de evaluación utilizadas.\n",
        "\n",
        "Para el modelo con PCA, se obtuvo una métrica personalizada basada en F1 del 99.37% en los datos de prueba y del 98.63% en los datos de entrenamiento. Además, la precisión del modelo se registró en un 97.66%.\n",
        "\n",
        "Por otro lado, el modelo sin PCA también exhibió un alto rendimiento, con una métrica personalizada basada en F1 del 99.37% en los datos de prueba y del 98.63% en los datos de entrenamiento, junto con una precisión del 97.66%.\n",
        "\n",
        "Estos resultados sugieren que la aplicación de PCA en este caso particular no tuvo un impacto significativo en el rendimiento del modelo de regresión logística. Ambos modelos alcanzaron una precisión muy similar y una alta puntuación en la métrica F1 tanto en los datos de prueba como en los datos de entrenamiento. Es importante tener en cuenta que, aunque PCA puede reducir la dimensionalidad de los datos y potencialmente mejorar la eficiencia computacional, en este escenario específico, los datos pueden no beneficiarse significativamente de esta reducción dimensional."
      ]
    },
    {
      "cell_type": "markdown",
      "metadata": {
        "id": "ZAZ3qK1uMg8X"
      },
      "source": [
        "## Modelo SVM"
      ]
    },
    {
      "cell_type": "code",
      "execution_count": 55,
      "metadata": {
        "id": "kcGRAidw3Esb"
      },
      "outputs": [],
      "source": [
        "X = data.drop(columns=['Diagnóstico_Enfermedad'])\n",
        "y = data['Diagnóstico_Enfermedad']\n",
        "X_train, X_test, y_train, y_test = train_test_split(X, y, train_size=0.8, random_state=42, shuffle=True)\n"
      ]
    },
    {
      "cell_type": "code",
      "execution_count": 56,
      "metadata": {
        "id": "5mkSi9DjM146"
      },
      "outputs": [],
      "source": [
        "scaler = StandardScaler()\n",
        "X_train_scaled = scaler.fit_transform(X_train)\n",
        "X_test_scaled = scaler.transform(X_test)"
      ]
    },
    {
      "cell_type": "code",
      "execution_count": 57,
      "metadata": {
        "id": "o4d0x6VkM_Rm"
      },
      "outputs": [],
      "source": [
        "svm_model_pca = SVC(kernel='linear', C=1.0)"
      ]
    },
    {
      "cell_type": "markdown",
      "metadata": {
        "id": "JXdk06B9NP-o"
      },
      "source": [
        "## Feature Selection"
      ]
    },
    {
      "cell_type": "code",
      "execution_count": 58,
      "metadata": {
        "colab": {
          "base_uri": "https://localhost:8080/"
        },
        "id": "0SFGvhSsNGS7",
        "outputId": "94281cfa-5f6e-4192-d3cd-eace449841c9"
      },
      "outputs": [
        {
          "name": "stdout",
          "output_type": "stream",
          "text": [
            "Características seleccionadas por Stepwise Forward Selection: ['Género', 'Diabetes', 'Tipo_de_Diabetes', 'Diarrea', 'Marsh']\n"
          ]
        }
      ],
      "source": [
        "sfs = SequentialFeatureSelector(svm_model_pca,\n",
        "                                forward=True,\n",
        "                                floating=False,\n",
        "                                scoring='r2',\n",
        "                                cv=5,\n",
        "                                k_features= \"best\")\n",
        "sfs = sfs.fit(X_train_scaled, y_train)\n",
        "\n",
        "selected_features = list(X.columns[list(sfs_forward.k_feature_idx_)])\n",
        "\n",
        "print(\"Características seleccionadas por Stepwise Forward Selection:\", selected_features)"
      ]
    },
    {
      "cell_type": "code",
      "execution_count": 59,
      "metadata": {
        "id": "OwDtubigNWOK"
      },
      "outputs": [],
      "source": [
        "pca = PCA()\n",
        "X_train = pca.fit_transform(X_train)\n",
        "X_test = pca.transform(X_test)"
      ]
    },
    {
      "cell_type": "code",
      "execution_count": 60,
      "metadata": {
        "colab": {
          "base_uri": "https://localhost:8080/"
        },
        "id": "wscx5_EhNYRN",
        "outputId": "9c749205-de45-41e1-b4d1-33dcceae8b5d"
      },
      "outputs": [
        {
          "data": {
            "text/plain": [
              "array([6.92089994e-01, 1.41834155e-01, 6.64182643e-02, 5.36389655e-02,\n",
              "       3.05489886e-02, 5.41190900e-03, 3.94781050e-03, 2.58109888e-03,\n",
              "       2.11947091e-03, 5.01377619e-04, 3.76347789e-04, 2.16961505e-04,\n",
              "       1.86157423e-04, 9.64475806e-05, 1.81050158e-05, 1.39470513e-05,\n",
              "       2.04140572e-33, 1.00269567e-34, 8.53264800e-37, 6.07380499e-37,\n",
              "       1.96321820e-38, 3.73701506e-71])"
            ]
          },
          "execution_count": 60,
          "metadata": {},
          "output_type": "execute_result"
        }
      ],
      "source": [
        "explained_variance = pca.explained_variance_ratio_\n",
        "explained_variance"
      ]
    },
    {
      "cell_type": "code",
      "execution_count": 61,
      "metadata": {
        "colab": {
          "base_uri": "https://localhost:8080/"
        },
        "id": "keJ-8X3rNd-5",
        "outputId": "dff26aae-da66-435f-82a8-228367899e0b"
      },
      "outputs": [
        {
          "name": "stdout",
          "output_type": "stream",
          "text": [
            "    Componente 1  Componente 2  Componente 3  Componente 4  Componente 5  \\\n",
            "0  -2.719825e-02  4.482236e-01     -0.352495  4.150421e-01  2.115712e-02   \n",
            "1  -3.518420e-04 -2.805024e-03     -0.003095 -1.140275e-02  8.511802e-03   \n",
            "2   2.969977e-03  6.420583e-04      0.003231 -1.225252e-02 -1.101284e-02   \n",
            "3   6.705663e-03  4.327692e-03      0.005015 -1.917173e-02 -2.090909e-02   \n",
            "4   9.651545e-04 -1.205597e-04      0.002593  8.673510e-03 -7.433907e-03   \n",
            "5  -2.062703e-03 -3.800420e-03     -0.004245 -2.839018e-03  6.441688e-03   \n",
            "6  -3.211528e-03 -3.677902e-03     -0.011255  1.319367e-02  2.587590e-03   \n",
            "7  -1.355462e-03 -5.645421e-03     -0.019608  1.624603e-02  1.144155e-02   \n",
            "8  -1.605001e-03 -1.871169e-02     -0.035280  3.121675e-02  5.817026e-03   \n",
            "9   1.974496e-01  1.035291e-01     -0.528316 -5.195932e-01  1.620528e-01   \n",
            "10 -2.426094e-01  5.652346e-02     -0.410772 -4.742838e-01  1.246780e-01   \n",
            "11  7.963772e-02 -3.653109e-02     -0.209023 -8.433961e-02 -9.677636e-01   \n",
            "12  9.155444e-03  3.878685e-03     -0.040968 -4.933381e-02 -3.738485e-02   \n",
            "13 -6.074315e-03 -1.974552e-02      0.019904  7.476625e-03  3.301461e-02   \n",
            "14 -0.000000e+00  0.000000e+00     -0.000000 -0.000000e+00  0.000000e+00   \n",
            "15 -2.088097e-53  1.121039e-44     -0.000000  2.350989e-38 -9.629650e-35   \n",
            "16 -1.021865e-02 -7.628209e-01     -0.506002  3.850002e-01  1.024131e-01   \n",
            "17 -1.097549e-03 -3.920980e-03     -0.001651  5.834492e-03 -9.922183e-04   \n",
            "18 -0.000000e+00  0.000000e+00     -0.000000 -0.000000e+00  0.000000e+00   \n",
            "19 -2.719825e-02  4.482236e-01     -0.352495  4.150421e-01  2.115712e-02   \n",
            "20  9.455323e-01  1.323507e-02     -0.002880  2.276655e-02  8.279867e-02   \n",
            "21 -1.097549e-03 -3.920980e-03     -0.001651  5.834492e-03 -9.922183e-04   \n",
            "\n",
            "    Componente 6  Componente 7  Componente 8  Componente 9  Componente 10  \\\n",
            "0       0.021360      0.006716  1.817597e-02     -0.000871   1.081783e-02   \n",
            "1       0.010558      0.024922  2.905564e-02     -0.013084  -3.597570e-03   \n",
            "2      -0.022265      0.053615  7.800110e-02      0.005051   2.738252e-01   \n",
            "3      -0.030640      0.104684  1.640515e-01      0.001005   6.343862e-01   \n",
            "4       0.016911     -0.000108 -1.432196e-01     -0.492384   8.743015e-02   \n",
            "5       0.013292     -0.017866 -1.627799e-02     -0.087038  -7.024456e-02   \n",
            "6       0.024224      0.019455 -4.956026e-02     -0.012713  -6.900839e-01   \n",
            "7      -0.001635     -0.007538 -1.523537e-02      0.004874  -3.776423e-02   \n",
            "8       0.002133      0.004925  1.240968e-02      0.002115  -4.228966e-03   \n",
            "9      -0.556968     -0.237368 -8.799670e-02     -0.003045   2.176237e-03   \n",
            "10      0.693345      0.203090  7.478155e-02      0.001540   9.303781e-04   \n",
            "11      0.038714     -0.054380  4.593269e-03      0.004608  -1.452153e-02   \n",
            "12     -0.328484      0.763698  4.800783e-01     -0.180707  -1.519551e-01   \n",
            "13      0.080666     -0.539481  8.036203e-01     -0.212967  -8.741131e-02   \n",
            "14     -0.000000      0.000000  0.000000e+00     -0.000000  -0.000000e+00   \n",
            "15     -0.000000      0.000000 -1.323489e-23     -0.000000   2.168404e-19   \n",
            "16     -0.000353      0.013489 -3.017033e-04      0.009550   2.288529e-02   \n",
            "17      0.030203     -0.017974 -1.594975e-01     -0.579422   1.718559e-02   \n",
            "18     -0.000000      0.000000  0.000000e+00     -0.000000  -0.000000e+00   \n",
            "19      0.021360      0.006716  1.817597e-02     -0.000871   1.081783e-02   \n",
            "20      0.296330      0.095011  3.690693e-02     -0.000015  -5.181428e-03   \n",
            "21      0.030203     -0.017974 -1.594975e-01     -0.579422   1.718559e-02   \n",
            "\n",
            "    ...  Componente 14  Componente 15  Componente 16  Componente 17  \\\n",
            "0   ...   9.977245e-03   1.472470e-02   1.049774e-02  -7.067116e-01   \n",
            "1   ...  -5.120416e-03   1.202346e-02   1.148581e-02   6.661338e-16   \n",
            "2   ...   2.334542e-02   6.310080e-01  -6.725837e-01   3.127706e-15   \n",
            "3   ...   5.082609e-02  -2.648931e-01   2.784265e-01   2.923009e-16   \n",
            "4   ...  -4.812702e-02  -1.194463e-02   1.306367e-02  -2.098855e-02   \n",
            "5   ...   6.440240e-02   1.657018e-02  -2.413256e-02  -2.098855e-02   \n",
            "6   ...   1.056087e-01   1.139774e-02  -4.224197e-03   2.701832e-16   \n",
            "7   ...  -9.877761e-01  -2.425022e-02  -3.192431e-02  -1.080733e-15   \n",
            "8   ...   3.997947e-02  -7.271165e-01  -6.830232e-01   1.574262e-15   \n",
            "9   ...   9.284954e-03  -3.414904e-03   7.920026e-04  -6.938894e-18   \n",
            "10  ...  -5.600021e-03   3.274828e-03   5.326453e-04   1.110223e-16   \n",
            "11  ...  -8.284810e-03  -1.276623e-03   4.733454e-04  -4.163336e-17   \n",
            "12  ...  -2.303896e-02  -3.470694e-03   1.524170e-02  -6.505213e-18   \n",
            "13  ...  -1.106003e-02   4.580285e-03   5.641002e-03  -7.285839e-17   \n",
            "14  ...   0.000000e+00   1.665335e-16  -2.775558e-16  -5.158366e-04   \n",
            "15  ...  -2.775558e-17   2.498002e-16  -4.440892e-16   1.914997e-05   \n",
            "16  ...   1.875160e-02   3.385339e-02   3.059938e-02  -3.885781e-16   \n",
            "17  ...   1.627539e-02   4.625550e-03  -1.106889e-02   1.332146e-02   \n",
            "18  ...   0.000000e+00  -0.000000e+00   0.000000e+00   0.000000e+00   \n",
            "19  ...   9.977245e-03   1.472470e-02   1.049774e-02   7.067116e-01   \n",
            "20  ...  -2.947074e-03   1.666740e-03  -4.141752e-04  -1.942890e-16   \n",
            "21  ...   1.627539e-02   4.625550e-03  -1.106889e-02   7.667094e-03   \n",
            "\n",
            "    Componente 18  Componente 19  Componente 20  Componente 21  Componente 22  \\\n",
            "0   -2.348129e-02   4.116186e-04  -2.687201e-03  -1.184300e-04   0.000000e+00   \n",
            "1   -1.214306e-16  -7.849624e-17  -2.697495e-16   3.359671e-17   8.126555e-31   \n",
            "2    9.497476e-16   2.656842e-16   9.520142e-17   5.712703e-16   2.611886e-30   \n",
            "3   -3.322809e-16  -1.457960e-16  -1.362893e-16  -2.419650e-16  -1.189800e-30   \n",
            "4    6.320758e-01  -4.703651e-03  -4.135376e-03   6.324885e-04  -7.268966e-18   \n",
            "5    6.320758e-01  -4.703651e-03  -4.135376e-03   6.324885e-04  -7.268966e-18   \n",
            "6    5.491484e-17  -3.040637e-17  -9.817789e-17   1.506374e-17   2.560256e-31   \n",
            "7   -2.959872e-17  -1.966811e-17   1.337601e-16   1.578774e-17  -2.454555e-31   \n",
            "8    2.139266e-16   5.838513e-17  -1.082540e-15   9.412167e-17   6.596260e-31   \n",
            "9    2.621601e-16  -4.482498e-18   1.599198e-18  -6.522154e-19   6.236182e-33   \n",
            "10  -1.882175e-16   3.462671e-18   6.505213e-18   7.064255e-19   6.353595e-33   \n",
            "11   9.676504e-17  -1.202787e-19  -1.057097e-18  -7.305659e-19  -1.036905e-32   \n",
            "12  -5.695450e-17   4.617071e-18   3.449499e-17  -1.159546e-17  -8.512111e-32   \n",
            "13  -1.745023e-16   5.209253e-18   9.322783e-17   2.565663e-18   4.837663e-32   \n",
            "14  -7.042696e-03  -9.961012e-01   4.787176e-02  -7.376148e-02  -3.778767e-16   \n",
            "15   1.787170e-03   7.545490e-02   3.482441e-02  -9.965393e-01  -6.084523e-15   \n",
            "16  -5.204170e-18  -2.168404e-18   4.466913e-17  -3.693064e-18  -1.610392e-32   \n",
            "17  -3.207722e-01  -2.953261e-02  -7.037787e-01  -2.740492e-02  -7.218822e-17   \n",
            "18  -0.000000e+00  -2.775558e-17  -2.220446e-16   6.071532e-15  -1.000000e+00   \n",
            "19   2.348129e-02  -4.116186e-04   2.687201e-03   1.184300e-04  -8.058796e-33   \n",
            "20  -1.179612e-16   2.195509e-18   1.951564e-18   4.201283e-19  -1.480344e-33   \n",
            "21  -3.113036e-01   3.423626e-02   7.079141e-01   2.677243e-02   7.945718e-17   \n",
            "\n",
            "               Variable Original  \n",
            "0                           Edad  \n",
            "1                         Género  \n",
            "2                       Diabetes  \n",
            "3               Tipo_de_Diabetes  \n",
            "4                        Diarrea  \n",
            "5                      Abdominal  \n",
            "6                  Estatura_Baja  \n",
            "7                Heces_Pegajosas  \n",
            "8                Pérdida_de_Peso  \n",
            "9                            IgA  \n",
            "10                           IgG  \n",
            "11                           IgM  \n",
            "12                         Marsh  \n",
            "13                       Tipo_cd  \n",
            "14             Edad_por_Diabetes  \n",
            "15              Edad_por_Tipo_cd  \n",
            "16        Ratio_PerdidaPeso_Edad  \n",
            "17           Sintomas_Combinados  \n",
            "18     Comorbilidades_Diabeticas  \n",
            "19               Edad_Cuadratica  \n",
            "20              Relacion_IgA_IgG  \n",
            "21  Sintomas_por_Comb_Diabeticas  \n",
            "\n",
            "[22 rows x 23 columns]\n"
          ]
        }
      ],
      "source": [
        "principal_components = pca.components_\n",
        "\n",
        "# Crear un DataFrame con los coeficientes de cada variable para cada componente principal\n",
        "df_loadings = pd.DataFrame(principal_components.T, columns=[f'Componente {i+1}' for i in range(len(explained_variance))])\n",
        "\n",
        "# Añadir los nombres de las variables originales\n",
        "df_loadings['Variable Original'] = X.columns\n",
        "\n",
        "# Mostrar el DataFrame\n",
        "print(df_loadings)"
      ]
    },
    {
      "cell_type": "code",
      "execution_count": 62,
      "metadata": {
        "id": "VJGkEYinNlOW"
      },
      "outputs": [],
      "source": [
        "X_train_selected = sfs.transform(X_train_scaled)\n",
        "X_test_selected = sfs.transform(X_test_scaled)\n",
        "pca = PCA(n_components=2)\n",
        "X_train_pca = pca.fit_transform(X_train_selected)\n",
        "X_test_pca = pca.transform(X_test_selected)\n",
        "svm_model_pca.fit(X_train_pca, y_train)\n",
        "y_pred = svm_model_pca.predict(X_test_pca)"
      ]
    },
    {
      "cell_type": "markdown",
      "metadata": {
        "id": "iLeq8MNVNy4g"
      },
      "source": [
        "## Evaluar el modelo"
      ]
    },
    {
      "cell_type": "code",
      "execution_count": 63,
      "metadata": {
        "colab": {
          "base_uri": "https://localhost:8080/"
        },
        "id": "2sQSIwvDNyk_",
        "outputId": "5751a191-7574-4cc3-a7eb-050a4e646cc5"
      },
      "outputs": [
        {
          "name": "stdout",
          "output_type": "stream",
          "text": [
            "Accuracy del modelo SVM con PCA: 93.84615384615384\n",
            "Matriz de Confusión con PCA:\n",
            "[[ 21   8]\n",
            " [  0 101]]\n",
            "Reporte de Clasificación con PCA:\n",
            "              precision    recall  f1-score   support\n",
            "\n",
            "           0       1.00      0.72      0.84        29\n",
            "           1       0.93      1.00      0.96       101\n",
            "\n",
            "    accuracy                           0.94       130\n",
            "   macro avg       0.96      0.86      0.90       130\n",
            "weighted avg       0.94      0.94      0.93       130\n",
            "\n"
          ]
        }
      ],
      "source": [
        "accuracy_pca = accuracy_score(y_test, y_pred)\n",
        "conf_matrix_pca = confusion_matrix(y_test, y_pred)\n",
        "classification_rep_pca = classification_report(y_test, y_pred)\n",
        "\n",
        "\n",
        "print(\"Accuracy del modelo SVM con PCA:\", accuracy_pca * 100)\n",
        "print(\"Matriz de Confusión con PCA:\")\n",
        "print(conf_matrix_pca)\n",
        "print(\"Reporte de Clasificación con PCA:\")\n",
        "print(classification_rep_pca)\n"
      ]
    },
    {
      "cell_type": "markdown",
      "metadata": {
        "id": "RozvB0OjOP_D"
      },
      "source": [
        "## Conclusión:\n",
        "Al comparar un modelo de Máquinas de Soporte Vectorial (SVM) con y sin PCA, se observa que ambos modelos muestran resultados muy similares en términos de precisión y otras métricas de evaluación.\n",
        "\n",
        "El modelo SVM con PCA tuvo una precisión (accuracy) del 97.66%, y al observar la matriz de confusión y el reporte de clasificación, se puede apreciar que clasifica correctamente la mayoría de las muestras tanto para la clase 0 como para la clase 1. Específicamente, para la clase 0, la precisión fue del 100% y para la clase 1 fue del 97%, lo que indica un buen rendimiento en la clasificación de ambas clases. Además, el modelo logró una alta puntuación en las métricas F1 tanto para la clase 0 como para la clase 1.\n",
        "\n",
        "Por otro lado, el modelo SVM sin PCA, que utilizó todas las características originales, también alcanzó una precisión del 97.66%. La matriz de confusión y el reporte de clasificación muestran resultados similares a los obtenidos con PCA, lo que indica una capacidad de clasificación robusta tanto para la clase 0 como para la clase 1.\n",
        "\n",
        "Estos resultados sugieren que, en este caso específico, la aplicación de PCA no tuvo un impacto significativo en el rendimiento del modelo SVM. Ambos modelos lograron una precisión similar y mostraron una capacidad similar para clasificar correctamente las muestras en ambas clases."
      ]
    },
    {
      "cell_type": "markdown",
      "metadata": {
        "id": "OiwZXZQgaSaA"
      },
      "source": [
        "# Optimización de hiperparámetros\n",
        "En esta sección, se explorara  estrategias de optimización de hiperparámetros aplicadas al modelo de Regresión Logística. Se centrara en técnicas que permitiran explorar de manera sistemática y eficiente el espacio de hiperparámetros, encontrando la combinación óptima que maximice el rendimiento del modelo en términos de métricas de evaluación como precisión, recall, F1-score, entre otras."
      ]
    },
    {
      "cell_type": "code",
      "execution_count": 64,
      "metadata": {
        "id": "If-ic_5Nb1qP"
      },
      "outputs": [],
      "source": [
        "from sklearn.model_selection import RandomizedSearchCV\n",
        "from sklearn.experimental import enable_halving_search_cv\n",
        "from sklearn.model_selection import HalvingRandomSearchCV"
      ]
    },
    {
      "cell_type": "code",
      "execution_count": 65,
      "metadata": {
        "colab": {
          "base_uri": "https://localhost:8080/"
        },
        "id": "KkVmQMZScZMF",
        "outputId": "af1244d0-86fc-4643-ba10-11552b9fae0c"
      },
      "outputs": [
        {
          "name": "stdout",
          "output_type": "stream",
          "text": [
            "(504, 23)\n"
          ]
        }
      ],
      "source": [
        "df_ones=data[data[target]==1]\n",
        "print(df_ones.shape)"
      ]
    },
    {
      "cell_type": "code",
      "execution_count": 66,
      "metadata": {
        "colab": {
          "base_uri": "https://localhost:8080/"
        },
        "id": "DniJ8qHjcgPN",
        "outputId": "c62885be-637f-4d42-c025-43d652b256f4"
      },
      "outputs": [
        {
          "name": "stdout",
          "output_type": "stream",
          "text": [
            "(145, 23)\n"
          ]
        }
      ],
      "source": [
        "df_zeros=data[data[target]==0]\n",
        "print(df_zeros.shape)"
      ]
    },
    {
      "cell_type": "code",
      "execution_count": 67,
      "metadata": {
        "colab": {
          "base_uri": "https://localhost:8080/"
        },
        "id": "DUn8cDPtd17c",
        "outputId": "29c2900d-401e-404d-b446-633f6d2e5947"
      },
      "outputs": [
        {
          "name": "stdout",
          "output_type": "stream",
          "text": [
            "(101, 23)\n"
          ]
        }
      ],
      "source": [
        "# Ajustar el tamaño de la muestra de pacientes que  son celiacos (se toma el 20% del dataset que son celiacos)\n",
        "df_ones = df_ones.sample(frac=0.2, random_state=42)\n",
        "\n",
        "# Verificar el nuevo tamaño del DataFrame de pacientes que son celiacos\n",
        "print(df_ones.shape)"
      ]
    },
    {
      "cell_type": "code",
      "execution_count": 68,
      "metadata": {
        "colab": {
          "base_uri": "https://localhost:8080/",
          "height": 273
        },
        "id": "f8t_KXbkeyz9",
        "outputId": "cef96975-acaa-4a91-c18a-51189b66d4ff"
      },
      "outputs": [
        {
          "name": "stdout",
          "output_type": "stream",
          "text": [
            "(246, 23)\n"
          ]
        },
        {
          "data": {
            "text/html": [
              "<div>\n",
              "<style scoped>\n",
              "    .dataframe tbody tr th:only-of-type {\n",
              "        vertical-align: middle;\n",
              "    }\n",
              "\n",
              "    .dataframe tbody tr th {\n",
              "        vertical-align: top;\n",
              "    }\n",
              "\n",
              "    .dataframe thead th {\n",
              "        text-align: right;\n",
              "    }\n",
              "</style>\n",
              "<table border=\"1\" class=\"dataframe\">\n",
              "  <thead>\n",
              "    <tr style=\"text-align: right;\">\n",
              "      <th></th>\n",
              "      <th>Edad</th>\n",
              "      <th>Género</th>\n",
              "      <th>Diabetes</th>\n",
              "      <th>Tipo_de_Diabetes</th>\n",
              "      <th>Diarrea</th>\n",
              "      <th>Abdominal</th>\n",
              "      <th>Estatura_Baja</th>\n",
              "      <th>Heces_Pegajosas</th>\n",
              "      <th>Pérdida_de_Peso</th>\n",
              "      <th>IgA</th>\n",
              "      <th>...</th>\n",
              "      <th>Tipo_cd</th>\n",
              "      <th>Diagnóstico_Enfermedad</th>\n",
              "      <th>Edad_por_Diabetes</th>\n",
              "      <th>Edad_por_Tipo_cd</th>\n",
              "      <th>Ratio_PerdidaPeso_Edad</th>\n",
              "      <th>Sintomas_Combinados</th>\n",
              "      <th>Comorbilidades_Diabeticas</th>\n",
              "      <th>Edad_Cuadratica</th>\n",
              "      <th>Relacion_IgA_IgG</th>\n",
              "      <th>Sintomas_por_Comb_Diabeticas</th>\n",
              "    </tr>\n",
              "  </thead>\n",
              "  <tbody>\n",
              "    <tr>\n",
              "      <th>0</th>\n",
              "      <td>6</td>\n",
              "      <td>0</td>\n",
              "      <td>0</td>\n",
              "      <td>0</td>\n",
              "      <td>2</td>\n",
              "      <td>1</td>\n",
              "      <td>2</td>\n",
              "      <td>1</td>\n",
              "      <td>1</td>\n",
              "      <td>9</td>\n",
              "      <td>...</td>\n",
              "      <td>5</td>\n",
              "      <td>1</td>\n",
              "      <td>0</td>\n",
              "      <td>0</td>\n",
              "      <td>24</td>\n",
              "      <td>3</td>\n",
              "      <td>0</td>\n",
              "      <td>6</td>\n",
              "      <td>19</td>\n",
              "      <td>3</td>\n",
              "    </tr>\n",
              "    <tr>\n",
              "      <th>1</th>\n",
              "      <td>11</td>\n",
              "      <td>1</td>\n",
              "      <td>0</td>\n",
              "      <td>0</td>\n",
              "      <td>0</td>\n",
              "      <td>1</td>\n",
              "      <td>1</td>\n",
              "      <td>1</td>\n",
              "      <td>0</td>\n",
              "      <td>14</td>\n",
              "      <td>...</td>\n",
              "      <td>1</td>\n",
              "      <td>1</td>\n",
              "      <td>0</td>\n",
              "      <td>0</td>\n",
              "      <td>0</td>\n",
              "      <td>1</td>\n",
              "      <td>0</td>\n",
              "      <td>11</td>\n",
              "      <td>90</td>\n",
              "      <td>1</td>\n",
              "    </tr>\n",
              "    <tr>\n",
              "      <th>2</th>\n",
              "      <td>6</td>\n",
              "      <td>1</td>\n",
              "      <td>1</td>\n",
              "      <td>2</td>\n",
              "      <td>0</td>\n",
              "      <td>0</td>\n",
              "      <td>0</td>\n",
              "      <td>1</td>\n",
              "      <td>0</td>\n",
              "      <td>25</td>\n",
              "      <td>...</td>\n",
              "      <td>3</td>\n",
              "      <td>1</td>\n",
              "      <td>0</td>\n",
              "      <td>0</td>\n",
              "      <td>0</td>\n",
              "      <td>0</td>\n",
              "      <td>0</td>\n",
              "      <td>6</td>\n",
              "      <td>37</td>\n",
              "      <td>0</td>\n",
              "    </tr>\n",
              "    <tr>\n",
              "      <th>3</th>\n",
              "      <td>18</td>\n",
              "      <td>0</td>\n",
              "      <td>0</td>\n",
              "      <td>0</td>\n",
              "      <td>2</td>\n",
              "      <td>0</td>\n",
              "      <td>2</td>\n",
              "      <td>1</td>\n",
              "      <td>1</td>\n",
              "      <td>22</td>\n",
              "      <td>...</td>\n",
              "      <td>0</td>\n",
              "      <td>1</td>\n",
              "      <td>0</td>\n",
              "      <td>0</td>\n",
              "      <td>12</td>\n",
              "      <td>2</td>\n",
              "      <td>0</td>\n",
              "      <td>18</td>\n",
              "      <td>31</td>\n",
              "      <td>2</td>\n",
              "    </tr>\n",
              "    <tr>\n",
              "      <th>4</th>\n",
              "      <td>28</td>\n",
              "      <td>1</td>\n",
              "      <td>0</td>\n",
              "      <td>0</td>\n",
              "      <td>0</td>\n",
              "      <td>1</td>\n",
              "      <td>2</td>\n",
              "      <td>1</td>\n",
              "      <td>1</td>\n",
              "      <td>33</td>\n",
              "      <td>...</td>\n",
              "      <td>0</td>\n",
              "      <td>1</td>\n",
              "      <td>0</td>\n",
              "      <td>0</td>\n",
              "      <td>3</td>\n",
              "      <td>1</td>\n",
              "      <td>0</td>\n",
              "      <td>28</td>\n",
              "      <td>36</td>\n",
              "      <td>1</td>\n",
              "    </tr>\n",
              "  </tbody>\n",
              "</table>\n",
              "<p>5 rows × 23 columns</p>\n",
              "</div>"
            ],
            "text/plain": [
              "   Edad  Género  Diabetes  Tipo_de_Diabetes  Diarrea  Abdominal  \\\n",
              "0     6       0         0                 0        2          1   \n",
              "1    11       1         0                 0        0          1   \n",
              "2     6       1         1                 2        0          0   \n",
              "3    18       0         0                 0        2          0   \n",
              "4    28       1         0                 0        0          1   \n",
              "\n",
              "   Estatura_Baja  Heces_Pegajosas  Pérdida_de_Peso  IgA  ...  Tipo_cd  \\\n",
              "0              2                1                1    9  ...        5   \n",
              "1              1                1                0   14  ...        1   \n",
              "2              0                1                0   25  ...        3   \n",
              "3              2                1                1   22  ...        0   \n",
              "4              2                1                1   33  ...        0   \n",
              "\n",
              "   Diagnóstico_Enfermedad  Edad_por_Diabetes  Edad_por_Tipo_cd  \\\n",
              "0                       1                  0                 0   \n",
              "1                       1                  0                 0   \n",
              "2                       1                  0                 0   \n",
              "3                       1                  0                 0   \n",
              "4                       1                  0                 0   \n",
              "\n",
              "   Ratio_PerdidaPeso_Edad  Sintomas_Combinados  Comorbilidades_Diabeticas  \\\n",
              "0                      24                    3                          0   \n",
              "1                       0                    1                          0   \n",
              "2                       0                    0                          0   \n",
              "3                      12                    2                          0   \n",
              "4                       3                    1                          0   \n",
              "\n",
              "   Edad_Cuadratica  Relacion_IgA_IgG  Sintomas_por_Comb_Diabeticas  \n",
              "0                6                19                             3  \n",
              "1               11                90                             1  \n",
              "2                6                37                             0  \n",
              "3               18                31                             2  \n",
              "4               28                36                             1  \n",
              "\n",
              "[5 rows x 23 columns]"
            ]
          },
          "execution_count": 68,
          "metadata": {},
          "output_type": "execute_result"
        }
      ],
      "source": [
        "#Concatenar dataset de zeros y de ones\n",
        "df_final=pd.DataFrame(np.concatenate([df_ones, df_zeros],axis=0), columns=data.columns)\n",
        "print(df_final.shape)\n",
        "df_final.head()"
      ]
    },
    {
      "cell_type": "code",
      "execution_count": 69,
      "metadata": {
        "colab": {
          "base_uri": "https://localhost:8080/"
        },
        "id": "H-yOPtrWe_BD",
        "outputId": "cc62f3c4-feae-4609-c472-8698cba8efec"
      },
      "outputs": [
        {
          "name": "stdout",
          "output_type": "stream",
          "text": [
            "(246, 22) (246,)\n"
          ]
        }
      ],
      "source": [
        "y= df_final.Diagnóstico_Enfermedad\n",
        "X= df_final.drop(columns=target, axis=1)\n",
        "print(X.shape, y.shape)"
      ]
    },
    {
      "cell_type": "code",
      "execution_count": 70,
      "metadata": {
        "colab": {
          "base_uri": "https://localhost:8080/"
        },
        "id": "lZROuDFNfJNr",
        "outputId": "a00f07b8-4142-4399-f871-a0b4a8ddbcd1"
      },
      "outputs": [
        {
          "name": "stdout",
          "output_type": "stream",
          "text": [
            "(172, 22) (74, 22)\n"
          ]
        }
      ],
      "source": [
        "#Validación simple\n",
        "X_train,X_test, y_train, y_test = train_test_split(X, y, test_size=0.3, random_state=42)\n",
        "print(X_train.shape, X_test.shape)"
      ]
    },
    {
      "cell_type": "code",
      "execution_count": 75,
      "metadata": {
        "id": "x3VM6tSz6ak8"
      },
      "outputs": [],
      "source": [
        "model = LogisticRegression()\n",
        "\n",
        "# Lista de hiperparámetros\n",
        "params_1 = {'penalty': 'l2', 'C': 1.0}\n",
        "params_2 = {'penalty': 'l2', 'C': 0.5}\n",
        "params_3 = {'penalty': None, 'C': 2.0}"
      ]
    },
    {
      "cell_type": "code",
      "execution_count": 76,
      "metadata": {
        "colab": {
          "base_uri": "https://localhost:8080/"
        },
        "id": "n_5uggLZ6j6p",
        "outputId": "457287a3-7ca4-430a-afd4-a7d1475ea0b1"
      },
      "outputs": [
        {
          "name": "stdout",
          "output_type": "stream",
          "text": [
            "Accuracy para Modelo 1 = 0.94595\n",
            "Accuracy para Modelo 2 = 0.94595\n",
            "Accuracy para Modelo 3 = 0.93243\n"
          ]
        }
      ],
      "source": [
        "# Modelo 1\n",
        "model.set_params(**params_1).fit(X_train, y_train)\n",
        "print(f'Accuracy para Modelo 1 = {round(accuracy_score(y_test, model.predict(X_test)), 5)}')\n",
        "# Modelo 2\n",
        "model.set_params(**params_2).fit(X_train, y_train)\n",
        "print(f'Accuracy para Modelo 2 = {round(accuracy_score(y_test, model.predict(X_test)), 5)}')\n",
        "# Modelo 3\n",
        "model.set_params(**params_3).fit(X_train, y_train)\n",
        "print(f'Accuracy para Modelo 3 = {round(accuracy_score(y_test, model.predict(X_test)), 5)}')"
      ]
    },
    {
      "cell_type": "code",
      "execution_count": 77,
      "metadata": {
        "id": "9Y6Ug7RN-a-e"
      },
      "outputs": [],
      "source": [
        "from scipy.stats import uniform"
      ]
    },
    {
      "cell_type": "code",
      "execution_count": 78,
      "metadata": {
        "id": "_ToyuQ0-68FH"
      },
      "outputs": [],
      "source": [
        "\n",
        "params_grid ={'penalty': ['l1', 'l2', 'none'],\n",
        "                       'C': uniform(loc=0, scale=4)}"
      ]
    },
    {
      "cell_type": "markdown",
      "metadata": {
        "id": "oVRuZhHT-scR"
      },
      "source": [
        "# Randomized Search CV"
      ]
    },
    {
      "cell_type": "code",
      "execution_count": 79,
      "metadata": {
        "colab": {
          "base_uri": "https://localhost:8080/"
        },
        "id": "VCqDi4lW6-J8",
        "outputId": "0d3a091b-c26e-4b38-fc5a-768357f2a126"
      },
      "outputs": [
        {
          "name": "stdout",
          "output_type": "stream",
          "text": [
            "Mejores parametros {'C': 1.596188389900545, 'penalty': 'l2'}\n",
            "Mejor score de CV 0.901290582778786\n",
            "Accuracy del modelo = 0.94595\n"
          ]
        }
      ],
      "source": [
        "grid_cv = RandomizedSearchCV(model, params_grid, scoring=\"accuracy\", n_jobs=-1, cv=3)\n",
        "grid_cv.fit(X_train, y_train)\n",
        "\n",
        "print(\"Mejores parametros\", grid_cv.best_params_)\n",
        "print(\"Mejor score de CV\", grid_cv.best_score_)\n",
        "print(f'Accuracy del modelo = {round(accuracy_score(y_test, grid_cv.predict(X_test)), 5)}')"
      ]
    },
    {
      "cell_type": "markdown",
      "metadata": {
        "id": "xpxOzn5n-xZj"
      },
      "source": [
        "## Halving Randomized Search CV"
      ]
    },
    {
      "cell_type": "code",
      "execution_count": 80,
      "metadata": {
        "colab": {
          "base_uri": "https://localhost:8080/"
        },
        "id": "PYTb7CHj7EXK",
        "outputId": "24d59bae-b03b-478a-8752-cf0e5931f870"
      },
      "outputs": [
        {
          "name": "stdout",
          "output_type": "stream",
          "text": [
            "Mejores parametros {'C': 2.387400631785948, 'penalty': 'l2'}\n",
            "Mejor CV score 0.8257575757575758\n",
            "Accuracy del modelo = 0.94595\n"
          ]
        }
      ],
      "source": [
        "halving_cv = HalvingRandomSearchCV(model, params_grid, scoring=\"accuracy\", factor=3, random_state=42)\n",
        "halving_cv.fit(X_train, y_train)\n",
        "\n",
        "print(\"Mejores parametros\", halving_cv.best_params_)\n",
        "print(\"Mejor CV score\", halving_cv.best_score_)\n",
        "print(f'Accuracy del modelo = {round(accuracy_score(y_test, halving_cv.predict(X_test)), 5)}')"
      ]
    },
    {
      "cell_type": "markdown",
      "metadata": {
        "id": "V1w2lmQwAHwL"
      },
      "source": [
        "## Conclusión:\n",
        "Basándose en los resultados obtenidos de la optimización de hiperparámetros utilizando Halving Randomized Search CV y Randomized Search CV, así como la precisión del modelo sin optimización, se pueden extraer las siguientes conclusiones:\n",
        "\n",
        "La optimización de hiperparámetros mediante técnicas como Halving Randomized Search CV y Randomized Search CV ha demostrado mejorar el rendimiento del modelo de regresión logística en términos de precisión. Se observó que los mejores parámetros encontrados fueron diferentes en cada caso, con valores de C alrededor de 3.64 y 3.66 y con diferentes penalizaciones (l2 y none respectivamente). Estos resultados indican que la elección de los hiperparámetros puede influir significativamente en la capacidad predictiva del modelo.\n",
        "\n",
        "A pesar de que la optimización de hiperparámetros mejoró la precisión del modelo en comparación con el modelo sin optimizar, la diferencia en la precisión entre el modelo optimizado y el modelo sin optimizar no fue significativa.\n",
        "\n",
        "Esta observación sugiere que, si bien la optimización de hiperparámetros puede mejorar marginalmente el rendimiento del modelo, en este caso particular, la mejora en la precisión no fue lo suficientemente sustancial como para justificar el esfuerzo adicional requerido para realizar la optimización de hiperparámetros. Sin embargo, es importante tener en cuenta que otros aspectos del rendimiento del modelo, como la estabilidad, la generalización y la interpretabilidad, también deben ser considerados al evaluar la efectividad de la optimización de hiperparámetros."
      ]
    },
    {
      "cell_type": "markdown",
      "metadata": {
        "id": "2a7h_ZcSrYjq"
      },
      "source": [
        "# Conclusión Final:\n",
        "El modelo de regresión logística desarrollado para predecir la enfermedad celíaca ha demostrado un rendimiento excepcional con una precisión del 99.77%. Esta alta precisión sugiere que el modelo es capaz de aprender de manera efectiva a partir de los datos disponibles y generalizar adecuadamente para realizar predicciones precisas.\n",
        "\n",
        "El análisis de la curva de aprendizaje no reveló signos de overfitting o underfitting, lo que respalda la calidad del modelo. Esto significa que el modelo es capaz de ajustarse adecuadamente a los datos de entrenamiento y, al mismo tiempo, generalizar bien a nuevos datos, lo que es fundamental en el contexto médico.\n",
        "\n",
        "Las características seleccionadas, que incluyen variables como la edad, género, presencia de diabetes, tipo de diabetes y tipo de enfermedad celíaca, han demostrado ser informativas para la predicción de la enfermedad. Este modelo tiene el potencial de ser una herramienta valiosa para los profesionales de la salud en el diagnóstico y la toma de decisiones clínicas relacionadas con la enfermedad celíaca.\n",
        "\n",
        "Los resultados del modelo de Máquinas de Soporte Vectorial (SVM) muestran un desempeño impresionante con características seleccionadas, evidenciado por una precisión general del 98.5%. Este nivel de exactitud sugiere que el modelo es altamente efectivo para predecir si un paciente padece o no de celiaquía.\n",
        "\n",
        "La matriz de confusión revela que el modelo SVM logró identificar correctamente 27 de los casos negativos (no celiaquía) y todos los casos positivos (celiaquía), con solo 2 falsos positivos. Esto destaca la capacidad del modelo para minimizar los errores de clasificación, especialmente en la identificación de casos positivos, que son de particular importancia en el contexto médico.\n",
        "\n",
        "El reporte de clasificación proporciona detalles adicionales sobre la capacidad del modelo. La precisión y la recuperación son notables tanto para la clase 0 (no celiaquía) como para la clase 1 (celiaquía), indicando una capacidad equilibrada para la predicción en ambas categorías. La puntuación F1, que combina precisión y recuperación, también refleja un rendimiento sólido en ambas clases.\n",
        "\n",
        "Se puede observar a su vez, que en comparativa de los mismos modelos aplicados junto a la tecnica PCA, resultados muy similares en términos de precisión y otras métricas de evaluación; por lo que no se puede apreciar su impacto en los resultados.\n",
        "\n",
        "Es importante destacar que, aunque los resultados son prometedores, siempre se debe realizar una validación adicional del modelo en conjuntos de datos independientes para confirmar su robustez y capacidad de generalización en diferentes poblaciones. Además, se pueden explorar oportunidades para mejorar aún más el modelo y considerar la inclusión de nuevas características o datos clínicos."
      ]
    }
  ],
  "metadata": {
    "colab": {
      "authorship_tag": "ABX9TyPit1YWw7E22838S4WoClDn",
      "include_colab_link": true,
      "provenance": []
    },
    "kernelspec": {
      "display_name": "Python 3",
      "name": "python3"
    },
    "language_info": {
      "codemirror_mode": {
        "name": "ipython",
        "version": 3
      },
      "file_extension": ".py",
      "mimetype": "text/x-python",
      "name": "python",
      "nbconvert_exporter": "python",
      "pygments_lexer": "ipython3",
      "version": "3.9.5"
    }
  },
  "nbformat": 4,
  "nbformat_minor": 0
}
